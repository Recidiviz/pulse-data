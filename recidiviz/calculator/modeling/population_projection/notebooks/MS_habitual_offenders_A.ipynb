{
 "cells": [
  {
   "cell_type": "code",
   "execution_count": 1,
   "metadata": {},
   "outputs": [],
   "source": [
    "import os\n",
    "import sys\n",
    "\n",
    "sys.path.insert(0, os.path.relpath(\"../../../../..\"))"
   ]
  },
  {
   "cell_type": "code",
   "execution_count": 2,
   "metadata": {},
   "outputs": [],
   "source": [
    "\n",
    "from recidiviz.calculator.modeling.population_projection.simulations.super_simulation_factory import SuperSimulationFactory\n",
    "from recidiviz.calculator.modeling.population_projection.compartment_transitions import CompartmentTransitions\n",
    "from recidiviz.calculator.modeling.population_projection.release_transitions import ReleasedTransitions\n",
    "from recidiviz.calculator.modeling.population_projection.spark_policy import SparkPolicy\n",
    "import pandas as pd\n",
    "from functools import partial\n",
    "%config Completer.use_jedi = False"
   ]
  },
  {
   "cell_type": "code",
   "execution_count": 3,
   "metadata": {},
   "outputs": [
    {
     "name": "stderr",
     "output_type": "stream",
     "text": [
      "/Users/pacopoler/.local/share/virtualenvs/pulse-data-Jd9N3JcA/lib/python3.7/site-packages/google/cloud/bigquery/table.py:1770: UserWarning: A progress bar was requested, but there was an error loading the tqdm library. Please install tqdm to use the progress bar functionality.\n",
      "  create_bqstorage_client=create_bqstorage_client,\n"
     ]
    },
    {
     "name": "stdout",
     "output_type": "stream",
     "text": [
      "outflows_data returned 48 results\n",
      "transitions_data returned 10 results\n",
      "total_population_data returned 2 results\n"
     ]
    }
   ],
   "source": [
    "test_sim = SuperSimulationFactory.build_super_simulation(\n",
    "    \"../state/MS/habitual_sentencing/MS_prison_habitual_A_model_inputs.yaml\"\n",
    ")\n",
    "# test_sim.simulate_baseline(['prison', 'parole'])"
   ]
  },
  {
   "cell_type": "code",
   "execution_count": 4,
   "metadata": {},
   "outputs": [
    {
     "ename": "KeyError",
     "evalue": "'baseline'",
     "output_type": "error",
     "traceback": [
      "\u001b[0;31m---------------------------------------------------------------------------\u001b[0m",
      "\u001b[0;31mKeyError\u001b[0m                                  Traceback (most recent call last)",
      "\u001b[0;32m<ipython-input-4-7ec3eed1f2d6>\u001b[0m in \u001b[0;36m<module>\u001b[0;34m\u001b[0m\n\u001b[0;32m----> 1\u001b[0;31m \u001b[0mtest_sim\u001b[0m\u001b[0;34m.\u001b[0m\u001b[0mpop_simulations\u001b[0m\u001b[0;34m[\u001b[0m\u001b[0;34m'baseline'\u001b[0m\u001b[0;34m]\u001b[0m\u001b[0;34m.\u001b[0m\u001b[0mpopulation_projections\u001b[0m\u001b[0;34m.\u001b[0m\u001b[0mloc\u001b[0m\u001b[0;34m[\u001b[0m\u001b[0mtest_sim\u001b[0m\u001b[0;34m.\u001b[0m\u001b[0mpop_simulations\u001b[0m\u001b[0;34m[\u001b[0m\u001b[0;34m'baseline'\u001b[0m\u001b[0;34m]\u001b[0m\u001b[0;34m.\u001b[0m\u001b[0mpopulation_projections\u001b[0m\u001b[0;34m.\u001b[0m\u001b[0mtime_step\u001b[0m \u001b[0;34m==\u001b[0m \u001b[0;36m0\u001b[0m\u001b[0;34m]\u001b[0m\u001b[0;34m\u001b[0m\u001b[0;34m\u001b[0m\u001b[0m\n\u001b[0m",
      "\u001b[0;31mKeyError\u001b[0m: 'baseline'"
     ]
    }
   ],
   "source": [
    "test_sim.pop_simulations[\"baseline\"].population_projections.loc[\n",
    "    test_sim.pop_simulations[\"baseline\"].population_projections.time_step == 0\n",
    "]"
   ]
  },
  {
   "cell_type": "code",
   "execution_count": null,
   "metadata": {},
   "outputs": [],
   "source": [
    "test_sim.pop_simulations[\"baseline_min\"].sub_simulations[\n",
    "    \"50_and_under\"\n",
    "].simulation_compartments[\"prison\"].cohorts.cohort_df.sum()"
   ]
  },
  {
   "cell_type": "code",
   "execution_count": null,
   "metadata": {},
   "outputs": [],
   "source": [
    "test_sim.pop_simulations[\"baseline\"].sub_simulations[\n",
    "    \"50_and_under\"\n",
    "].simulation_compartments[\"prison\"].cohorts.get_per_ts_population()"
   ]
  },
  {
   "cell_type": "code",
   "execution_count": 4,
   "metadata": {},
   "outputs": [
    {
     "name": "stdout",
     "output_type": "stream",
     "text": [
      "  compartment outflow_to  compartment_duration  total_population        age\n",
      "0      prison     parole                     4                41  51_and_up\n",
      "1      prison     parole                     5                 0  51_and_up\n",
      "2      prison     parole                     6                 0  51_and_up\n",
      "3      prison     parole                     7                 1  51_and_up\n",
      "4      prison     parole                     8                 0  51_and_up\n",
      "5      prison     parole                     9                 0  51_and_up\n",
      "0      prison     parole                    10                11  51_and_up\n"
     ]
    },
    {
     "data": {
      "text/html": [
       "<div>\n",
       "<style scoped>\n",
       "    .dataframe tbody tr th:only-of-type {\n",
       "        vertical-align: middle;\n",
       "    }\n",
       "\n",
       "    .dataframe tbody tr th {\n",
       "        vertical-align: top;\n",
       "    }\n",
       "\n",
       "    .dataframe thead th {\n",
       "        text-align: right;\n",
       "    }\n",
       "</style>\n",
       "<table border=\"1\" class=\"dataframe\">\n",
       "  <thead>\n",
       "    <tr style=\"text-align: right;\">\n",
       "      <th></th>\n",
       "      <th>compartment</th>\n",
       "      <th>outflow_to</th>\n",
       "      <th>age</th>\n",
       "      <th>compartment_duration</th>\n",
       "      <th>total_population</th>\n",
       "    </tr>\n",
       "  </thead>\n",
       "  <tbody>\n",
       "    <tr>\n",
       "      <th>0</th>\n",
       "      <td>prison</td>\n",
       "      <td>parole</td>\n",
       "      <td>50_and_under</td>\n",
       "      <td>4</td>\n",
       "      <td>21</td>\n",
       "    </tr>\n",
       "    <tr>\n",
       "      <th>5</th>\n",
       "      <td>prison</td>\n",
       "      <td>parole</td>\n",
       "      <td>50_and_under</td>\n",
       "      <td>5</td>\n",
       "      <td>2</td>\n",
       "    </tr>\n",
       "    <tr>\n",
       "      <th>10</th>\n",
       "      <td>prison</td>\n",
       "      <td>parole</td>\n",
       "      <td>50_and_under</td>\n",
       "      <td>6</td>\n",
       "      <td>0</td>\n",
       "    </tr>\n",
       "    <tr>\n",
       "      <th>15</th>\n",
       "      <td>prison</td>\n",
       "      <td>parole</td>\n",
       "      <td>50_and_under</td>\n",
       "      <td>7</td>\n",
       "      <td>1</td>\n",
       "    </tr>\n",
       "    <tr>\n",
       "      <th>20</th>\n",
       "      <td>prison</td>\n",
       "      <td>parole</td>\n",
       "      <td>50_and_under</td>\n",
       "      <td>8</td>\n",
       "      <td>0</td>\n",
       "    </tr>\n",
       "    <tr>\n",
       "      <th>25</th>\n",
       "      <td>prison</td>\n",
       "      <td>parole</td>\n",
       "      <td>50_and_under</td>\n",
       "      <td>9</td>\n",
       "      <td>4</td>\n",
       "    </tr>\n",
       "    <tr>\n",
       "      <th>0</th>\n",
       "      <td>prison</td>\n",
       "      <td>parole</td>\n",
       "      <td>50_and_under</td>\n",
       "      <td>10</td>\n",
       "      <td>18</td>\n",
       "    </tr>\n",
       "  </tbody>\n",
       "</table>\n",
       "</div>"
      ],
      "text/plain": [
       "   compartment outflow_to           age  compartment_duration  \\\n",
       "0       prison     parole  50_and_under                     4   \n",
       "5       prison     parole  50_and_under                     5   \n",
       "10      prison     parole  50_and_under                     6   \n",
       "15      prison     parole  50_and_under                     7   \n",
       "20      prison     parole  50_and_under                     8   \n",
       "25      prison     parole  50_and_under                     9   \n",
       "0       prison     parole  50_and_under                    10   \n",
       "\n",
       "    total_population  \n",
       "0                 21  \n",
       "5                  2  \n",
       "10                 0  \n",
       "15                 1  \n",
       "20                 0  \n",
       "25                 4  \n",
       "0                 18  "
      ]
     },
     "execution_count": 4,
     "metadata": {},
     "output_type": "execute_result"
    }
   ],
   "source": [
    "TOTAL_YOUNG = 46\n",
    "TOTAL_OLD = 53\n",
    "\n",
    "policy_releases = pd.read_csv(\n",
    "    \"../state/MS/habitual_sentencing/MS_data/Outflows Data (Policy A Enacted)-Table 1.csv\"\n",
    ")\n",
    "old_releases = policy_releases[policy_releases.age != \"50_and_under\"]\n",
    "old_releases = (\n",
    "    old_releases.groupby([\"compartment\", \"outflow_to\", \"time_step\"])\n",
    "    .sum()\n",
    "    .total_population.reset_index()\n",
    "    .rename({\"time_step\": \"compartment_duration\"}, axis=1)\n",
    ")\n",
    "old_releases.compartment_duration += 1\n",
    "\n",
    "old_releases[\"age\"] = \"51_and_up\"\n",
    "young_releases = policy_releases[policy_releases.age == \"50_and_under\"].rename(\n",
    "    {\"time_step\": \"compartment_duration\"}, axis=1\n",
    ")\n",
    "young_releases.compartment_duration += 1\n",
    "\n",
    "old_releases = old_releases.append(\n",
    "    pd.DataFrame(\n",
    "        {\n",
    "            \"compartment_duration\": [10],\n",
    "            \"total_population\": [TOTAL_OLD - old_releases.total_population.sum()],\n",
    "        }\n",
    "    )\n",
    ").ffill()\n",
    "young_releases = young_releases.append(\n",
    "    pd.DataFrame(\n",
    "        {\n",
    "            \"compartment_duration\": [10],\n",
    "            \"total_population\": [TOTAL_YOUNG - young_releases.total_population.sum()],\n",
    "        }\n",
    "    )\n",
    ").ffill()\n",
    "print(old_releases)\n",
    "young_releases"
   ]
  },
  {
   "cell_type": "code",
   "execution_count": 5,
   "metadata": {},
   "outputs": [
    {
     "name": "stdout",
     "output_type": "stream",
     "text": [
      "initialization time:  6.122092008590698\n",
      "simulation_time:  0.5932800769805908\n",
      "initialization time:  6.02862286567688\n",
      "simulation_time:  0.6118390560150146\n"
     ]
    },
    {
     "data": {
      "image/png": "[encoded data removed]",
      "text/plain": [
       "<Figure size 432x288 with 1 Axes>"
      ]
     },
     "metadata": {
      "needs_background": "light"
     },
     "output_type": "display_data"
    }
   ],
   "source": [
    "# Policy Option Methods\n",
    "release_data = {\"50_and_under\": young_releases, \"51_and_up\": old_releases}\n",
    "\n",
    "\n",
    "def remove_life_sentences(age, retroactive=False):\n",
    "    return partial(\n",
    "        CompartmentTransitions.use_alternate_transitions_data,\n",
    "        alternate_historical_transitions=release_data[age],\n",
    "        retroactive=retroactive,\n",
    "    )\n",
    "\n",
    "\n",
    "policy_list_non_retroactive = [\n",
    "    SparkPolicy(\n",
    "        policy_fn=remove_life_sentences(age, False),\n",
    "        spark_compartment=\"prison\",\n",
    "        sub_population={\"age\": age},\n",
    "        apply_retroactive=False,\n",
    "    )\n",
    "    for age in release_data\n",
    "]\n",
    "\n",
    "\n",
    "cost_multipliers = pd.DataFrame({\"age\": [\"51_and_up\"], \"multiplier\": [2]})\n",
    "\n",
    "test_results = test_sim.simulate_policy(\n",
    "    policy_list_non_retroactive, \"prison\", cost_multipliers\n",
    ")"
   ]
  },
  {
   "cell_type": "code",
   "execution_count": 7,
   "metadata": {},
   "outputs": [],
   "source": [
    "simulation_tag = \"MS_habitual_A\"\n",
    "test_sim.upload_simulation_results_to_bq(\"recidiviz-staging\", simulation_tag)"
   ]
  },
  {
   "cell_type": "code",
   "execution_count": 6,
   "metadata": {},
   "outputs": [
    {
     "data": {
      "text/html": [
       "<div>\n",
       "<style scoped>\n",
       "    .dataframe tbody tr th:only-of-type {\n",
       "        vertical-align: middle;\n",
       "    }\n",
       "\n",
       "    .dataframe tbody tr th {\n",
       "        vertical-align: top;\n",
       "    }\n",
       "\n",
       "    .dataframe thead th {\n",
       "        text-align: right;\n",
       "    }\n",
       "</style>\n",
       "<table border=\"1\" class=\"dataframe\">\n",
       "  <thead>\n",
       "    <tr style=\"text-align: right;\">\n",
       "      <th></th>\n",
       "      <th>prison</th>\n",
       "      <th>parole</th>\n",
       "    </tr>\n",
       "    <tr>\n",
       "      <th>year</th>\n",
       "      <th></th>\n",
       "      <th></th>\n",
       "    </tr>\n",
       "  </thead>\n",
       "  <tbody>\n",
       "    <tr>\n",
       "      <th>2017</th>\n",
       "      <td>0.000000</td>\n",
       "      <td>0.000000</td>\n",
       "    </tr>\n",
       "    <tr>\n",
       "      <th>2018</th>\n",
       "      <td>0.000000</td>\n",
       "      <td>0.000000</td>\n",
       "    </tr>\n",
       "    <tr>\n",
       "      <th>2019</th>\n",
       "      <td>0.000000</td>\n",
       "      <td>0.000000</td>\n",
       "    </tr>\n",
       "    <tr>\n",
       "      <th>2020</th>\n",
       "      <td>0.000000</td>\n",
       "      <td>0.000000</td>\n",
       "    </tr>\n",
       "    <tr>\n",
       "      <th>2021</th>\n",
       "      <td>85626.881152</td>\n",
       "      <td>-3609.141461</td>\n",
       "    </tr>\n",
       "    <tr>\n",
       "      <th>2022</th>\n",
       "      <td>780144.500201</td>\n",
       "      <td>-32882.802959</td>\n",
       "    </tr>\n",
       "    <tr>\n",
       "      <th>2023</th>\n",
       "      <td>1445286.740961</td>\n",
       "      <td>-60918.303096</td>\n",
       "    </tr>\n",
       "    <tr>\n",
       "      <th>2024</th>\n",
       "      <td>2083598.214526</td>\n",
       "      <td>-87822.896292</td>\n",
       "    </tr>\n",
       "    <tr>\n",
       "      <th>2025</th>\n",
       "      <td>2722293.093778</td>\n",
       "      <td>-114743.649896</td>\n",
       "    </tr>\n",
       "    <tr>\n",
       "      <th>2026</th>\n",
       "      <td>3381731.184823</td>\n",
       "      <td>-142538.722226</td>\n",
       "    </tr>\n",
       "  </tbody>\n",
       "</table>\n",
       "</div>"
      ],
      "text/plain": [
       "              prison         parole\n",
       "year                               \n",
       "2017        0.000000       0.000000\n",
       "2018        0.000000       0.000000\n",
       "2019        0.000000       0.000000\n",
       "2020        0.000000       0.000000\n",
       "2021    85626.881152   -3609.141461\n",
       "2022   780144.500201  -32882.802959\n",
       "2023  1445286.740961  -60918.303096\n",
       "2024  2083598.214526  -87822.896292\n",
       "2025  2722293.093778 -114743.649896\n",
       "2026  3381731.184823 -142538.722226"
      ]
     },
     "execution_count": 6,
     "metadata": {},
     "output_type": "execute_result"
    }
   ],
   "source": [
    "test_sim.output_data[\"cost_avoidance\"]"
   ]
  }
 ],
 "metadata": {
  "kernelspec": {
   "display_name": "Python 3",
   "language": "python",
   "name": "python3"
  },
  "language_info": {
   "codemirror_mode": {
    "name": "ipython",
    "version": 3
   },
   "file_extension": ".py",
   "mimetype": "text/x-python",
   "name": "python",
   "nbconvert_exporter": "python",
   "pygments_lexer": "ipython3",
   "version": "3.7.3"
  }
 },
 "nbformat": 4,
 "nbformat_minor": 4
}
