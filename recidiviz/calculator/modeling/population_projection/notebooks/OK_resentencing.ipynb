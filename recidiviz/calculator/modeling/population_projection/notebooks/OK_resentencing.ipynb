{
 "cells": [
  {
   "cell_type": "code",
   "execution_count": 1,
   "metadata": {},
   "outputs": [],
   "source": [
    "import os\n",
    "import sys\n",
    "\n",
    "sys.path.insert(0, os.path.relpath(\"../../../../..\"))"
   ]
  },
  {
   "cell_type": "code",
   "execution_count": 2,
   "metadata": {},
   "outputs": [],
   "source": [
    "\n",
    "from recidiviz.calculator.modeling.population_projection.simulations.super_simulation.super_simulation_factory import SuperSimulationFactory\n",
    "from recidiviz.calculator.modeling.population_projection.simulations.compartment_transitions import CompartmentTransitions\n",
    "from recidiviz.calculator.modeling.population_projection.spark_policy import SparkPolicy\n",
    "from recidiviz.calculator.modeling.population_projection.shell_compartment import ShellCompartment\n",
    "import pandas as pd\n",
    "from functools import partial\n",
    "import yaml\n",
    "%config Completer.use_jedi = False"
   ]
  },
  {
   "cell_type": "code",
   "execution_count": 3,
   "metadata": {},
   "outputs": [
    {
     "name": "stderr",
     "output_type": "stream",
     "text": [
      "/Users/pacopoler/.local/share/virtualenvs/pulse-data-Jd9N3JcA/lib/python3.7/site-packages/google/cloud/bigquery/table.py:1770: UserWarning: A progress bar was requested, but there was an error loading the tqdm library. Please install tqdm to use the progress bar functionality.\n",
      "  create_bqstorage_client=create_bqstorage_client,\n"
     ]
    },
    {
     "name": "stdout",
     "output_type": "stream",
     "text": [
      "outflows_data returned 264 results\n",
      "transitions_data returned 41 results\n",
      "total_population_data returned 0 results\n"
     ]
    }
   ],
   "source": [
    "test_sim = SuperSimulationFactory.build_super_simulation(\n",
    "    \"../state/OK/OK_resentencing/OK_prison_model_inputs.yaml\"\n",
    ")\n",
    "# commented this out once I'm working on the policy but this should be the first thing you run to make sure the simulation is functional\n",
    "# test_sim.simulate_baseline(['prison', 'release'])"
   ]
  },
  {
   "cell_type": "code",
   "execution_count": 4,
   "metadata": {
    "scrolled": true
   },
   "outputs": [
    {
     "name": "stdout",
     "output_type": "stream",
     "text": [
      "initialization time:  5.244491100311279\n",
      "initialization time:  5.176962852478027\n",
      "simulation_time:  6.111749887466431\n",
      "simulation_time:  6.115540981292725\n"
     ]
    },
    {
     "data": {
      "image/png": "[encoded data removed]",
      "text/plain": [
       "<Figure size 432x288 with 1 Axes>"
      ]
     },
     "metadata": {
      "needs_background": "light"
     },
     "output_type": "display_data"
    }
   ],
   "source": [
    "pd.set_option(\"display.max_rows\", 500)\n",
    "\n",
    "# Policy Option Methods\n",
    "policy_transitions = pd.DataFrame(\n",
    "    {\n",
    "        \"compartment\": [\"prison\"] * 7,\n",
    "        \"outflow_to\": [\"release\"] * 7,\n",
    "        \"compartment_duration\": [\n",
    "            1038.80 / 365 * 12,\n",
    "            979.10 / 365 * 12,\n",
    "            1010.20 / 365 * 12,\n",
    "            988.6 / 365 * 12,\n",
    "            1171.70 / 365 * 12,\n",
    "            1009.80 / 365 * 12,\n",
    "            943.80 / 365 * 12,\n",
    "        ],\n",
    "        \"total_population\": [1] * 7,\n",
    "        \"crime_type\": [\"NA\"] * 7,\n",
    "    }\n",
    ")\n",
    "policy_outflows = test_sim.initializer.data_dict[\"outflows_data\"][\n",
    "    (test_sim.initializer.data_dict[\"outflows_data\"].compartment == \"pretrial\")\n",
    "    & (test_sim.initializer.data_dict[\"outflows_data\"].time_step < 96)\n",
    "]\n",
    "\n",
    "\n",
    "def resentencing_transitions(retroactive=False):\n",
    "    return partial(\n",
    "        CompartmentTransitions.use_alternate_transitions_data,\n",
    "        alternate_historical_transitions=policy_transitions,\n",
    "        retroactive=retroactive,\n",
    "    )\n",
    "\n",
    "\n",
    "def resentencing_outflows():\n",
    "    return partial(\n",
    "        ShellCompartment.use_alternate_outflows_data,\n",
    "        alternate_outflows_data=policy_outflows,\n",
    "    )\n",
    "\n",
    "\n",
    "policy_list_non_retroactive = [\n",
    "    SparkPolicy(\n",
    "        policy_fn=resentencing_transitions(),\n",
    "        spark_compartment=\"prison\",\n",
    "        sub_population={\"crime_type\": \"NA\"},\n",
    "        apply_retroactive=False,\n",
    "    ),\n",
    "    SparkPolicy(\n",
    "        policy_fn=resentencing_outflows(),\n",
    "        spark_compartment=\"pretrial\",\n",
    "        sub_population={\"crime_type\": \"NA\"},\n",
    "        apply_retroactive=False,\n",
    "    ),\n",
    "]\n",
    "\n",
    "test_results = test_sim.simulate_policy(policy_list_non_retroactive, \"prison\")"
   ]
  },
  {
   "cell_type": "code",
   "execution_count": 5,
   "metadata": {},
   "outputs": [],
   "source": [
    "simulation_tag = \"OK_resentencing\"\n",
    "test_sim.upload_simulation_results_to_bq(simulation_tag)"
   ]
  },
  {
   "cell_type": "code",
   "execution_count": 9,
   "metadata": {},
   "outputs": [
    {
     "data": {
      "text/html": [
       "<div>\n",
       "<style scoped>\n",
       "    .dataframe tbody tr th:only-of-type {\n",
       "        vertical-align: middle;\n",
       "    }\n",
       "\n",
       "    .dataframe tbody tr th {\n",
       "        vertical-align: top;\n",
       "    }\n",
       "\n",
       "    .dataframe thead th {\n",
       "        text-align: right;\n",
       "    }\n",
       "</style>\n",
       "<table border=\"1\" class=\"dataframe\">\n",
       "  <thead>\n",
       "    <tr style=\"text-align: right;\">\n",
       "      <th></th>\n",
       "      <th>compartment</th>\n",
       "      <th>outflow_to</th>\n",
       "      <th>compartment_duration</th>\n",
       "      <th>total_population</th>\n",
       "      <th>crime_type</th>\n",
       "    </tr>\n",
       "  </thead>\n",
       "  <tbody>\n",
       "    <tr>\n",
       "      <th>0</th>\n",
       "      <td>prison</td>\n",
       "      <td>release</td>\n",
       "      <td>73.052055</td>\n",
       "      <td>1</td>\n",
       "      <td>NA</td>\n",
       "    </tr>\n",
       "    <tr>\n",
       "      <th>1</th>\n",
       "      <td>prison</td>\n",
       "      <td>release</td>\n",
       "      <td>75.327123</td>\n",
       "      <td>1</td>\n",
       "      <td>NA</td>\n",
       "    </tr>\n",
       "    <tr>\n",
       "      <th>2</th>\n",
       "      <td>prison</td>\n",
       "      <td>release</td>\n",
       "      <td>76.615890</td>\n",
       "      <td>1</td>\n",
       "      <td>NA</td>\n",
       "    </tr>\n",
       "    <tr>\n",
       "      <th>3</th>\n",
       "      <td>prison</td>\n",
       "      <td>release</td>\n",
       "      <td>76.277260</td>\n",
       "      <td>1</td>\n",
       "      <td>NA</td>\n",
       "    </tr>\n",
       "    <tr>\n",
       "      <th>4</th>\n",
       "      <td>prison</td>\n",
       "      <td>release</td>\n",
       "      <td>81.692055</td>\n",
       "      <td>1</td>\n",
       "      <td>NA</td>\n",
       "    </tr>\n",
       "    <tr>\n",
       "      <th>5</th>\n",
       "      <td>prison</td>\n",
       "      <td>release</td>\n",
       "      <td>79.298630</td>\n",
       "      <td>1</td>\n",
       "      <td>NA</td>\n",
       "    </tr>\n",
       "    <tr>\n",
       "      <th>6</th>\n",
       "      <td>prison</td>\n",
       "      <td>release</td>\n",
       "      <td>78.325479</td>\n",
       "      <td>1</td>\n",
       "      <td>NA</td>\n",
       "    </tr>\n",
       "  </tbody>\n",
       "</table>\n",
       "</div>"
      ],
      "text/plain": [
       "  compartment outflow_to  compartment_duration  total_population crime_type\n",
       "0      prison    release             73.052055                 1         NA\n",
       "1      prison    release             75.327123                 1         NA\n",
       "2      prison    release             76.615890                 1         NA\n",
       "3      prison    release             76.277260                 1         NA\n",
       "4      prison    release             81.692055                 1         NA\n",
       "5      prison    release             79.298630                 1         NA\n",
       "6      prison    release             78.325479                 1         NA"
      ]
     },
     "execution_count": 9,
     "metadata": {},
     "output_type": "execute_result"
    }
   ],
   "source": [
    "policy_transitions.index = policy_transitions.crime_type\n",
    "policy_transitions"
   ]
  },
  {
   "cell_type": "code",
   "execution_count": 8,
   "metadata": {},
   "outputs": [
    {
     "data": {
      "text/plain": [
       "{'before':     parole  remaining\n",
       " 1      0.0        1.0\n",
       " 2      0.0        1.0\n",
       " 3      0.0        1.0\n",
       " 4      0.0        1.0\n",
       " 5      0.0        1.0\n",
       " 6      0.0        1.0\n",
       " 7      0.0        1.0\n",
       " 8      0.0        1.0\n",
       " 9      0.0        1.0\n",
       " 10     0.0        1.0\n",
       " 11     0.0        1.0\n",
       " 12     0.0        1.0\n",
       " 13     0.0        1.0\n",
       " 14     0.0        1.0\n",
       " 15     0.0        1.0\n",
       " 16     1.0        0.0,\n",
       " 'transitory':     parole  remaining\n",
       " 1      0.0        1.0\n",
       " 2      0.0        1.0\n",
       " 3      0.0        1.0\n",
       " 4      0.0        1.0\n",
       " 5      0.0        1.0\n",
       " 6      0.0        1.0\n",
       " 7      0.0        1.0\n",
       " 8      0.0        1.0\n",
       " 9      0.0        1.0\n",
       " 10     0.0        1.0\n",
       " 11     0.0        1.0\n",
       " 12     0.0        1.0\n",
       " 13     0.0        1.0\n",
       " 14     0.0        1.0\n",
       " 15     0.0        1.0\n",
       " 16     1.0        0.0,\n",
       " 'after_retroactive':     parole  remaining\n",
       " 1      0.0        1.0\n",
       " 2      0.0        1.0\n",
       " 3      0.0        1.0\n",
       " 4      0.0        1.0\n",
       " 5      0.0        1.0\n",
       " 6      0.0        1.0\n",
       " 7      0.0        1.0\n",
       " 8      0.0        1.0\n",
       " 9      0.0        1.0\n",
       " 10     0.0        1.0\n",
       " 11     0.0        1.0\n",
       " 12     0.0        1.0\n",
       " 13     0.0        1.0\n",
       " 14     0.0        1.0\n",
       " 15     0.0        1.0\n",
       " 16     1.0        0.0,\n",
       " 'after_non_retroactive':     parole  remaining\n",
       " 1      0.0        1.0\n",
       " 2      0.0        1.0\n",
       " 3      0.0        1.0\n",
       " 4      0.0        1.0\n",
       " 5      0.0        1.0\n",
       " 6      0.0        1.0\n",
       " 7      0.0        1.0\n",
       " 8      0.0        1.0\n",
       " 9      0.0        1.0\n",
       " 10     0.0        1.0\n",
       " 11     0.0        1.0\n",
       " 12     0.0        1.0\n",
       " 13     0.0        1.0\n",
       " 14     0.0        1.0\n",
       " 15     0.0        1.0\n",
       " 16     1.0        0.0}"
      ]
     },
     "execution_count": 8,
     "metadata": {},
     "output_type": "execute_result"
    }
   ],
   "source": [
    "test_sim.pop_simulations[\"control\"].sub_simulations[\"x\"].simulation_compartments[\n",
    "    \"prison_parole_revocations\"\n",
    "].transition_tables.transition_dfs"
   ]
  },
  {
   "cell_type": "code",
   "execution_count": 4,
   "metadata": {},
   "outputs": [],
   "source": [
    "test_data = pd.DataFrame(\n",
    "    {\n",
    "        \"compartment_duration\": [1, 2, 5],\n",
    "        \"total_population\": [2, 4, 1],\n",
    "        \"outflow_to\": [\"jail\", \"jail\", \"jail\"],\n",
    "        \"compartment\": [\"test_compartment\"] * 3,\n",
    "    }\n",
    ")\n",
    "new_data = pd.DataFrame(\n",
    "    {\n",
    "        \"compartment_duration\": [1, 2, 3],\n",
    "        \"total_population\": [1, 2, 4],\n",
    "        \"outflow_to\": [\"jail\", \"jail\", \"jail\"],\n",
    "        \"compartment\": [\"test_compartment\"] * 3,\n",
    "    }\n",
    ")\n",
    "\n",
    "\n",
    "def policy():\n",
    "    return partial(\n",
    "        CompartmentTransitions.use_alternate_transitions_data,\n",
    "        alternate_historical_transitions=new_data,\n",
    "        retroactive=True,\n",
    "    )\n",
    "\n",
    "\n",
    "t = CompartmentTransitions(test_data)\n",
    "t.initialize(\n",
    "    [\n",
    "        SparkPolicy(\n",
    "            policy_fn=policy(),\n",
    "            spark_compartment=\"prison\",\n",
    "            sub_population={\"crime_type\": \"x\"},\n",
    "            apply_retroactive=True,\n",
    "        )\n",
    "    ]\n",
    ")"
   ]
  },
  {
   "cell_type": "code",
   "execution_count": 5,
   "metadata": {},
   "outputs": [
    {
     "data": {
      "text/plain": [
       "{'before': outflow_to                jail  remaining\n",
       " compartment_duration                     \n",
       " 1                     0.285714   0.714286\n",
       " 2                     0.800000   0.200000\n",
       " 3                     0.000000   1.000000\n",
       " 4                     0.000000   1.000000\n",
       " 5                     1.000000   0.000000,\n",
       " 'transitory': outflow_to                jail  remaining\n",
       " compartment_duration                     \n",
       " 1                     0.142857   0.857143\n",
       " 2                     0.200000   0.800000\n",
       " 3                     1.000000   0.000000\n",
       " 4                     1.000000   0.000000\n",
       " 5                     1.000000   0.000000,\n",
       " 'after_retroactive': outflow_to                jail  remaining\n",
       " compartment_duration                     \n",
       " 1                     0.142857   0.857143\n",
       " 2                     0.333333   0.666667\n",
       " 3                     1.000000   0.000000\n",
       " 4                     1.000000   0.000000\n",
       " 5                     1.000000   0.000000,\n",
       " 'after_non_retroactive': outflow_to                jail  remaining\n",
       " compartment_duration                     \n",
       " 1                     0.142857   0.857143\n",
       " 2                     0.333333   0.666667\n",
       " 3                     1.000000   0.000000\n",
       " 4                     1.000000   0.000000\n",
       " 5                     1.000000   0.000000}"
      ]
     },
     "execution_count": 5,
     "metadata": {},
     "output_type": "execute_result"
    }
   ],
   "source": [
    "t.transition_dfs"
   ]
  },
  {
   "cell_type": "code",
   "execution_count": null,
   "metadata": {},
   "outputs": [],
   "source": [
    "test_sim.data_dict[\"transitions_data\"]"
   ]
  }
 ],
 "metadata": {
  "kernelspec": {
   "display_name": "Python 3",
   "language": "python",
   "name": "python3"
  },
  "language_info": {
   "codemirror_mode": {
    "name": "ipython",
    "version": 3
   },
   "file_extension": ".py",
   "mimetype": "text/x-python",
   "name": "python",
   "nbconvert_exporter": "python",
   "pygments_lexer": "ipython3",
   "version": "3.7.3"
  }
 },
 "nbformat": 4,
 "nbformat_minor": 4
}
