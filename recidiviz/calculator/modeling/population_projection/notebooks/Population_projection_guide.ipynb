{
 "cells": [
  {
   "cell_type": "markdown",
   "metadata": {},
   "source": [
    "# Welcome to Population Projection!!\n",
    "\n",
    "This notebook will help you build a feel for what our population projection modeling can do for you. To use it, go down the notebook editing the user inputs (**Look for the #USER INPUTS header!**) in each cell to play with the results. To run a cell, select it and hit the \"Run\" button (or hit Shift+Enter on your keyboard). Each time you open this notebook, you should run the \"Setup\" section exactly once, then you may skip forward and run whatever cell/section you'd like, as long as you run the first cell in a section before the rest.\n",
    "\n",
    "FYI, most of the cells will take 20-60s to run. You tell a cell is still running if it has a (*) next to it.\n",
    "\n",
    "As a preface, here are some high level Pros / Cons:\n",
    "\n",
    "### Pros:\n",
    "* Can be arbitrarily lightweight. At its most basic, this model can be run with two numbers: the average prison admissions and the average prison LOS. In the other extreme, it can also be run with DSA data to produce a pretty robust population projection. The key point is that in either case the work is mostly done before you start.\n",
    "* Dynamically captures inter-relatedness of different parts of the Justice System (e.g. modeling sentence reductions will cause an increase in revocations from having more people released earlier).\n",
    "* Captures order-of-magnitude \"back-of-the-napkin\" effects robustly and super, super efficiently (e.g. If we abolish mandatory minimums in our state, what will the ballpark population reduction be?)\n",
    "\n",
    "### Cons:\n",
    "* Limit to the accuracy of policy simulation. As you'll discover below, the model uses a set of simple parameters to define the policy effects. Often, those parameters have to be guesstimated. The uncertainty associated with these parameters is what makes it difficult to get past a ballpark estimate.\n",
    "* Cannot capture some second order effects. For example, the question of how early release will affect the revocatino rate (e.g. whether people will commit more crime if they're released early vs. serve a full sentence) is difficult to incorporate into a policy projection.\n",
    "\n"
   ]
  },
  {
   "cell_type": "markdown",
   "metadata": {},
   "source": [
    "# Setup"
   ]
  },
  {
   "cell_type": "code",
   "execution_count": null,
   "metadata": {},
   "outputs": [],
   "source": [
    "import os\n",
    "import sys\n",
    "sys.path.insert(0, os.path.relpath('../../../../..')) \n",
    "\n"
   ]
  },
  {
   "cell_type": "code",
   "execution_count": null,
   "metadata": {},
   "outputs": [],
   "source": [
    "from recidiviz.calculator.modeling.population_projection.simulations.super_simulation.super_simulation_factory import SuperSimulationFactory\n",
    "from recidiviz.calculator.modeling.population_projection.spark_policy import SparkPolicy\n",
    "from recidiviz.calculator.modeling.population_projection.simulations.transition_table import TransitionTable\n",
    "from recidiviz.calculator.modeling.population_projection.utils.transitions_utils import TransitionTableType\n",
    "from functools import partial\n",
    "import pandas as pd\n",
    "import numpy as np\n",
    "import matplotlib.pyplot as plt\n",
    "%config Completer.use_jedi = False\n",
    "\n",
    "#Built this notebook with ID, but it's easy to adapt to ND so ping Paco if you're interested.\n",
    "test_sim = SuperSimulationFactory.build_super_simulation('../microsimulations/us_id_model_inputs.yaml')"
   ]
  },
  {
   "cell_type": "markdown",
   "metadata": {},
   "source": [
    "# Analyzing Baseline Dynamics\n",
    "\n",
    "This simulation has nine \"compartments,\" two \"shell\" compartments that feed new people into the system and seven \"full\" compartments which contain people as they move through the system.\n",
    "\n",
    "* PRETRIAL (shell): This is where new people enter the justice system who have never been justice-involved before.\n",
    "* RELEASE (shell): This is where people re-enter the justice system who have been justice-involved, then fully released.\n",
    "* INCARCERATION - TREATMENT_IN_PRISON (full): incarcerated people participating in a treatment program.\n",
    "* INCARCERATION - PAROLE_BOARD_HOLD (full): incarcerated people who are either recently revoked from parole or about to be released to parole. Typically short stays followed by release or transition to proper incarceration.\n",
    "* INCARCERATION - GENERAL (full): incarcerated people who are not in any of the above INCARCERATION compartments and are in prison for the first time.\n",
    "* INCARCERATION - GENERAL (full): incarcerated people who are not in any of the above INCARCERATION compartments and are in prison for the second or subsequent time.\n",
    "* SUPERVISION - PAROLE (full): people on parole supervision\n",
    "* SUPERVISION - PROBATION (full): people on probation supervision\n",
    "* RELEASE - RELEASE (full): people fully released from the justice system (Note: this simulation makes a simplifying assumption that makes it appear as though no people recidivate from this compartment. Ping Paco if you're interested in understanding this piece further).\n",
    "\n",
    "The simplest thing you can do with the population projection model is run a baseline, which is to say a vanilla projection of the current population forward. In the next cell, you'll run that simulation."
   ]
  },
  {
   "cell_type": "code",
   "execution_count": null,
   "metadata": {},
   "outputs": [],
   "source": [
    "# USER_INPUTS\n",
    "# fill in list with whichever full compartments' populations you would like to see at the end of the simulation\n",
    "DISPLAY_COMPARTMENTS = ['INCARCERATION - GENERAL', 'SUPERVISION - PAROLE', 'SUPERVISION - PROBATION']\n",
    "\n",
    "######################################################################################################################\n",
    "\n",
    "test_sim.simulate_baseline(DISPLAY_COMPARTMENTS)"
   ]
  },
  {
   "cell_type": "markdown",
   "metadata": {},
   "source": [
    "### LOS distributions\n",
    "The population projection model makes it really easy to ascertain how long people are staying in different places and where they're going next. In the next cell, you'll see the cumulative probability distribution (cdf) for the compartment of your choice. This graph measures the total fraction of a cohort has left to different places over time."
   ]
  },
  {
   "cell_type": "code",
   "execution_count": null,
   "metadata": {},
   "outputs": [],
   "source": [
    "# USER INPUTS (heads up that this one takes a good while to run)\n",
    "# Pick a compartment to analyze, then optionally replace the `None` with a list of outflow compartments\n",
    "#    you want to see. If you leave it as None it'll just show all of them.\n",
    "GENDER = 'MALE'\n",
    "MAX_LOS_TO_DISPLAY = 240 # this is in months\n",
    "ANALYSIS_COMPARTMENT = 'SUPERVISION - PAROLE'\n",
    "OUTFLOWS_OF_INTEREST = None\n",
    "\n",
    "######################################################################################################################\n",
    "\n",
    "transition_table = test_sim.simulator.pop_simulations['baseline_middle'].sub_simulations[GENDER]\\\n",
    "    .simulation_compartments[ANALYSIS_COMPARTMENT].compartment_transitions.transition_tables[1]\n",
    "\n",
    "transition_table.unnormalize_table(state=TransitionTableType.AFTER)\n",
    "\n",
    "transitions = transition_table.transition_dfs[TransitionTableType.AFTER]\n",
    "\n",
    "outflows = OUTFLOWS_OF_INTEREST or transitions.columns\n",
    "transitions[outflows].cumsum().iloc[:MAX_LOS_TO_DISPLAY].plot(xlabel='LOS (months)', ylabel='fraction exitted')\n",
    "plt.legend(bbox_to_anchor=(1.05, 1), loc='upper left')\n",
    "\n",
    "transition_table._normalize_table(TransitionTableType.AFTER)\n",
    "\n",
    "print(\"LOS distribution stats:\")\n",
    "hist_data = test_sim.simulator.pop_simulations['baseline_middle'].sub_simulations[GENDER]\\\n",
    "    .simulation_compartments[ANALYSIS_COMPARTMENT].compartment_transitions.historical_outflows\n",
    "\n",
    "disg_data = pd.DataFrame()\n",
    "for _, row in hist_data.iterrows():\n",
    "    for i in range(int(row.total_population)):\n",
    "        disg_data = disg_data.append(row)\n",
    "\n",
    "disg_data.compartment_duration.describe()"
   ]
  },
  {
   "cell_type": "markdown",
   "metadata": {},
   "source": [
    "### Comparing across sub-groups\n",
    "Another analysis that's easy to play with using the population projection model is cross-group comparisons. In this case, we can only compare across gender, but it's very common to compare across different crimes, ages, races in other population projections (including policies that affect different groups differently, by the way). In the next cell, pick a specific flow between two compartments to compare between genders."
   ]
  },
  {
   "cell_type": "code",
   "execution_count": null,
   "metadata": {},
   "outputs": [],
   "source": [
    "# USER INPUTS (heads up that this one takes a good while to run)\n",
    "# Pick an `leaving from` and `arriving at` compartment to define the start and endpoint of \n",
    "#     the flow you're interested in visualizing.\n",
    "MAX_LOS_TO_DISPLAY = 150 # this is in months\n",
    "LEAVING_FROM = 'SUPERVISION - PROBATION'\n",
    "ARRIVING_AT = 'INCARCERATION - RE-INCARCERATION'\n",
    "\n",
    "######################################################################################################################\n",
    "\n",
    "transition_table_male = test_sim.simulator.pop_simulations['baseline_middle'].sub_simulations['MALE']\\\n",
    "    .simulation_compartments[LEAVING_FROM].compartment_transitions.transition_tables[1]\n",
    "\n",
    "transition_table_male.unnormalize_table(state=TransitionTableType.AFTER)\n",
    "\n",
    "transition_table_female = test_sim.simulator.pop_simulations['baseline_middle'].sub_simulations['FEMALE']\\\n",
    "    .simulation_compartments[LEAVING_FROM].compartment_transitions.transition_tables[1]\n",
    "\n",
    "transition_table_female.unnormalize_table(state=TransitionTableType.AFTER)\n",
    "\n",
    "transitions = pd.DataFrame()\n",
    "transitions['MALE'] = transition_table_male.transition_dfs[TransitionTableType.AFTER][ARRIVING_AT]\n",
    "transitions['FEMALE'] = transition_table_female.transition_dfs[TransitionTableType.AFTER][ARRIVING_AT]\n",
    "\n",
    "transitions.cumsum().iloc[:MAX_LOS_TO_DISPLAY].plot(xlabel='LOS (months)', ylabel='fraction exitted')\n",
    "plt.legend(bbox_to_anchor=(1.05, 1), loc='upper left')\n",
    "\n",
    "transition_table_male._normalize_table(TransitionTableType.AFTER)\n",
    "transition_table_female._normalize_table(TransitionTableType.AFTER)"
   ]
  },
  {
   "cell_type": "markdown",
   "metadata": {},
   "source": [
    "### Historical admissions\n",
    "There's lots more tinkering one can do with just a baseline, but the last thing we'll show here is how to peek at the historical trend in admissions."
   ]
  },
  {
   "cell_type": "code",
   "execution_count": null,
   "metadata": {},
   "outputs": [],
   "source": [
    "# USER INPUTS\n",
    "# Pick whether to display trends by gender or in aggregate\n",
    "DISAGGREGATE_BY_GENDER=False\n",
    "\n",
    "######################################################################################################################\n",
    "\n",
    "test_sim.get_arima_output_plots('baseline_middle', by_simulation_group=DISAGGREGATE_BY_GENDER)\n"
   ]
  },
  {
   "cell_type": "markdown",
   "metadata": {},
   "source": [
    "# Understanding Drivers of Incarceration Through Policy Modeling\n",
    "\n",
    "In this section you can use policy simulations to test out what could happen in different scenarios. As you'll see, the process of layering policies over a baseline requires very minimal additional work, which makes it easy to play around and experiment. **The person who finds the path of leastest resistance to acheive Recidiviz's 5-year goal of 20% prison reduction will win...a personalized poetry anthology from Paco !!!**\n",
    "\n",
    "The simulation compartments are the same as above."
   ]
  },
  {
   "cell_type": "code",
   "execution_count": null,
   "metadata": {},
   "outputs": [],
   "source": [
    "# USER INPUTS\n",
    "# Below are two example policies demonstrating some of the diferent kinds of changes you can make with\n",
    "#      a policy function. In addition to changing these, you're encouraged to make copies and try even more \n",
    "#      combinations including applying the same policy to multiple compartments.\n",
    "# In addition to setting the user inputs dictionary values in this section, you'll also have to go change the \n",
    "#     `policy_list` (see the comment toward the bottom of this cell for that).\n",
    "\n",
    "# percentage LOS reduction policy architype\n",
    "# Spark example use: abolishing truth-in-sentencing\n",
    "LOS_REDUCTION_INPUTS = {\n",
    "    'REDUCTION_SIZE': 0.25, # By what amount should LOS be shortened\n",
    "    'AFFECTED_FRACTION': 0.5, # What fraction of people should have their LOS shortened\n",
    "    'REDUCTION_TYPE': '*', # If `*` then reduce multiplicatively (i.e. x -> (1 - 0.2) x), if '+' then reduce addatively (e.g. x -> x - 0.2)\n",
    "    'AFFECTED_COMPARTMENT': 'INCARCERATION - GENERAL', # Compartment on whose transitions to apply the policy\n",
    "    'AFFECTED_OUTFLOW': 'SUPERVISION - PAROLE', # Destination compartment for the flow to be affected by the policy\n",
    "    'RETROACTIVE': False # Boolean indicating whether or not to apply the policy retroactively\n",
    "}\n",
    "\n",
    "\n",
    "# reallocate a flow between compartments\n",
    "# Spark example use: financial incentives for parole offices to reduce technical revocations\n",
    "REALLOCATION_INPUTS = {\n",
    "    'AFFECTED_FRACTION': 0.5, # What fraction of people should be moved\n",
    "    'REDUCTION_TYPE': '+', # A little complicated, ping Paco (or try it for yourself!) if you want to change the default\n",
    "    'AFFECTED_COMPARTMENT': 'SUPERVISION - PAROLE', # Compartment on whose transitions to apply the policy\n",
    "    'ORIGINAL_OUTFLOW': 'INCARCERATION - PAROLE_BOARD_HOLD', # Original destination you wish to siphon from\n",
    "    'NEW_OUTFLOW': 'RELEASE - RELEASE', # New destination compartment\n",
    "    'RETROACTIVE': False # Boolean indicating whether or not to apply the policy retroactively\n",
    "}\n",
    "######################################################################################################################\n",
    "\n",
    "\n",
    "def LOS_reduction(inputs_dict):\n",
    "    return partial(TransitionTable.apply_reduction, \n",
    "                   reduction_df=pd.DataFrame({\n",
    "                       'outflow':[inputs_dict['AFFECTED_OUTFLOW']],\n",
    "                       'affected_fraction': [inputs_dict['AFFECTED_FRACTION']],\n",
    "                       'reduction_size': [inputs_dict['REDUCTION_SIZE']]\n",
    "                   }),\n",
    "                   reduction_type=inputs_dict['REDUCTION_TYPE'],\n",
    "                   retroactive=inputs_dict['RETROACTIVE'])\n",
    "\n",
    "def reallocation(inputs_dict):\n",
    "    return partial(TransitionTable.reallocate_outflow, \n",
    "                   reallocation_df=pd.DataFrame({\n",
    "                       'outflow':[inputs_dict['ORIGINAL_OUTFLOW']],\n",
    "                       'affected_fraction': [inputs_dict['AFFECTED_FRACTION']],\n",
    "                       'new_outflow': [inputs_dict['NEW_OUTFLOW']]\n",
    "                   }),\n",
    "                   reallocation_type=inputs_dict['REDUCTION_TYPE'],\n",
    "                   retroactive=inputs_dict['RETROACTIVE'])\n",
    "\n",
    "def get_spark_policies(policy_function, user_inputs):\n",
    "    return [\n",
    "        SparkPolicy(policy_fn=policy_function(user_inputs),\n",
    "            spark_compartment=user_inputs['AFFECTED_COMPARTMENT'],\n",
    "            sub_population={'gender': gender},\n",
    "            policy_ts=2,\n",
    "            apply_retroactive=user_inputs['RETROACTIVE'])\n",
    "        for gender in ['MALE', 'FEMALE']\n",
    "    ]\n",
    "        \n",
    "\n",
    "######################################################################################################################\n",
    "# USER INPUTS PART 2\n",
    "# In the first input, put in a `get_spark_policies` with the user inputs and corresponding \n",
    "#     policy function for each policy you want to model\n",
    "# In the second input, choose a compartment to visualize the resuls for\n",
    "\n",
    "\n",
    "test_results = test_sim.simulate_policy(\n",
    "    get_spark_policies(LOS_reduction, LOS_REDUCTION_INPUTS) + get_spark_policies(reallocation, REALLOCATION_INPUTS),\n",
    "    'INCARCERATION - GENERAL'\n",
    ")\n",
    "\n"
   ]
  },
  {
   "cell_type": "markdown",
   "metadata": {},
   "source": [
    "### More visualizations of the policy simulation\n",
    "You can use these cells to visualize different details of a policy scenario you ran above. As an aside, the compartment you chose to visualize above doesn't affect anything besides the graph at the end, so you don't have to rerun the whole simulation with a different compartment in there."
   ]
  },
  {
   "cell_type": "code",
   "execution_count": null,
   "metadata": {},
   "outputs": [],
   "source": [
    "# USER INPUTS -- visualizing multiple compartments of a simulation.\n",
    "# Pick which compartments you want to look at\n",
    "DISPLAY_COMPARTMENTS=['INCARCERATION - PAROLE_BOARD_HOLD', 'INCARCERATION - RE-INCARCERATION']\n",
    "\n",
    "######################################################################################################################\n",
    "\n",
    "policy_populations = test_sim.simulator.pop_simulations['policy'].population_projections\n",
    "policy_populations = [policy_populations[policy_populations.compartment == i] for i in DISPLAY_COMPARTMENTS]\n",
    "\n",
    "control_populations = test_sim.simulator.pop_simulations['control'].population_projections\n",
    "control_populations = [control_populations[control_populations.compartment == i] for i in DISPLAY_COMPARTMENTS]\n",
    "\n",
    "reference_year = test_sim.initializer.get_reference_year()\n",
    "time_step = test_sim.initializer.get_time_step()\n",
    "\n",
    "for compartment_idx, compartment in enumerate(DISPLAY_COMPARTMENTS):\n",
    "    display_df = pd.DataFrame()\n",
    "    display_df['policy'] = policy_populations[compartment_idx].groupby('time_step').sum().total_population\n",
    "    display_df['control'] = control_populations[compartment_idx].groupby('time_step').sum().total_population\n",
    "    display_df.index = test_sim.initializer.convert_to_absolute_year(time_step, reference_year, pd.Series(display_df.index))\n",
    "    display_df.plot(title=f'simulation results for {compartment}', ylim=[0, None])\n",
    "\n"
   ]
  },
  {
   "cell_type": "code",
   "execution_count": null,
   "metadata": {},
   "outputs": [],
   "source": [
    "# USER INPUTS -- Total incarcerated and supervised populations\n",
    "# The default groups together the incarceration and supervision compartments, but feel free to change the \n",
    "#     grouping however you want!\n",
    "\n",
    "INCARCERATION_COMPARTMENTS = ['INCARCERATION - PAROLE_BOARD_HOLD', 'INCARCERATION - GENERAL', \n",
    "                             'INCARCERATION - RE-INCARCERATION', 'INCARCERATION - TREATMENT_IN_PRISON']\n",
    "SUPERVISION_COMPARTMENTS = ['SUPERVISION - PAROLE', 'SUPERVISION - PROBATION']\n",
    "\n",
    "######################################################################################################################\n",
    "\n",
    "\n",
    "policy_populations = test_sim.simulator.pop_simulations['policy'].population_projections\n",
    "policy_populations = [policy_populations[policy_populations.compartment.apply(lambda x: x in INCARCERATION_COMPARTMENTS)],\n",
    "                      policy_populations[policy_populations.compartment.apply(lambda x: x in SUPERVISION_COMPARTMENTS)],]\n",
    "\n",
    "control_populations = test_sim.simulator.pop_simulations['control'].population_projections\n",
    "control_populations = [control_populations[control_populations.compartment.apply(lambda x: x in INCARCERATION_COMPARTMENTS)],\n",
    "                      control_populations[control_populations.compartment.apply(lambda x: x in SUPERVISION_COMPARTMENTS)],]\n",
    "\n",
    "reference_year = test_sim.initializer.get_reference_year()\n",
    "time_step = test_sim.initializer.get_time_step()\n",
    "\n",
    "for group_idx, group in enumerate(['INCARCERATION', 'SUPERVISION']):\n",
    "    display_df = pd.DataFrame()\n",
    "    display_df['policy'] = policy_populations[compartment_idx].groupby('time_step').sum().total_population\n",
    "    display_df['control'] = control_populations[compartment_idx].groupby('time_step').sum().total_population\n",
    "    display_df.index = test_sim.initializer.convert_to_absolute_year(time_step, reference_year, pd.Series(display_df.index))\n",
    "    display_df.plot(title=f'simulation results for {group}', ylim=[0, None])\n",
    "\n",
    "\n",
    "\n"
   ]
  },
  {
   "cell_type": "markdown",
   "metadata": {},
   "source": [
    "Did that set gears turning in your head? Do you have ideas for extensions, use-cases, or demos? Ping Paco! He's budgetted time this week for exactly that!"
   ]
  }
 ],
 "metadata": {
  "kernelspec": {
   "display_name": "Python 3",
   "language": "python",
   "name": "python3"
  },
  "language_info": {
   "codemirror_mode": {
    "name": "ipython",
    "version": 3
   },
   "file_extension": ".py",
   "mimetype": "text/x-python",
   "name": "python",
   "nbconvert_exporter": "python",
   "pygments_lexer": "ipython3",
   "version": "3.7.3"
  }
 },
 "nbformat": 4,
 "nbformat_minor": 4
}
