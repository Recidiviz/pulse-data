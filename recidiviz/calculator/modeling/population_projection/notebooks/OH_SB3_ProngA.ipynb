{
 "cells": [
  {
   "cell_type": "code",
   "execution_count": 1,
   "metadata": {},
   "outputs": [],
   "source": [
    "import os\n",
    "import sys\n",
    "\n",
    "sys.path.insert(0, os.path.relpath(\"../../../../..\"))"
   ]
  },
  {
   "cell_type": "code",
   "execution_count": 2,
   "metadata": {},
   "outputs": [],
   "source": [
    "from recidiviz.calculator.modeling.population_projection.simulations.super_simulation_factory import (\n",
    "    SuperSimulationFactory,\n",
    ")\n",
    "from recidiviz.calculator.modeling.population_projection.compartment_transitions import (\n",
    "    CompartmentTransitions,\n",
    ")\n",
    "from recidiviz.calculator.modeling.population_projection.shell_compartment import (\n",
    "    ShellCompartment,\n",
    ")\n",
    "from recidiviz.calculator.modeling.population_projection.spark_policy import SparkPolicy\n",
    "import pandas as pd\n",
    "from functools import partial\n",
    "import yaml"
   ]
  },
  {
   "cell_type": "code",
   "execution_count": 3,
   "metadata": {},
   "outputs": [
    {
     "name": "stderr",
     "output_type": "stream",
     "text": [
      "/Users/pacopoler/.local/share/virtualenvs/pulse-data-Jd9N3JcA/lib/python3.7/site-packages/google/cloud/bigquery/table.py:1728: UserWarning: A progress bar was requested, but there was an error loading the tqdm library. Please install tqdm to use the progress bar functionality.\n",
      "  create_bqstorage_client=create_bqstorage_client,\n"
     ]
    },
    {
     "name": "stdout",
     "output_type": "stream",
     "text": [
      "outflows_data returned 96 results\n",
      "transitions_data returned 18 results\n",
      "total_population_data returned 96 results\n"
     ]
    }
   ],
   "source": [
    "test_sim = SuperSimulationFactory.build_super_simulation(\n",
    "    \"../state/OH/OH_prison_p1_model_inputs.yaml\"\n",
    ")\n",
    "# commented this out once I'm working on the policy but this should be the first thing you run to make sure the simulation is functional\n",
    "# test_sim.simulate_policy([], 'prison')"
   ]
  },
  {
   "cell_type": "code",
   "execution_count": 15,
   "metadata": {},
   "outputs": [
    {
     "data": {
      "text/html": [
       "<div>\n",
       "<style scoped>\n",
       "    .dataframe tbody tr th:only-of-type {\n",
       "        vertical-align: middle;\n",
       "    }\n",
       "\n",
       "    .dataframe tbody tr th {\n",
       "        vertical-align: top;\n",
       "    }\n",
       "\n",
       "    .dataframe thead th {\n",
       "        text-align: right;\n",
       "    }\n",
       "</style>\n",
       "<table border=\"1\" class=\"dataframe\">\n",
       "  <thead>\n",
       "    <tr style=\"text-align: right;\">\n",
       "      <th></th>\n",
       "      <th>simulation_tag</th>\n",
       "      <th>time_step</th>\n",
       "      <th>compartment</th>\n",
       "      <th>outflow_to</th>\n",
       "      <th>total_population</th>\n",
       "      <th>crime</th>\n",
       "      <th>crime_type</th>\n",
       "      <th>age</th>\n",
       "      <th>race</th>\n",
       "      <th>date_created</th>\n",
       "    </tr>\n",
       "  </thead>\n",
       "  <tbody>\n",
       "    <tr>\n",
       "      <th>0</th>\n",
       "      <td>OH_prison_p1</td>\n",
       "      <td>-3</td>\n",
       "      <td>pretrial</td>\n",
       "      <td>prison</td>\n",
       "      <td>485.0</td>\n",
       "      <td>None</td>\n",
       "      <td>F-4</td>\n",
       "      <td>None</td>\n",
       "      <td>None</td>\n",
       "      <td>2021-01-08 22:34:55.788510+00:00</td>\n",
       "    </tr>\n",
       "    <tr>\n",
       "      <th>1</th>\n",
       "      <td>OH_prison_p1</td>\n",
       "      <td>-2</td>\n",
       "      <td>pretrial</td>\n",
       "      <td>prison</td>\n",
       "      <td>431.0</td>\n",
       "      <td>None</td>\n",
       "      <td>F-4</td>\n",
       "      <td>None</td>\n",
       "      <td>None</td>\n",
       "      <td>2021-01-08 22:34:55.788510+00:00</td>\n",
       "    </tr>\n",
       "    <tr>\n",
       "      <th>2</th>\n",
       "      <td>OH_prison_p1</td>\n",
       "      <td>-1</td>\n",
       "      <td>pretrial</td>\n",
       "      <td>prison</td>\n",
       "      <td>413.0</td>\n",
       "      <td>None</td>\n",
       "      <td>F-4</td>\n",
       "      <td>None</td>\n",
       "      <td>None</td>\n",
       "      <td>2021-01-08 22:34:55.788510+00:00</td>\n",
       "    </tr>\n",
       "    <tr>\n",
       "      <th>3</th>\n",
       "      <td>OH_prison_p1</td>\n",
       "      <td>0</td>\n",
       "      <td>pretrial</td>\n",
       "      <td>prison</td>\n",
       "      <td>376.0</td>\n",
       "      <td>None</td>\n",
       "      <td>F-4</td>\n",
       "      <td>None</td>\n",
       "      <td>None</td>\n",
       "      <td>2021-01-08 22:34:55.788510+00:00</td>\n",
       "    </tr>\n",
       "    <tr>\n",
       "      <th>4</th>\n",
       "      <td>OH_prison_p1</td>\n",
       "      <td>-3</td>\n",
       "      <td>pretrial</td>\n",
       "      <td>prison</td>\n",
       "      <td>1364.0</td>\n",
       "      <td>None</td>\n",
       "      <td>F-5</td>\n",
       "      <td>None</td>\n",
       "      <td>None</td>\n",
       "      <td>2021-01-08 22:34:55.788510+00:00</td>\n",
       "    </tr>\n",
       "    <tr>\n",
       "      <th>5</th>\n",
       "      <td>OH_prison_p1</td>\n",
       "      <td>-2</td>\n",
       "      <td>pretrial</td>\n",
       "      <td>prison</td>\n",
       "      <td>1212.0</td>\n",
       "      <td>None</td>\n",
       "      <td>F-5</td>\n",
       "      <td>None</td>\n",
       "      <td>None</td>\n",
       "      <td>2021-01-08 22:34:55.788510+00:00</td>\n",
       "    </tr>\n",
       "    <tr>\n",
       "      <th>6</th>\n",
       "      <td>OH_prison_p1</td>\n",
       "      <td>-1</td>\n",
       "      <td>pretrial</td>\n",
       "      <td>prison</td>\n",
       "      <td>1161.0</td>\n",
       "      <td>None</td>\n",
       "      <td>F-5</td>\n",
       "      <td>None</td>\n",
       "      <td>None</td>\n",
       "      <td>2021-01-08 22:34:55.788510+00:00</td>\n",
       "    </tr>\n",
       "    <tr>\n",
       "      <th>7</th>\n",
       "      <td>OH_prison_p1</td>\n",
       "      <td>0</td>\n",
       "      <td>pretrial</td>\n",
       "      <td>prison</td>\n",
       "      <td>1059.0</td>\n",
       "      <td>None</td>\n",
       "      <td>F-5</td>\n",
       "      <td>None</td>\n",
       "      <td>None</td>\n",
       "      <td>2021-01-08 22:34:55.788510+00:00</td>\n",
       "    </tr>\n",
       "  </tbody>\n",
       "</table>\n",
       "</div>"
      ],
      "text/plain": [
       "  simulation_tag  time_step compartment outflow_to  total_population crime  \\\n",
       "0   OH_prison_p1         -3    pretrial     prison             485.0  None   \n",
       "1   OH_prison_p1         -2    pretrial     prison             431.0  None   \n",
       "2   OH_prison_p1         -1    pretrial     prison             413.0  None   \n",
       "3   OH_prison_p1          0    pretrial     prison             376.0  None   \n",
       "4   OH_prison_p1         -3    pretrial     prison            1364.0  None   \n",
       "5   OH_prison_p1         -2    pretrial     prison            1212.0  None   \n",
       "6   OH_prison_p1         -1    pretrial     prison            1161.0  None   \n",
       "7   OH_prison_p1          0    pretrial     prison            1059.0  None   \n",
       "\n",
       "  crime_type   age  race                     date_created  \n",
       "0        F-4  None  None 2021-01-08 22:34:55.788510+00:00  \n",
       "1        F-4  None  None 2021-01-08 22:34:55.788510+00:00  \n",
       "2        F-4  None  None 2021-01-08 22:34:55.788510+00:00  \n",
       "3        F-4  None  None 2021-01-08 22:34:55.788510+00:00  \n",
       "4        F-5  None  None 2021-01-08 22:34:55.788510+00:00  \n",
       "5        F-5  None  None 2021-01-08 22:34:55.788510+00:00  \n",
       "6        F-5  None  None 2021-01-08 22:34:55.788510+00:00  \n",
       "7        F-5  None  None 2021-01-08 22:34:55.788510+00:00  "
      ]
     },
     "execution_count": 15,
     "metadata": {},
     "output_type": "execute_result"
    }
   ],
   "source": [
    "test_sim.data_dict[\"outflows_data\"]"
   ]
  },
  {
   "cell_type": "code",
   "execution_count": 9,
   "metadata": {
    "scrolled": false
   },
   "outputs": [
    {
     "name": "stdout",
     "output_type": "stream",
     "text": [
      "initialization time:  35.448259115219116\n",
      "simulation_time:  33.28762888908386\n",
      "initialization time:  37.56394910812378\n",
      "simulation_time:  31.804199934005737\n"
     ]
    },
    {
     "data": {
      "image/png": "[encoded data removed]",
      "text/plain": [
       "<Figure size 432x288 with 1 Axes>"
      ]
     },
     "metadata": {
      "needs_background": "light"
     },
     "output_type": "display_data"
    }
   ],
   "source": [
    "# Policy Option Method\n",
    "diversion_rate = 0.10\n",
    "affected_fraction = {\n",
    "    \"treatment_residential\": 0.2357 * diversion_rate,\n",
    "    \"treatment_non_residential\": (1 - 0.2357) * diversion_rate,\n",
    "}\n",
    "\n",
    "\n",
    "def divert_to_treatment(treatment_type):\n",
    "    return partial(\n",
    "        ShellCompartment.reallocate_outflow,\n",
    "        reallocation_fraction=affected_fraction[treatment_type],\n",
    "        outflow=\"prison\",\n",
    "        new_outflow=treatment_type,\n",
    "    )\n",
    "\n",
    "\n",
    "policy_list_non_retroactive = [\n",
    "    SparkPolicy(\n",
    "        policy_fn=divert_to_treatment(treatment_type),\n",
    "        spark_compartment=\"pretrial\",\n",
    "        sub_population={\"crime_type\": \"F-4\"},\n",
    "        apply_retroactive=False,\n",
    "    )\n",
    "    for treatment_type in affected_fraction\n",
    "] + [\n",
    "    SparkPolicy(\n",
    "        policy_fn=divert_to_treatment(treatment_type),\n",
    "        spark_compartment=\"pretrial\",\n",
    "        sub_population={\"crime_type\": \"F-5\"},\n",
    "        apply_retroactive=False,\n",
    "    )\n",
    "    for treatment_type in affected_fraction\n",
    "]\n",
    "\n",
    "test_results = test_sim.simulate_policy(policy_list_non_retroactive, \"prison\")"
   ]
  },
  {
   "cell_type": "code",
   "execution_count": 10,
   "metadata": {},
   "outputs": [],
   "source": [
    "simulation_tag = \"OH_prison_p1_10%\"\n",
    "test_sim.upload_simulation_results_to_bq(\"recidiviz-staging\", simulation_tag)"
   ]
  },
  {
   "cell_type": "code",
   "execution_count": null,
   "metadata": {},
   "outputs": [],
   "source": []
  }
 ],
 "metadata": {
  "kernelspec": {
   "display_name": "Python 3",
   "language": "python",
   "name": "python3"
  },
  "language_info": {
   "codemirror_mode": {
    "name": "ipython",
    "version": 3
   },
   "file_extension": ".py",
   "mimetype": "text/x-python",
   "name": "python",
   "nbconvert_exporter": "python",
   "pygments_lexer": "ipython3",
   "version": "3.7.3"
  }
 },
 "nbformat": 4,
 "nbformat_minor": 4
}
