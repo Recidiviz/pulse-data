{
 "cells": [
  {
   "cell_type": "code",
   "execution_count": 19,
   "metadata": {},
   "outputs": [],
   "source": [
    "import os\n",
    "import sys\n",
    "\n",
    "sys.path.insert(0, os.path.relpath(\"../../../../..\"))"
   ]
  },
  {
   "cell_type": "code",
   "execution_count": 20,
   "metadata": {},
   "outputs": [],
   "source": [
    "\n",
    "from recidiviz.calculator.modeling.population_projection.simulations.super_simulation_factory import SuperSimulationFactory\n",
    "from recidiviz.calculator.modeling.population_projection.compartment_transitions import CompartmentTransitions\n",
    "from recidiviz.calculator.modeling.population_projection.release_transitions import ReleasedTransitions\n",
    "from recidiviz.calculator.modeling.population_projection.spark_policy import SparkPolicy\n",
    "import pandas as pd\n",
    "from functools import partial\n",
    "%config Completer.use_jedi = False"
   ]
  },
  {
   "cell_type": "code",
   "execution_count": 28,
   "metadata": {},
   "outputs": [
    {
     "name": "stderr",
     "output_type": "stream",
     "text": [
      "/Users/pacopoler/.local/share/virtualenvs/pulse-data-Jd9N3JcA/lib/python3.7/site-packages/google/cloud/bigquery/table.py:1770: UserWarning: A progress bar was requested, but there was an error loading the tqdm library. Please install tqdm to use the progress bar functionality.\n",
      "  create_bqstorage_client=create_bqstorage_client,\n"
     ]
    },
    {
     "name": "stdout",
     "output_type": "stream",
     "text": [
      "outflows_data returned 12 results\n",
      "transitions_data returned 60 results\n",
      "total_population_data returned 2 results\n"
     ]
    }
   ],
   "source": [
    "test_sim = SuperSimulationFactory.build_super_simulation(\n",
    "    \"../state/MS/habitual_sentencing/MS_prison_habitual_B_model_inputs.yaml\"\n",
    ")\n",
    "# test_sim.simulate_policy([], 'prison')"
   ]
  },
  {
   "cell_type": "code",
   "execution_count": 29,
   "metadata": {},
   "outputs": [
    {
     "name": "stdout",
     "output_type": "stream",
     "text": [
      "initialization time:  9.07737421989441\n",
      "simulation_time:  0.7857568264007568\n",
      "initialization time:  8.647425889968872\n",
      "simulation_time:  0.7506320476531982\n"
     ]
    },
    {
     "data": {
      "image/png": "[encoded data removed]",
      "text/plain": [
       "<Figure size 432x288 with 1 Axes>"
      ]
     },
     "metadata": {
      "needs_background": "light"
     },
     "output_type": "display_data"
    }
   ],
   "source": [
    "# Policy Option Methods\n",
    "\n",
    "policy_transitions = pd.DataFrame(\n",
    "    {\"outflow_to\": [\"release\"], \"compartment_duration\": [1.37], \"total_population\": [1]}\n",
    ")\n",
    "\n",
    "\n",
    "def remove_habitual_sentencing(retroactive=False):\n",
    "    return partial(\n",
    "        CompartmentTransitions.use_alternate_transitions_data,\n",
    "        alternate_historical_transitions=policy_transitions,\n",
    "        retroactive=retroactive,\n",
    "    )\n",
    "\n",
    "\n",
    "policy_list_non_retroactive = [\n",
    "    SparkPolicy(\n",
    "        policy_fn=remove_habitual_sentencing(False),\n",
    "        spark_compartment=\"prison\",\n",
    "        sub_population={\"age\": age},\n",
    "        apply_retroactive=False,\n",
    "    )\n",
    "    for age in [\"50_and_under\", \"51_and_up\"]\n",
    "]\n",
    "\n",
    "\n",
    "cost_multipliers = pd.DataFrame({\"age\": [\"51_and_up\"], \"multiplier\": [2]})\n",
    "\n",
    "test_results = test_sim.simulate_policy(\n",
    "    policy_list_non_retroactive, \"prison\", cost_multipliers\n",
    ")"
   ]
  },
  {
   "cell_type": "code",
   "execution_count": 30,
   "metadata": {},
   "outputs": [],
   "source": [
    "simulation_tag = \"MS_habitual_B\"\n",
    "test_sim.upload_simulation_results_to_bq(\"recidiviz-staging\", simulation_tag)"
   ]
  },
  {
   "cell_type": "code",
   "execution_count": 6,
   "metadata": {},
   "outputs": [
    {
     "data": {
      "text/html": [
       "<div>\n",
       "<style scoped>\n",
       "    .dataframe tbody tr th:only-of-type {\n",
       "        vertical-align: middle;\n",
       "    }\n",
       "\n",
       "    .dataframe tbody tr th {\n",
       "        vertical-align: top;\n",
       "    }\n",
       "\n",
       "    .dataframe thead th {\n",
       "        text-align: right;\n",
       "    }\n",
       "</style>\n",
       "<table border=\"1\" class=\"dataframe\">\n",
       "  <thead>\n",
       "    <tr style=\"text-align: right;\">\n",
       "      <th></th>\n",
       "      <th>prison</th>\n",
       "      <th>parole</th>\n",
       "    </tr>\n",
       "    <tr>\n",
       "      <th>year</th>\n",
       "      <th></th>\n",
       "      <th></th>\n",
       "    </tr>\n",
       "  </thead>\n",
       "  <tbody>\n",
       "    <tr>\n",
       "      <th>2017</th>\n",
       "      <td>0.000000</td>\n",
       "      <td>0.000000</td>\n",
       "    </tr>\n",
       "    <tr>\n",
       "      <th>2018</th>\n",
       "      <td>0.000000</td>\n",
       "      <td>0.000000</td>\n",
       "    </tr>\n",
       "    <tr>\n",
       "      <th>2019</th>\n",
       "      <td>0.000000</td>\n",
       "      <td>0.000000</td>\n",
       "    </tr>\n",
       "    <tr>\n",
       "      <th>2020</th>\n",
       "      <td>0.000000</td>\n",
       "      <td>0.000000</td>\n",
       "    </tr>\n",
       "    <tr>\n",
       "      <th>2021</th>\n",
       "      <td>85626.881152</td>\n",
       "      <td>-3609.141461</td>\n",
       "    </tr>\n",
       "    <tr>\n",
       "      <th>2022</th>\n",
       "      <td>780144.500201</td>\n",
       "      <td>-32882.802959</td>\n",
       "    </tr>\n",
       "    <tr>\n",
       "      <th>2023</th>\n",
       "      <td>1445286.740961</td>\n",
       "      <td>-60918.303096</td>\n",
       "    </tr>\n",
       "    <tr>\n",
       "      <th>2024</th>\n",
       "      <td>2083598.214526</td>\n",
       "      <td>-87822.896292</td>\n",
       "    </tr>\n",
       "    <tr>\n",
       "      <th>2025</th>\n",
       "      <td>2722293.093778</td>\n",
       "      <td>-114743.649896</td>\n",
       "    </tr>\n",
       "    <tr>\n",
       "      <th>2026</th>\n",
       "      <td>3381731.184823</td>\n",
       "      <td>-142538.722226</td>\n",
       "    </tr>\n",
       "  </tbody>\n",
       "</table>\n",
       "</div>"
      ],
      "text/plain": [
       "              prison         parole\n",
       "year                               \n",
       "2017        0.000000       0.000000\n",
       "2018        0.000000       0.000000\n",
       "2019        0.000000       0.000000\n",
       "2020        0.000000       0.000000\n",
       "2021    85626.881152   -3609.141461\n",
       "2022   780144.500201  -32882.802959\n",
       "2023  1445286.740961  -60918.303096\n",
       "2024  2083598.214526  -87822.896292\n",
       "2025  2722293.093778 -114743.649896\n",
       "2026  3381731.184823 -142538.722226"
      ]
     },
     "execution_count": 6,
     "metadata": {},
     "output_type": "execute_result"
    }
   ],
   "source": [
    "test_sim.output_data[\"cost_avoidance\"]"
   ]
  }
 ],
 "metadata": {
  "kernelspec": {
   "display_name": "Python 3",
   "language": "python",
   "name": "python3"
  },
  "language_info": {
   "codemirror_mode": {
    "name": "ipython",
    "version": 3
   },
   "file_extension": ".py",
   "mimetype": "text/x-python",
   "name": "python",
   "nbconvert_exporter": "python",
   "pygments_lexer": "ipython3",
   "version": "3.7.3"
  }
 },
 "nbformat": 4,
 "nbformat_minor": 4
}
