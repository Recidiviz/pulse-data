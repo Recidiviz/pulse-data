{
 "cells": [
  {
   "cell_type": "code",
   "execution_count": 1,
   "metadata": {},
   "outputs": [],
   "source": [
    "import os\n",
    "import sys\n",
    "# sys.path.insert(0, os.path.relpath('../..'))\n",
    "sys.path.insert(0, os.path.relpath('../../../../..')) "
   ]
  },
  {
   "cell_type": "code",
   "execution_count": 2,
   "metadata": {},
   "outputs": [
    {
     "name": "stderr",
     "output_type": "stream",
     "text": [
      "../../../../../recidiviz/calculator/modeling/population_projection/super_simulation.py:92: FutureWarning: The pandas.datetime class is deprecated and will be removed from pandas in a future version. Import from datetime module instead.\n",
      "  def _convert_to_relative_date_from_timestamp(self, timestamp: pd.datetime):\n"
     ]
    }
   ],
   "source": [
    "from recidiviz.calculator.modeling.population_projection.super_simulation import SuperSimulation\n",
    "from recidiviz.calculator.modeling.population_projection.compartment_transitions import CompartmentTransitions\n",
    "from recidiviz.calculator.modeling.population_projection.release_transitions import ReleasedTransitions\n",
    "from recidiviz.calculator.modeling.population_projection.spark_policy import SparkPolicy\n",
    "import pandas as pd\n",
    "from functools import partial\n",
    "import yaml"
   ]
  },
  {
   "cell_type": "code",
   "execution_count": 3,
   "metadata": {
    "scrolled": false
   },
   "outputs": [
    {
     "name": "stderr",
     "output_type": "stream",
     "text": [
      "/Users/pacopoler/.local/share/virtualenvs/pulse-data-Jd9N3JcA/lib/python3.7/site-packages/pandas/core/indexing.py:1743: SettingWithCopyWarning: \n",
      "A value is trying to be set on a copy of a slice from a DataFrame.\n",
      "Try using .loc[row_indexer,col_indexer] = value instead\n",
      "\n",
      "See the caveats in the documentation: https://pandas.pydata.org/pandas-docs/stable/user_guide/indexing.html#returning-a-view-versus-a-copy\n",
      "  isetter(ilocs[0], value)\n",
      "/Users/pacopoler/.local/share/virtualenvs/pulse-data-Jd9N3JcA/lib/python3.7/site-packages/pandas/core/indexing.py:1743: SettingWithCopyWarning: \n",
      "A value is trying to be set on a copy of a slice from a DataFrame.\n",
      "Try using .loc[row_indexer,col_indexer] = value instead\n",
      "\n",
      "See the caveats in the documentation: https://pandas.pydata.org/pandas-docs/stable/user_guide/indexing.html#returning-a-view-versus-a-copy\n",
      "  isetter(ilocs[0], value)\n"
     ]
    }
   ],
   "source": [
    "test = open('../state/AZ/az_state_prison_2808_model_inputs.yaml')\n",
    "test_sim = SuperSimulation(test)\n",
    "# test_sim.simulate_baseline('pre-trial', 'prison')"
   ]
  },
  {
   "cell_type": "code",
   "execution_count": 4,
   "metadata": {},
   "outputs": [
    {
     "name": "stdout",
     "output_type": "stream",
     "text": [
      "initialization time:  18.904586791992188\n",
      "simulation_time:  9.861234188079834\n",
      "initialization time:  19.551492929458618\n",
      "simulation_time:  9.441213130950928\n"
     ]
    },
    {
     "data": {
      "image/png": "[encoded data removed]",
      "text/plain": [
       "<Figure size 432x288 with 1 Axes>"
      ]
     },
     "metadata": {
      "needs_background": "light"
     },
     "output_type": "display_data"
    }
   ],
   "source": [
    "is_violent_map = {\n",
    "    'arson': True,\n",
    "    'assault': True,\n",
    "    'auto_theft': False,\n",
    "    'burglary_or_criminal_trespass': True, # only certain kinds of burglary\n",
    "    'child_or_adult_abuse': True, # only child abuse would be violent?\n",
    "    'child_molestation': True,\n",
    "    'criminal_damage': False,\n",
    "    'domestic_violence': False,\n",
    "    'drug_possession': False,\n",
    "    'drug_trafficking': False,\n",
    "    'dui': False,\n",
    "    'escape': False,\n",
    "    'forgery': False,\n",
    "    'fraud': False,\n",
    "    'identity_theft': False,\n",
    "    'kidnapping': True,\n",
    "    'manslaughter_or_neg_homicide': True,\n",
    "    'murder': True,\n",
    "    'other': False,\n",
    "    'rape_or_sexual_assault': True,\n",
    "    'robbery': True,\n",
    "    'sex_offense': False,\n",
    "    'theft': False,\n",
    "    'trafficking_in_stolen_property': False,\n",
    "    'weapons_offense': True,\n",
    "}\n",
    "\n",
    "\n",
    "SENTENCE_LENGTH_REDUCTION = 15/85 \n",
    "AFFECTED_FRACTION = 1 - 0.2355\n",
    "\n",
    "def apply_reduced_prison_sentence(retroactive=False):\n",
    "    return partial(CompartmentTransitions.apply_reduction, \n",
    "                   reduction_dict={'release': {'reduction_size': SENTENCE_LENGTH_REDUCTION, \n",
    "                                               'affected_fraction': AFFECTED_FRACTION}},\n",
    "                   reduction_type='*',\n",
    "                   retroactive=retroactive)\n",
    "\n",
    "policy_list_non_retroactive = [SparkPolicy(policy_fn=apply_reduced_prison_sentence(False),\n",
    "                                           spark_compartment='prison',\n",
    "                                           sub_population={'crime_type': crime},\n",
    "                                           apply_retroactive=False) \n",
    "                               for crime in is_violent_map if not is_violent_map[crime]]\n",
    "    \n",
    "test_results = test_sim.simulate_policy(policy_list_non_retroactive, 'prison')\n"
   ]
  },
  {
   "cell_type": "code",
   "execution_count": 5,
   "metadata": {},
   "outputs": [],
   "source": [
    "simulation_tag = 'AZ_HB2808'\n",
    "test_sim.upload_simulation_results_to_bq('recidiviz-staging', simulation_tag)"
   ]
  },
  {
   "cell_type": "code",
   "execution_count": null,
   "metadata": {},
   "outputs": [],
   "source": []
  }
 ],
 "metadata": {
  "kernelspec": {
   "display_name": "Python 3",
   "language": "python",
   "name": "python3"
  },
  "language_info": {
   "codemirror_mode": {
    "name": "ipython",
    "version": 3
   },
   "file_extension": ".py",
   "mimetype": "text/x-python",
   "name": "python",
   "nbconvert_exporter": "python",
   "pygments_lexer": "ipython3",
   "version": "3.7.3"
  }
 },
 "nbformat": 4,
 "nbformat_minor": 4
}
