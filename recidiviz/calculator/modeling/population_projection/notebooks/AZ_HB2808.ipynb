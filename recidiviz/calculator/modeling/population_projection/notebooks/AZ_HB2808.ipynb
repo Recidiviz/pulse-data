{
 "cells": [
  {
   "cell_type": "code",
   "execution_count": 1,
   "metadata": {},
   "outputs": [],
   "source": [
    "import os\n",
    "import sys\n",
    "# sys.path.insert(0, os.path.relpath('../..'))\n",
    "sys.path.insert(0, os.path.relpath('../../../../..')) "
   ]
  },
  {
   "cell_type": "code",
   "execution_count": 2,
   "metadata": {},
   "outputs": [],
   "source": [
    "from recidiviz.calculator.modeling.population_projection.super_simulation import SuperSimulation\n",
    "from recidiviz.calculator.modeling.population_projection.incarceration_transitions import IncarceratedTransitions\n",
    "from recidiviz.calculator.modeling.population_projection.release_transitions import ReleasedTransitions\n",
    "from recidiviz.calculator.modeling.population_projection.spark_policy import SparkPolicy\n",
    "import pandas as pd\n",
    "from functools import partial\n",
    "import yaml"
   ]
  },
  {
   "cell_type": "code",
   "execution_count": 5,
   "metadata": {
    "scrolled": false
   },
   "outputs": [
    {
     "ename": "ValueError",
     "evalue": "Max sentence length is not set",
     "output_type": "error",
     "traceback": [
      "\u001b[0;31m---------------------------------------------------------------------------\u001b[0m",
      "\u001b[0;31mValueError\u001b[0m                                Traceback (most recent call last)",
      "\u001b[0;32m<ipython-input-5-4da54adc2ad2>\u001b[0m in \u001b[0;36m<module>\u001b[0;34m\u001b[0m\n\u001b[1;32m      1\u001b[0m \u001b[0mtest\u001b[0m \u001b[0;34m=\u001b[0m \u001b[0mopen\u001b[0m\u001b[0;34m(\u001b[0m\u001b[0;34m'../state/AZ/az_state_prison_2808_model_inputs.yaml'\u001b[0m\u001b[0;34m)\u001b[0m\u001b[0;34m\u001b[0m\u001b[0m\n\u001b[1;32m      2\u001b[0m \u001b[0mtest_sim\u001b[0m \u001b[0;34m=\u001b[0m \u001b[0mSuperSimulation\u001b[0m\u001b[0;34m(\u001b[0m\u001b[0mtest\u001b[0m\u001b[0;34m)\u001b[0m\u001b[0;34m\u001b[0m\u001b[0m\n\u001b[0;32m----> 3\u001b[0;31m \u001b[0mtest_sim\u001b[0m\u001b[0;34m.\u001b[0m\u001b[0msimulate_baseline\u001b[0m\u001b[0;34m(\u001b[0m\u001b[0;34m'pre-trial'\u001b[0m\u001b[0;34m,\u001b[0m \u001b[0;34m'prison'\u001b[0m\u001b[0;34m)\u001b[0m\u001b[0;34m\u001b[0m\u001b[0m\n\u001b[0m",
      "\u001b[0;32m~/Workspace/pulse-data/recidiviz/calculator/modeling/population_projection/super_simulation.py\u001b[0m in \u001b[0;36msimulate_baseline\u001b[0;34m(self, output_compartment, outflow_to, initialization_period)\u001b[0m\n\u001b[1;32m    312\u001b[0m         \u001b[0;32melif\u001b[0m \u001b[0minitialization_period\u001b[0m \u001b[0;32mis\u001b[0m \u001b[0;32mNone\u001b[0m \u001b[0;32mand\u001b[0m \u001b[0;32mnot\u001b[0m \u001b[0mself\u001b[0m\u001b[0;34m.\u001b[0m\u001b[0mmicrosim\u001b[0m\u001b[0;34m:\u001b[0m\u001b[0;34m\u001b[0m\u001b[0m\n\u001b[1;32m    313\u001b[0m             self.pop_simulations['baseline'].simulate_policies(*simulation_data_inputs, self.user_inputs,\n\u001b[0;32m--> 314\u001b[0;31m                                                                microsim=False)\n\u001b[0m\u001b[1;32m    315\u001b[0m         \u001b[0;32melse\u001b[0m\u001b[0;34m:\u001b[0m\u001b[0;34m\u001b[0m\u001b[0m\n\u001b[1;32m    316\u001b[0m             self.pop_simulations['baseline'].simulate_policies(*simulation_data_inputs, self.user_inputs,\n",
      "\u001b[0;32m~/Workspace/pulse-data/recidiviz/calculator/modeling/population_projection/population_simulation.py\u001b[0m in \u001b[0;36msimulate_policies\u001b[0;34m(self, outflows_data, transitions_data, total_population_data, simulation_compartments, disaggregation_axes, user_inputs, initialization_period, microsim, microsim_data)\u001b[0m\n\u001b[1;32m     93\u001b[0m \u001b[0;34m\u001b[0m\u001b[0m\n\u001b[1;32m     94\u001b[0m         self.initialize_simulation(outflows_data, transitions_data, total_population_data, simulation_compartments,\n\u001b[0;32m---> 95\u001b[0;31m                                    disaggregation_axes, user_inputs, initialization_period, microsim, microsim_data)\n\u001b[0m\u001b[1;32m     96\u001b[0m \u001b[0;34m\u001b[0m\u001b[0m\n\u001b[1;32m     97\u001b[0m         \u001b[0mtime1\u001b[0m \u001b[0;34m=\u001b[0m \u001b[0mtime\u001b[0m\u001b[0;34m(\u001b[0m\u001b[0;34m)\u001b[0m\u001b[0;34m\u001b[0m\u001b[0m\n",
      "\u001b[0;32m~/Workspace/pulse-data/recidiviz/calculator/modeling/population_projection/population_simulation.py\u001b[0m in \u001b[0;36minitialize_simulation\u001b[0;34m(self, outflows_data, transitions_data, total_population_data, simulation_compartments, disaggregation_axes, user_inputs, initialization_period, microsim, microsim_data)\u001b[0m\n\u001b[1;32m    195\u001b[0m                 \u001b[0mmicrosim\u001b[0m\u001b[0;34m=\u001b[0m\u001b[0mmicrosim\u001b[0m\u001b[0;34m\u001b[0m\u001b[0m\n\u001b[1;32m    196\u001b[0m             )\n\u001b[0;32m--> 197\u001b[0;31m             \u001b[0mself\u001b[0m\u001b[0;34m.\u001b[0m\u001b[0msub_simulations\u001b[0m\u001b[0;34m[\u001b[0m\u001b[0msub_group_id\u001b[0m\u001b[0;34m]\u001b[0m\u001b[0;34m.\u001b[0m\u001b[0minitialize\u001b[0m\u001b[0;34m(\u001b[0m\u001b[0;34m)\u001b[0m\u001b[0;34m\u001b[0m\u001b[0m\n\u001b[0m\u001b[1;32m    198\u001b[0m \u001b[0;34m\u001b[0m\u001b[0m\n\u001b[1;32m    199\u001b[0m         \u001b[0;32mif\u001b[0m \u001b[0;32mnot\u001b[0m \u001b[0mmicrosim\u001b[0m\u001b[0;34m:\u001b[0m\u001b[0;34m\u001b[0m\u001b[0m\n",
      "\u001b[0;32m~/Workspace/pulse-data/recidiviz/calculator/modeling/population_projection/sub_simulation.py\u001b[0m in \u001b[0;36minitialize\u001b[0;34m(self)\u001b[0m\n\u001b[1;32m     99\u001b[0m                     \u001b[0;32mraise\u001b[0m \u001b[0mValueError\u001b[0m\u001b[0;34m(\u001b[0m\u001b[0;34mf'unrecognized transition table type {transition_type}'\u001b[0m\u001b[0;34m)\u001b[0m\u001b[0;34m\u001b[0m\u001b[0m\n\u001b[1;32m    100\u001b[0m \u001b[0;34m\u001b[0m\u001b[0m\n\u001b[0;32m--> 101\u001b[0;31m                 \u001b[0mtransition_class\u001b[0m\u001b[0;34m.\u001b[0m\u001b[0minitialize_transition_table\u001b[0m\u001b[0;34m(\u001b[0m\u001b[0;34m)\u001b[0m\u001b[0;34m\u001b[0m\u001b[0m\n\u001b[0m\u001b[1;32m    102\u001b[0m                 \u001b[0mtransitions_per_compartment\u001b[0m\u001b[0;34m[\u001b[0m\u001b[0mcompartment\u001b[0m\u001b[0;34m]\u001b[0m \u001b[0;34m=\u001b[0m \u001b[0mtransition_class\u001b[0m\u001b[0;34m\u001b[0m\u001b[0m\n\u001b[1;32m    103\u001b[0m \u001b[0;34m\u001b[0m\u001b[0m\n",
      "\u001b[0;32m~/Workspace/pulse-data/recidiviz/calculator/modeling/population_projection/compartment_transitions.py\u001b[0m in \u001b[0;36minitialize_transition_table\u001b[0;34m(self, max_sentence)\u001b[0m\n\u001b[1;32m     77\u001b[0m         }\n\u001b[1;32m     78\u001b[0m \u001b[0;34m\u001b[0m\u001b[0m\n\u001b[0;32m---> 79\u001b[0;31m         \u001b[0mself\u001b[0m\u001b[0;34m.\u001b[0m\u001b[0m_generate_transition_tables\u001b[0m\u001b[0;34m(\u001b[0m\u001b[0mstate\u001b[0m\u001b[0;34m=\u001b[0m\u001b[0;34m'before'\u001b[0m\u001b[0;34m)\u001b[0m\u001b[0;34m\u001b[0m\u001b[0m\n\u001b[0m\u001b[1;32m     80\u001b[0m \u001b[0;34m\u001b[0m\u001b[0m\n\u001b[1;32m     81\u001b[0m     \u001b[0;32mdef\u001b[0m \u001b[0m_set_max_sentence_from_threshold\u001b[0m\u001b[0;34m(\u001b[0m\u001b[0mself\u001b[0m\u001b[0;34m,\u001b[0m \u001b[0mthreshold_percentile\u001b[0m\u001b[0;34m:\u001b[0m \u001b[0mfloat\u001b[0m\u001b[0;34m)\u001b[0m\u001b[0;34m:\u001b[0m\u001b[0;34m\u001b[0m\u001b[0m\n",
      "\u001b[0;32m~/Workspace/pulse-data/recidiviz/calculator/modeling/population_projection/compartment_transitions.py\u001b[0m in \u001b[0;36m_generate_transition_tables\u001b[0;34m(self, state, historical_outflows)\u001b[0m\n\u001b[1;32m    111\u001b[0m         \"\"\"\n\u001b[1;32m    112\u001b[0m         \u001b[0;32mif\u001b[0m \u001b[0mself\u001b[0m\u001b[0;34m.\u001b[0m\u001b[0mmax_sentence\u001b[0m \u001b[0;34m<=\u001b[0m \u001b[0;36m0\u001b[0m\u001b[0;34m:\u001b[0m\u001b[0;34m\u001b[0m\u001b[0m\n\u001b[0;32m--> 113\u001b[0;31m             \u001b[0;32mraise\u001b[0m \u001b[0mValueError\u001b[0m\u001b[0;34m(\u001b[0m\u001b[0;34m\"Max sentence length is not set\"\u001b[0m\u001b[0;34m)\u001b[0m\u001b[0;34m\u001b[0m\u001b[0m\n\u001b[0m\u001b[1;32m    114\u001b[0m \u001b[0;34m\u001b[0m\u001b[0m\n\u001b[1;32m    115\u001b[0m         \u001b[0;32mif\u001b[0m \u001b[0mhistorical_outflows\u001b[0m \u001b[0;32mis\u001b[0m \u001b[0;32mNone\u001b[0m\u001b[0;34m:\u001b[0m\u001b[0;34m\u001b[0m\u001b[0m\n",
      "\u001b[0;31mValueError\u001b[0m: Max sentence length is not set"
     ]
    }
   ],
   "source": [
    "test = open('../state/AZ/az_state_prison_2808_model_inputs.yaml')\n",
    "test_sim = SuperSimulation(test)\n",
    "test_sim.simulate_baseline('pre-trial', 'prison')"
   ]
  },
  {
   "cell_type": "code",
   "execution_count": null,
   "metadata": {},
   "outputs": [],
   "source": []
  }
 ],
 "metadata": {
  "kernelspec": {
   "display_name": "Python 3",
   "language": "python",
   "name": "python3"
  },
  "language_info": {
   "codemirror_mode": {
    "name": "ipython",
    "version": 3
   },
   "file_extension": ".py",
   "mimetype": "text/x-python",
   "name": "python",
   "nbconvert_exporter": "python",
   "pygments_lexer": "ipython3",
   "version": "3.7.0"
  }
 },
 "nbformat": 4,
 "nbformat_minor": 4
}
