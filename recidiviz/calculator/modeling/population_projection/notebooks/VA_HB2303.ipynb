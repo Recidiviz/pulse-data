{
 "cells": [
  {
   "cell_type": "code",
   "execution_count": 1,
   "metadata": {},
   "outputs": [
    {
     "name": "stderr",
     "output_type": "stream",
     "text": [
      "/Users/pacopoler/.local/share/virtualenvs/pulse-data-Jd9N3JcA/lib/python3.7/site-packages/IPython/core/interactiveshell.py:3338: DtypeWarning: Columns (39) have mixed types.Specify dtype option on import or set low_memory=False.\n",
      "  if (await self.run_code(code, result,  async_=asy)):\n"
     ]
    },
    {
     "name": "stdout",
     "output_type": "stream",
     "text": [
      "number of records: 791960\n"
     ]
    },
    {
     "name": "stderr",
     "output_type": "stream",
     "text": [
      "./VA_HB2303_preprocessing.ipynb:5: SettingWithCopyWarning: \n",
      "A value is trying to be set on a copy of a slice from a DataFrame.\n",
      "Try using .loc[row_indexer,col_indexer] = value instead\n",
      "\n",
      "See the caveats in the documentation: https://pandas.pydata.org/pandas-docs/stable/user_guide/indexing.html#returning-a-view-versus-a-copy\n",
      "  \"execution_count\": 1,\n"
     ]
    }
   ],
   "source": [
    "import os\n",
    "import sys\n",
    "sys.path.insert(0, os.path.relpath('../../../../..')) \n",
    "\n",
    "from recidiviz.calculator.modeling.population_projection.simulations.super_simulation_factory import SuperSimulationFactory\n",
    "from recidiviz.calculator.modeling.population_projection.compartment_transitions import CompartmentTransitions\n",
    "from recidiviz.calculator.modeling.population_projection.release_transitions import ReleasedTransitions\n",
    "from recidiviz.calculator.modeling.population_projection.shell_compartment import ShellCompartment\n",
    "from recidiviz.calculator.modeling.population_projection.spark_policy import SparkPolicy\n",
    "import pandas as pd\n",
    "from functools import partial\n",
    "import yaml\n",
    "\n",
    "%run ./VA_HB2303_preprocessing.ipynb"
   ]
  },
  {
   "cell_type": "code",
   "execution_count": 6,
   "metadata": {},
   "outputs": [
    {
     "name": "stderr",
     "output_type": "stream",
     "text": [
      "/Users/pacopoler/.local/share/virtualenvs/pulse-data-Jd9N3JcA/lib/python3.7/site-packages/google/cloud/bigquery/table.py:1770: UserWarning: A progress bar was requested, but there was an error loading the tqdm library. Please install tqdm to use the progress bar functionality.\n",
      "  create_bqstorage_client=create_bqstorage_client,\n"
     ]
    },
    {
     "name": "stdout",
     "output_type": "stream",
     "text": [
      "outflows_data returned 792 results\n",
      "transitions_data returned 405618 results\n",
      "total_population_data returned 0 results\n"
     ]
    }
   ],
   "source": [
    "test_sim = SuperSimulationFactory.build_super_simulation('../state/VA/VA_HB2303_model_inputs.yaml')\n",
    "# test_sim.simulate_baseline(['incarceration', 'probation'])"
   ]
  },
  {
   "cell_type": "code",
   "execution_count": 13,
   "metadata": {},
   "outputs": [
    {
     "data": {
      "text/plain": [
       "{'SCH1/2 possession': 0.5236071669356651,\n",
       " 'M1': 0.7142502174183128,\n",
       " 'SCH4 possession': 0.8081048867699643,\n",
       " 'M4': 0.9545454545454546,\n",
       " 'other drug crime': 0.5123108443262284}"
      ]
     },
     "execution_count": 13,
     "metadata": {},
     "output_type": "execute_result"
    }
   ],
   "source": [
    "diversion_fractions"
   ]
  },
  {
   "cell_type": "code",
   "execution_count": 7,
   "metadata": {
    "scrolled": false
   },
   "outputs": [
    {
     "name": "stdout",
     "output_type": "stream",
     "text": [
      "increase diversion: 0.0909449107483521\n",
      "increase diversion: 0.07441215625056351\n",
      "increase diversion: 0.05653784458525449\n",
      "increase diversion: 0.015819091297947122\n",
      "increase diversion: 0.09109284099063486\n",
      "shorten_sentence: 0.5150516559436269\n",
      "shorten_sentence: 0.00041390728476820016\n",
      "resentence-diversion: 0.4001803496000583\n",
      "old diversion: 0.5236071669356651      new diversion: 0.7142502174183128\n",
      "resentence-diversion: 0.7631281761716546\n",
      "old diversion: 0.8081048867699643      new diversion: 0.9545454545454546\n",
      "initialization time:  320.208438873291\n",
      "simulation_time:  117.65278911590576\n",
      "initialization time:  320.76598286628723\n",
      "simulation_time:  124.76608204841614\n"
     ]
    },
    {
     "data": {
      "image/png": "[encoded data removed]",
      "text/plain": [
       "<Figure size 432x288 with 1 Axes>"
      ]
     },
     "metadata": {
      "needs_background": "light"
     },
     "output_type": "display_data"
    }
   ],
   "source": [
    "resentencing_dict = {'SCH1/2 possession': (sch1_2_transitions, M1_sentences), 'SCH4 possession': (SCH4_transitions, M4_sentences)}\n",
    "diversion_dict = {'SCH1/2 possession': 'M1', 'SCH4 possession': 'M4'}\n",
    "\n",
    "# Policy Option Methods\n",
    "def resentence_shorten_sentence(crime_type, retroactive=False):\n",
    "    print(f'shorten_sentence: {1 - resentencing_dict[crime_type][1].compartment_duration.mean() / resentencing_dict[crime_type][0].compartment_duration.mean()}')\n",
    "    return partial(CompartmentTransitions.apply_reduction,\n",
    "                   reduction_df = pd.DataFrame({'outflow': ['release'], \n",
    "                                                'reduction_size': [1 - resentencing_dict[crime_type][1].compartment_duration.mean() / resentencing_dict[crime_type][0].compartment_duration.mean()],\n",
    "                                                'affected_fraction': [1]}),\n",
    "                   reduction_type='*',\n",
    "                   retroactive=retroactive)\n",
    "\n",
    "def resentence_diversion(crime_type):\n",
    "    print(f'resentence-diversion: {1 - (1 - diversion_fractions[diversion_dict[crime_type]])/(1 - diversion_fractions[crime_type])}')\n",
    "    print(f'old diversion: {diversion_fractions[crime_type]}      new diversion: {diversion_fractions[diversion_dict[crime_type]]}')\n",
    "    return partial (ShellCompartment.reallocate_outflow,\n",
    "                    reallocation_fraction = 1 - (1 - diversion_fractions[diversion_dict[crime_type]])/(1 - diversion_fractions[crime_type]),\n",
    "                    outflow = 'incarceration',\n",
    "                    new_outflow = 'probation')\n",
    "                    \n",
    "                    \n",
    "def increase_diversion(crime_type):\n",
    "    print(f\"increase diversion: {affected_fraction * (1 - diversion_fractions[crime_type]) * diversion_fractions[crime_type]}\")\n",
    "    return partial (ShellCompartment.reallocate_outflow,\n",
    "                    reallocation_fraction = affected_fraction * (1 - diversion_fractions[crime_type]) * diversion_fractions[crime_type],\n",
    "                    outflow = 'incarceration',\n",
    "                    new_outflow = 'probation')\n",
    "\n",
    "policy_list_diversion = [\n",
    "    SparkPolicy(policy_fn=increase_diversion(crime_type),\n",
    "                spark_compartment='pretrial',\n",
    "                sub_population={'crime_type': crime_type},\n",
    "                apply_retroactive=False)\n",
    "    for crime_type in diversion_fractions\n",
    "]\n",
    "policy_list_resentencing = [\n",
    "    SparkPolicy(policy_fn=resentence_shorten_sentence(crime_type),\n",
    "                spark_compartment='prison',\n",
    "                sub_population={'crime_type': crime_type},\n",
    "                apply_retroactive=False)\n",
    "    for crime_type in resentencing_dict\n",
    "] + [\n",
    "    SparkPolicy(policy_fn=resentence_diversion(crime_type),\n",
    "                spark_compartment='pretrial',\n",
    "                sub_population={'crime_type': crime_type},\n",
    "                apply_retroactive=False)\n",
    "    for crime_type in diversion_dict\n",
    "]\n",
    "    \n",
    "test_results = test_sim.simulate_policy(policy_list_diversion + policy_list_resentencing, 'incarceration')"
   ]
  },
  {
   "cell_type": "code",
   "execution_count": 8,
   "metadata": {},
   "outputs": [],
   "source": [
    "simulation_tag = 'VA_HB2303'\n",
    "test_sim.upload_simulation_results_to_bq('recidiviz-staging', simulation_tag)"
   ]
  },
  {
   "cell_type": "code",
   "execution_count": null,
   "metadata": {},
   "outputs": [],
   "source": []
  }
 ],
 "metadata": {
  "kernelspec": {
   "display_name": "Python 3",
   "language": "python",
   "name": "python3"
  },
  "language_info": {
   "codemirror_mode": {
    "name": "ipython",
    "version": 3
   },
   "file_extension": ".py",
   "mimetype": "text/x-python",
   "name": "python",
   "nbconvert_exporter": "python",
   "pygments_lexer": "ipython3",
   "version": "3.7.3"
  }
 },
 "nbformat": 4,
 "nbformat_minor": 4
}
