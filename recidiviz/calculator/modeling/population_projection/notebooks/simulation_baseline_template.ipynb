{
 "cells": [
  {
   "cell_type": "code",
   "execution_count": 1,
   "metadata": {},
   "outputs": [],
   "source": [
    "import os\n",
    "import sys\n",
    "sys.path.insert(0, os.path.relpath('../../../../..')) \n"
   ]
  },
  {
   "cell_type": "code",
   "execution_count": 2,
   "metadata": {},
   "outputs": [],
   "source": [
    "from recidiviz.calculator.modeling.population_projection.simulations.super_simulation_factory import SuperSimulationFactory\n",
    "import pandas as pd\n"
   ]
  },
  {
   "cell_type": "code",
   "execution_count": 3,
   "metadata": {},
   "outputs": [
    {
     "name": "stderr",
     "output_type": "stream",
     "text": [
      "/Users/pacopoler/.local/share/virtualenvs/pulse-data-Jd9N3JcA/lib/python3.7/site-packages/google/cloud/bigquery/table.py:1770: UserWarning: A progress bar was requested, but there was an error loading the tqdm library. Please install tqdm to use the progress bar functionality.\n",
      "  create_bqstorage_client=create_bqstorage_client,\n"
     ]
    },
    {
     "name": "stdout",
     "output_type": "stream",
     "text": [
      "outflows_data returned 288 results\n",
      "transitions_data returned 51 results\n",
      "total_population_data returned 144 results\n"
     ]
    }
   ],
   "source": [
    "# "Fill out these two lines with the path of your yaml file and the \n",
    "#    full compartments you wish to see the populations of over time, then run this box.\n",
    "file_path = '../state/AZ/financial_incentives/AZ_supervision_model_inputs.yaml'\n",
    "display_compartments = ['probation', 'parole']\n",
    "\n",
    "test_sim = SuperSimulationFactory.build_super_simulation(file_path)\n",
    "test_sim.simulate_baseline(display_compartments)"
   ]
  }
 ],
 "metadata": {
  "kernelspec": {
   "display_name": "Python 3",
   "language": "python",
   "name": "python3"
  },
  "language_info": {
   "codemirror_mode": {
    "name": "ipython",
    "version": 3
   },
   "file_extension": ".py",
   "mimetype": "text/x-python",
   "name": "python",
   "nbconvert_exporter": "python",
   "pygments_lexer": "ipython3",
   "version": "3.7.3"
  }
 },
 "nbformat": 4,
 "nbformat_minor": 4
}
