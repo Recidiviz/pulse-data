{
 "cells": [
  {
   "cell_type": "code",
   "execution_count": 1,
   "metadata": {},
   "outputs": [],
   "source": [
    "import os\n",
    "import sys\n",
    "sys.path.insert(0, os.path.relpath('../../../../..')) \n",
    "\n"
   ]
  },
  {
   "cell_type": "code",
   "execution_count": 2,
   "metadata": {},
   "outputs": [],
   "source": [
    "\n",
    "from recidiviz.calculator.modeling.population_projection.simulations.super_simulation_factory import SuperSimulationFactory\n",
    "from recidiviz.calculator.modeling.population_projection.compartment_transitions import CompartmentTransitions\n",
    "from recidiviz.calculator.modeling.population_projection.shell_compartment import ShellCompartment\n",
    "from recidiviz.calculator.modeling.population_projection.spark_policy import SparkPolicy\n",
    "import pandas as pd\n",
    "from functools import partial\n",
    "import yaml"
   ]
  },
  {
   "cell_type": "code",
   "execution_count": 3,
   "metadata": {},
   "outputs": [
    {
     "name": "stderr",
     "output_type": "stream",
     "text": [
      "/Users/pacopoler/.local/share/virtualenvs/pulse-data-Jd9N3JcA/lib/python3.7/site-packages/google/cloud/bigquery/table.py:1728: UserWarning: A progress bar was requested, but there was an error loading the tqdm library. Please install tqdm to use the progress bar functionality.\n",
      "  create_bqstorage_client=create_bqstorage_client,\n"
     ]
    },
    {
     "name": "stdout",
     "output_type": "stream",
     "text": [
      "outflows_data returned 480 results\n",
      "transitions_data returned 50 results\n",
      "total_population_data returned 480 results\n"
     ]
    }
   ],
   "source": [
    "test_sim = SuperSimulationFactory.build_super_simulation('../state/OH/Prong2/OH_prison_p2_model_inputs.yaml')\n",
    "# commented this out once I'm working on the policy but this should be the first thing you run to make sure the simulation is functional\n",
    "# test_sim.simulate_policy([], 'prison')"
   ]
  },
  {
   "cell_type": "code",
   "execution_count": 4,
   "metadata": {},
   "outputs": [],
   "source": [
    "outs = test_sim.data_dict['outflows_data'][test_sim.data_dict['outflows_data'].time_step == test_sim.data_dict['outflows_data'].time_step.max()]\n"
   ]
  },
  {
   "cell_type": "code",
   "execution_count": 11,
   "metadata": {
    "scrolled": false
   },
   "outputs": [
    {
     "name": "stdout",
     "output_type": "stream",
     "text": [
      "initialization time:  93.11583924293518\n",
      "simulation_time:  87.06411600112915\n",
      "initialization time:  91.85000705718994\n",
      "simulation_time:  84.25852274894714\n"
     ]
    },
    {
     "data": {
      "image/png": "[encoded data removed]",
      "text/plain": [
       "<Figure size 432x288 with 1 Axes>"
      ]
     },
     "metadata": {
      "needs_background": "light"
     },
     "output_type": "display_data"
    }
   ],
   "source": [
    "# Policy Option Method\n",
    "possession_to_trafficking_diversion_rate = 0.10\n",
    "felony_level_diversion_rate = 0.10\n",
    "\n",
    "def get_felony_tag(felony_level):\n",
    "    return f\"F-{felony_level}\"\n",
    "\n",
    "\n",
    "def divert_felony_level(felony_level):\n",
    "    felony_tag = get_felony_tag(felony_level)\n",
    "    incoming_felony_tag = get_felony_tag(felony_level - 1)\n",
    "    scale_factor = 0\n",
    "    starting_size = outs[outs.crime == felony_tag].iloc[0].total_population\n",
    "    if felony_level > 1:\n",
    "        scale_factor -= felony_level_diversion_rate * outs[outs.crime == incoming_felony_tag].iloc[0].total_population / starting_size\n",
    "    if felony_level < 5:\n",
    "        scale_factor += felony_level_diversion_rate   \n",
    "            \n",
    "    return partial(ShellCompartment.reallocate_outflow, \n",
    "                   reallocation_fraction=scale_factor,\n",
    "                   outflow='prison')\n",
    "\n",
    "policy_list = [SparkPolicy(policy_fn=divert_felony_level(felony_level),\n",
    "                            spark_compartment='pretrial',\n",
    "                            sub_population={'crime': get_felony_tag(felony_level), 'crime_type': crime_type},\n",
    "                            apply_retroactive=False)\n",
    "                for felony_level in [1,2,3,4,5] for crime_type in outs.crime_type.unique()]\n",
    "\n",
    "test_results = test_sim.simulate_policy(policy_list, 'prison')"
   ]
  },
  {
   "cell_type": "code",
   "execution_count": 12,
   "metadata": {},
   "outputs": [],
   "source": [
    "simulation_tag = 'OH_prison_p2_10%'\n",
    "test_sim.upload_simulation_results_to_bq('recidiviz-staging', simulation_tag)"
   ]
  },
  {
   "cell_type": "code",
   "execution_count": 6,
   "metadata": {},
   "outputs": [
    {
     "data": {
      "text/plain": [
       "0    1.0\n",
       "1    2.0\n",
       "2    3.0\n",
       "dtype: float64"
      ]
     },
     "execution_count": 6,
     "metadata": {},
     "output_type": "execute_result"
    }
   ],
   "source": [
    "round(pd.Series([1,2,3.4]))"
   ]
  },
  {
   "cell_type": "code",
   "execution_count": null,
   "metadata": {},
   "outputs": [],
   "source": []
  }
 ],
 "metadata": {
  "kernelspec": {
   "display_name": "Python 3",
   "language": "python",
   "name": "python3"
  },
  "language_info": {
   "codemirror_mode": {
    "name": "ipython",
    "version": 3
   },
   "file_extension": ".py",
   "mimetype": "text/x-python",
   "name": "python",
   "nbconvert_exporter": "python",
   "pygments_lexer": "ipython3",
   "version": "3.7.3"
  }
 },
 "nbformat": 4,
 "nbformat_minor": 4
}
