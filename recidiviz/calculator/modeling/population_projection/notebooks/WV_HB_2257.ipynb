{
 "cells": [
  {
   "cell_type": "code",
   "execution_count": 1,
   "metadata": {},
   "outputs": [],
   "source": [
    "import os\n",
    "import sys\n",
    "sys.path.insert(0, os.path.relpath('../../../../..')) \n",
    "\n"
   ]
  },
  {
   "cell_type": "code",
   "execution_count": 2,
   "metadata": {},
   "outputs": [],
   "source": [
    "from recidiviz.calculator.modeling.population_projection.super_simulation.super_simulation_factory import SuperSimulationFactory\n",
    "from recidiviz.calculator.modeling.population_projection.spark_policy import SparkPolicy\n",
    "from recidiviz.calculator.modeling.population_projection.transition_table import TransitionTable\n",
    "from recidiviz.calculator.modeling.population_projection.utils.transitions_utils import TransitionTableType\n",
    "from functools import partial\n",
    "import pandas as pd\n",
    "%config Completer.use_jedi = False"
   ]
  },
  {
   "cell_type": "code",
   "execution_count": 4,
   "metadata": {},
   "outputs": [
    {
     "name": "stderr",
     "output_type": "stream",
     "text": [
      "/Users/pacopoler/.local/share/virtualenvs/pulse-data-Jd9N3JcA/lib/python3.8/site-packages/google/cloud/bigquery/table.py:1767: UserWarning: A progress bar was requested, but there was an error loading the tqdm library. Please install tqdm to use the progress bar functionality.\n",
      "  record_batch = self.to_arrow(\n"
     ]
    },
    {
     "name": "stdout",
     "output_type": "stream",
     "text": [
      "outflows_data returned 54 results\n",
      "transitions_data returned 75 results\n",
      "total_population_data returned 0 results\n"
     ]
    }
   ],
   "source": [
    "path_from_state_folder = 'WV/HB_2257/WV_hb2257_model_inputs.yaml'\n",
    "display_compartments = ['release', 'prison_new_crime', 'prison_tech_rev']\n",
    "test_sim = SuperSimulationFactory.build_super_simulation('../state/' + path_from_state_folder)\n",
    "# test_sim.simulate_baseline(display_compartments)"
   ]
  },
  {
   "cell_type": "code",
   "execution_count": 27,
   "metadata": {},
   "outputs": [
    {
     "name": "stdout",
     "output_type": "stream",
     "text": [
      "initialization time:  6.290617942810059\n",
      "initialization time:  5.425053119659424\n",
      "simulation_time:  6.556541204452515\n",
      "simulation_time:  6.274194955825806\n"
     ]
    },
    {
     "data": {
      "image/png": "[encoded data removed]",
      "text/plain": [
       "<Figure size 432x288 with 1 Axes>"
      ]
     },
     "metadata": {
      "needs_background": "light"
     },
     "output_type": "display_data"
    }
   ],
   "source": [
    "# Policy Option Methods\n",
    "technical_revocation_rate = 0.2852883733\n",
    "new_offense_revocation_rate = 0.268\n",
    "RETROACTIVE = False\n",
    "\n",
    "def shift_from_full_release_to_re_incarceration():\n",
    "    return partial(TransitionTable.reallocate_outflow, \n",
    "                   reallocation_df=pd.DataFrame({\n",
    "                       'outflow':['full_release'],\n",
    "                       'affected_fraction': [technical_revocation_rate / (1 - new_offense_revocation_rate)],\n",
    "                       'new_outflow': ['prison_new_crime']\n",
    "                   }),\n",
    "                   reallocation_type='*',\n",
    "                   retroactive=RETROACTIVE)\n",
    "\n",
    "def shift_from_new_rev_to_technical_rev():\n",
    "    return partial(TransitionTable.reallocate_outflow, \n",
    "                   reallocation_df=pd.DataFrame({\n",
    "                       'outflow':['prison_new_crime'],\n",
    "                       'affected_fraction': [technical_revocation_rate / (technical_revocation_rate + new_offense_revocation_rate)],\n",
    "                       'new_outflow': ['prison_tech_rev']\n",
    "                   }),\n",
    "                   reallocation_type='+',\n",
    "                   retroactive=RETROACTIVE)\n",
    "\n",
    "\n",
    "policy_list = [\n",
    "    SparkPolicy(policy_fn=shift_from_full_release_to_re_incarceration(),\n",
    "                spark_compartment='release',\n",
    "                sub_population={'age': 'x'},\n",
    "                policy_ts=24,\n",
    "                apply_retroactive=False),\n",
    "    SparkPolicy(policy_fn=shift_from_new_rev_to_technical_rev(),\n",
    "                spark_compartment='release',\n",
    "                sub_population={'age': 'x'},\n",
    "                policy_ts=24,\n",
    "                apply_retroactive=False)\n",
    "]\n",
    "    \n",
    "test_results = test_sim.simulate_policy(policy_list, 'prison_tech_rev')"
   ]
  },
  {
   "cell_type": "code",
   "execution_count": 17,
   "metadata": {},
   "outputs": [
    {
     "data": {
      "text/plain": [
       "[outflow_to\n",
       " full_release        0.732002\n",
       " prison_new_crime    0.267998\n",
       " dtype: float64,\n",
       " outflow_to\n",
       " full_release        0.446713\n",
       " prison_new_crime    0.267999\n",
       " prison_tech_rev     0.285288\n",
       " dtype: float64,\n",
       " outflow_to\n",
       " full_release         0.843429\n",
       " prison_new_crime     4.292536\n",
       " remaining           65.864035\n",
       " dtype: float64]"
      ]
     },
     "execution_count": 17,
     "metadata": {},
     "output_type": "execute_result"
    }
   ],
   "source": [
    "transitions = test_sim.simulator.pop_simulations['policy'].sub_simulations['x'].simulation_compartments['release'].compartment_transitions.transition_tables[24]\n",
    "transitions.unnormalize_table(TransitionTableType.AFTER)\n",
    "transitions.unnormalize_table(TransitionTableType.BEFORE)\n",
    "\n",
    "[i.sum(axis=0) for i in transitions.transition_dfs.values()]"
   ]
  },
  {
   "cell_type": "code",
   "execution_count": 20,
   "metadata": {},
   "outputs": [
    {
     "data": {
      "text/html": [
       "<div>\n",
       "<style scoped>\n",
       "    .dataframe tbody tr th:only-of-type {\n",
       "        vertical-align: middle;\n",
       "    }\n",
       "\n",
       "    .dataframe tbody tr th {\n",
       "        vertical-align: top;\n",
       "    }\n",
       "\n",
       "    .dataframe thead th {\n",
       "        text-align: right;\n",
       "    }\n",
       "</style>\n",
       "<table border=\"1\" class=\"dataframe\">\n",
       "  <thead>\n",
       "    <tr style=\"text-align: right;\">\n",
       "      <th></th>\n",
       "      <th>simulation_tag</th>\n",
       "      <th>compartment_duration</th>\n",
       "      <th>compartment</th>\n",
       "      <th>outflow_to</th>\n",
       "      <th>total_population</th>\n",
       "      <th>crime</th>\n",
       "      <th>crime_type</th>\n",
       "      <th>age</th>\n",
       "      <th>race</th>\n",
       "      <th>date_created</th>\n",
       "    </tr>\n",
       "  </thead>\n",
       "  <tbody>\n",
       "    <tr>\n",
       "      <th>1</th>\n",
       "      <td>wv_prison_p1</td>\n",
       "      <td>21.0</td>\n",
       "      <td>prison_tech_rev</td>\n",
       "      <td>release</td>\n",
       "      <td>1.0</td>\n",
       "      <td>None</td>\n",
       "      <td>None</td>\n",
       "      <td>x</td>\n",
       "      <td>None</td>\n",
       "      <td>2021-04-07 03:00:05.177885+00:00</td>\n",
       "    </tr>\n",
       "  </tbody>\n",
       "</table>\n",
       "</div>"
      ],
      "text/plain": [
       "  simulation_tag  compartment_duration      compartment outflow_to  \\\n",
       "1   wv_prison_p1                  21.0  prison_tech_rev    release   \n",
       "\n",
       "   total_population crime crime_type age  race  \\\n",
       "1               1.0  None       None   x  None   \n",
       "\n",
       "                      date_created  \n",
       "1 2021-04-07 03:00:05.177885+00:00  "
      ]
     },
     "execution_count": 20,
     "metadata": {},
     "output_type": "execute_result"
    }
   ],
   "source": [
    "test_sim.simulator.pop_simulations['policy'].sub_simulations['x'].simulation_compartments['prison_tech_rev'].compartment_transitions.historical_outflows\n",
    "\n"
   ]
  },
  {
   "cell_type": "code",
   "execution_count": 28,
   "metadata": {},
   "outputs": [
    {
     "data": {
      "text/plain": [
       "{'spending_diff':             release prison_new_crime  prison_tech_rev full_release\n",
       " year                                                              \n",
       " 2019.000000     0.0              0.0              0.0          0.0\n",
       " 2019.083333     0.0              0.0              0.0          0.0\n",
       " 2019.166667     0.0              0.0              0.0          0.0\n",
       " 2019.250000     0.0              0.0              0.0          0.0\n",
       " 2019.333333     0.0              0.0              0.0          0.0\n",
       " ...             ...              ...              ...          ...\n",
       " 2030.583333     0.0      -211.485131 -39924648.203797          0.0\n",
       " 2030.666667     0.0      -215.078915 -40583686.903728          0.0\n",
       " 2030.750000     0.0      -218.694872 -41245455.671463          0.0\n",
       " 2030.833333     0.0      -222.332923 -41909952.028694          0.0\n",
       " 2030.916667     0.0       -225.99298 -42577172.420153          0.0\n",
       " \n",
       " [144 rows x 4 columns],\n",
       " 'compartment_life_years_diff':                 release prison_new_crime prison_tech_rev full_release\n",
       " year                                                                 \n",
       " 2019.000000         0.0              0.0             0.0          0.0\n",
       " 2019.083333         0.0              0.0             0.0          0.0\n",
       " 2019.166667         0.0              0.0             0.0          0.0\n",
       " 2019.250000         0.0              0.0             0.0          0.0\n",
       " 2019.333333         0.0              0.0             0.0          0.0\n",
       " ...                 ...              ...             ...          ...\n",
       " 2030.583333  264.818339        -0.008165    -1541.492209  1276.691078\n",
       " 2030.666667   265.88484        -0.008304    -1566.937718   1301.07041\n",
       " 2030.750000  266.952017        -0.008444    -1592.488636  1325.554476\n",
       " 2030.833333  268.019731        -0.008584    -1618.144866  1350.143321\n",
       " 2030.916667  269.087798        -0.008726    -1643.906271  1374.836991\n",
       " \n",
       " [144 rows x 4 columns],\n",
       " 'spending_diff_non_cumulative':             release prison_new_crime prison_tech_rev full_release\n",
       " year                                                             \n",
       " 2019.000000     0.0              0.0             0.0          0.0\n",
       " 2019.083333     0.0              0.0             0.0          0.0\n",
       " 2019.166667     0.0              0.0             0.0          0.0\n",
       " 2019.250000     0.0              0.0             0.0          0.0\n",
       " 2019.333333     0.0              0.0             0.0          0.0\n",
       " ...             ...              ...             ...          ...\n",
       " 2030.583333     0.0       -42.858268 -7875679.353543          0.0\n",
       " 2030.666667     0.0       -43.125412  -7908464.40234          0.0\n",
       " 2030.750000     0.0       -43.391485 -7941225.215995          0.0\n",
       " 2030.833333     0.0       -43.656607 -7973956.289962          0.0\n",
       " 2030.916667     0.0       -43.920695 -8006644.700711          0.0\n",
       " \n",
       " [144 rows x 4 columns]}"
      ]
     },
     "execution_count": 28,
     "metadata": {},
     "output_type": "execute_result"
    }
   ],
   "source": [
    "simulation_tag = 'WV_HB_2257'\n",
    "test_sim.upload_policy_simulation_results_to_bq(simulation_tag)"
   ]
  },
  {
   "cell_type": "code",
   "execution_count": null,
   "metadata": {},
   "outputs": [],
   "source": []
  }
 ],
 "metadata": {
  "kernelspec": {
   "display_name": "Python 3",
   "language": "python",
   "name": "python3"
  },
  "language_info": {
   "codemirror_mode": {
    "name": "ipython",
    "version": 3
   },
   "file_extension": ".py",
   "mimetype": "text/x-python",
   "name": "python",
   "nbconvert_exporter": "python",
   "pygments_lexer": "ipython3",
   "version": "3.8.8"
  }
 },
 "nbformat": 4,
 "nbformat_minor": 4
}
