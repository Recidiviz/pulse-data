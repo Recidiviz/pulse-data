{
 "cells": [
  {
   "cell_type": "code",
   "execution_count": 1,
   "metadata": {},
   "outputs": [],
   "source": [
    "import os\n",
    "import sys\n",
    "\n",
    "sys.path.insert(0, os.path.relpath(\"../../../../..\"))"
   ]
  },
  {
   "cell_type": "code",
   "execution_count": 2,
   "metadata": {},
   "outputs": [],
   "source": [
    "from recidiviz.calculator.modeling.population_projection.simulations.super_simulation_factory import (\n",
    "    SuperSimulationFactory,\n",
    ")\n",
    "from recidiviz.calculator.modeling.population_projection.compartment_transitions import (\n",
    "    CompartmentTransitions,\n",
    ")\n",
    "from recidiviz.calculator.modeling.population_projection.release_transitions import (\n",
    "    ReleasedTransitions,\n",
    ")\n",
    "from recidiviz.calculator.modeling.population_projection.spark_policy import SparkPolicy\n",
    "import pandas as pd\n",
    "from functools import partial\n",
    "import yaml"
   ]
  },
  {
   "cell_type": "code",
   "execution_count": 4,
   "metadata": {},
   "outputs": [
    {
     "name": "stderr",
     "output_type": "stream",
     "text": [
      "/Users/pacopoler/.local/share/virtualenvs/pulse-data-Jd9N3JcA/lib/python3.7/site-packages/google/cloud/bigquery/table.py:1728: UserWarning: A progress bar was requested, but there was an error loading the tqdm library. Please install tqdm to use the progress bar functionality.\n",
      "  create_bqstorage_client=create_bqstorage_client,\n"
     ]
    },
    {
     "name": "stdout",
     "output_type": "stream",
     "text": [
      "outflows_data returned 720 results\n",
      "transitions_data returned 1800 results\n",
      "total_population_data returned 0 results\n"
     ]
    },
    {
     "ename": "ValueError",
     "evalue": "Only 'middle' projection_type is supported for constant admissions",
     "output_type": "error",
     "traceback": [
      "\u001b[0;31m---------------------------------------------------------------------------\u001b[0m",
      "\u001b[0;31mValueError\u001b[0m                                Traceback (most recent call last)",
      "\u001b[0;32m<ipython-input-4-d78e620351aa>\u001b[0m in \u001b[0;36m<module>\u001b[0;34m\u001b[0m\n\u001b[1;32m      1\u001b[0m \u001b[0mtest_sim\u001b[0m \u001b[0;34m=\u001b[0m \u001b[0mSuperSimulationFactory\u001b[0m\u001b[0;34m.\u001b[0m\u001b[0mbuild_super_simulation\u001b[0m\u001b[0;34m(\u001b[0m\u001b[0;34m'../state/FL/FL_prison_model_inputs.yaml'\u001b[0m\u001b[0;34m)\u001b[0m\u001b[0;34m\u001b[0m\u001b[0;34m\u001b[0m\u001b[0m\n\u001b[0;32m----> 2\u001b[0;31m \u001b[0mtest_sim\u001b[0m\u001b[0;34m.\u001b[0m\u001b[0msimulate_baseline\u001b[0m\u001b[0;34m(\u001b[0m\u001b[0;34m[\u001b[0m\u001b[0;34m'prison'\u001b[0m\u001b[0;34m]\u001b[0m\u001b[0;34m)\u001b[0m\u001b[0;34m\u001b[0m\u001b[0;34m\u001b[0m\u001b[0m\n\u001b[0m",
      "\u001b[0;32m~/Desktop/Recidiviz/pulse-data/recidiviz/calculator/modeling/population_projection/super_simulation.py\u001b[0m in \u001b[0;36msimulate_baseline\u001b[0;34m(self, display_compartments, validation_pairs, first_relevant_ts)\u001b[0m\n\u001b[1;32m    109\u001b[0m             \u001b[0mself\u001b[0m\u001b[0;34m.\u001b[0m\u001b[0muser_inputs\u001b[0m\u001b[0;34m[\u001b[0m\u001b[0;34m'projection_type'\u001b[0m\u001b[0;34m]\u001b[0m \u001b[0;34m=\u001b[0m \u001b[0mprojection_type\u001b[0m\u001b[0;34m\u001b[0m\u001b[0;34m\u001b[0m\u001b[0m\n\u001b[1;32m    110\u001b[0m             self._simulate_baseline(simulation_title=f'baseline_{projection_type}',\n\u001b[0;32m--> 111\u001b[0;31m                                     first_relevant_ts=first_relevant_ts)\n\u001b[0m\u001b[1;32m    112\u001b[0m \u001b[0;34m\u001b[0m\u001b[0m\n\u001b[1;32m    113\u001b[0m         \u001b[0;31m# Run one simulation for the middle interval\u001b[0m\u001b[0;34m\u001b[0m\u001b[0;34m\u001b[0m\u001b[0;34m\u001b[0m\u001b[0m\n",
      "\u001b[0;32m~/Desktop/Recidiviz/pulse-data/recidiviz/calculator/modeling/population_projection/super_simulation_macrosim.py\u001b[0m in \u001b[0;36m_simulate_baseline\u001b[0;34m(self, simulation_title, first_relevant_ts)\u001b[0m\n\u001b[1;32m    200\u001b[0m \u001b[0;34m\u001b[0m\u001b[0m\n\u001b[1;32m    201\u001b[0m         self.pop_simulations[simulation_title].simulate_policies(*simulation_data_inputs, self.user_inputs,\n\u001b[0;32m--> 202\u001b[0;31m                                                                  first_relevant_ts)\n\u001b[0m\u001b[1;32m    203\u001b[0m \u001b[0;34m\u001b[0m\u001b[0m\n\u001b[1;32m    204\u001b[0m         \u001b[0mself\u001b[0m\u001b[0;34m.\u001b[0m\u001b[0moutput_data\u001b[0m\u001b[0;34m[\u001b[0m\u001b[0msimulation_title\u001b[0m\u001b[0;34m]\u001b[0m \u001b[0;34m=\u001b[0m\u001b[0;31m \u001b[0m\u001b[0;31m\\\u001b[0m\u001b[0;34m\u001b[0m\u001b[0;34m\u001b[0m\u001b[0m\n",
      "\u001b[0;32m~/Desktop/Recidiviz/pulse-data/recidiviz/calculator/modeling/population_projection/population_simulation.py\u001b[0m in \u001b[0;36msimulate_policies\u001b[0;34m(self, outflows_data, transitions_data, total_population_data, simulation_compartments, disaggregation_axes, user_inputs, first_relevant_ts, microsim, microsim_data)\u001b[0m\n\u001b[1;32m    108\u001b[0m                                              \u001b[0mdisaggregation_axes\u001b[0m\u001b[0;34m=\u001b[0m\u001b[0mdisaggregation_axes\u001b[0m\u001b[0;34m,\u001b[0m\u001b[0;34m\u001b[0m\u001b[0;34m\u001b[0m\u001b[0m\n\u001b[1;32m    109\u001b[0m                                              \u001b[0muser_inputs\u001b[0m\u001b[0;34m=\u001b[0m\u001b[0muser_inputs\u001b[0m\u001b[0;34m,\u001b[0m\u001b[0;34m\u001b[0m\u001b[0;34m\u001b[0m\u001b[0m\n\u001b[0;32m--> 110\u001b[0;31m                                              first_relevant_ts=first_relevant_ts)\n\u001b[0m\u001b[1;32m    111\u001b[0m \u001b[0;34m\u001b[0m\u001b[0m\n\u001b[1;32m    112\u001b[0m         \u001b[0mtime1\u001b[0m \u001b[0;34m=\u001b[0m \u001b[0mtime\u001b[0m\u001b[0;34m(\u001b[0m\u001b[0;34m)\u001b[0m\u001b[0;34m\u001b[0m\u001b[0;34m\u001b[0m\u001b[0m\n",
      "\u001b[0;32m~/Desktop/Recidiviz/pulse-data/recidiviz/calculator/modeling/population_projection/population_simulation.py\u001b[0m in \u001b[0;36minitialize_simulation_macro\u001b[0;34m(self, outflows_data, transitions_data, total_population_data, simulation_compartments, disaggregation_axes, user_inputs, first_relevant_ts)\u001b[0m\n\u001b[1;32m    180\u001b[0m \u001b[0;34m\u001b[0m\u001b[0m\n\u001b[1;32m    181\u001b[0m         self._populate_sub_simulations(outflows_data, transitions_data, total_population_data, simulation_compartments,\n\u001b[0;32m--> 182\u001b[0;31m                                        disaggregation_axes, user_inputs, first_relevant_ts, microsim=False)\n\u001b[0m\u001b[1;32m    183\u001b[0m \u001b[0;34m\u001b[0m\u001b[0m\n\u001b[1;32m    184\u001b[0m         \u001b[0;31m# run simulation up to the start_year\u001b[0m\u001b[0;34m\u001b[0m\u001b[0;34m\u001b[0m\u001b[0;34m\u001b[0m\u001b[0m\n",
      "\u001b[0;32m~/Desktop/Recidiviz/pulse-data/recidiviz/calculator/modeling/population_projection/population_simulation.py\u001b[0m in \u001b[0;36m_populate_sub_simulations\u001b[0;34m(self, outflows_data, transitions_data, total_population_data, simulation_compartments, disaggregation_axes, user_inputs, first_relevant_ts, microsim)\u001b[0m\n\u001b[1;32m    234\u001b[0m                 \u001b[0mmicrosim\u001b[0m\u001b[0;34m=\u001b[0m\u001b[0mmicrosim\u001b[0m\u001b[0;34m\u001b[0m\u001b[0;34m\u001b[0m\u001b[0m\n\u001b[1;32m    235\u001b[0m             )\n\u001b[0;32m--> 236\u001b[0;31m             \u001b[0mself\u001b[0m\u001b[0;34m.\u001b[0m\u001b[0msub_simulations\u001b[0m\u001b[0;34m[\u001b[0m\u001b[0msub_group_id\u001b[0m\u001b[0;34m]\u001b[0m\u001b[0;34m.\u001b[0m\u001b[0minitialize\u001b[0m\u001b[0;34m(\u001b[0m\u001b[0;34m)\u001b[0m\u001b[0;34m\u001b[0m\u001b[0;34m\u001b[0m\u001b[0m\n\u001b[0m\u001b[1;32m    237\u001b[0m \u001b[0;34m\u001b[0m\u001b[0m\n\u001b[1;32m    238\u001b[0m     \u001b[0;32mdef\u001b[0m \u001b[0mstep_forward\u001b[0m\u001b[0;34m(\u001b[0m\u001b[0mself\u001b[0m\u001b[0;34m,\u001b[0m \u001b[0mnum_ts\u001b[0m\u001b[0;34m:\u001b[0m \u001b[0mint\u001b[0m\u001b[0;34m)\u001b[0m\u001b[0;34m:\u001b[0m\u001b[0;34m\u001b[0m\u001b[0;34m\u001b[0m\u001b[0m\n",
      "\u001b[0;32m~/Desktop/Recidiviz/pulse-data/recidiviz/calculator/modeling/population_projection/sub_simulation.py\u001b[0m in \u001b[0;36minitialize\u001b[0;34m(self)\u001b[0m\n\u001b[1;32m    119\u001b[0m \u001b[0;34m\u001b[0m\u001b[0m\n\u001b[1;32m    120\u001b[0m         \u001b[0;31m# Initialize the compartment classes\u001b[0m\u001b[0;34m\u001b[0m\u001b[0;34m\u001b[0m\u001b[0;34m\u001b[0m\u001b[0m\n\u001b[0;32m--> 121\u001b[0;31m         \u001b[0mself\u001b[0m\u001b[0;34m.\u001b[0m\u001b[0m_initialize_compartments\u001b[0m\u001b[0;34m(\u001b[0m\u001b[0mhistorical_outflows\u001b[0m\u001b[0;34m,\u001b[0m \u001b[0mtransitions_per_compartment\u001b[0m\u001b[0;34m,\u001b[0m \u001b[0mshell_policies\u001b[0m\u001b[0;34m)\u001b[0m\u001b[0;34m\u001b[0m\u001b[0;34m\u001b[0m\u001b[0m\n\u001b[0m\u001b[1;32m    122\u001b[0m \u001b[0;34m\u001b[0m\u001b[0m\n\u001b[1;32m    123\u001b[0m     \u001b[0;32mdef\u001b[0m \u001b[0m_load_data\u001b[0m\u001b[0;34m(\u001b[0m\u001b[0mself\u001b[0m\u001b[0;34m)\u001b[0m \u001b[0;34m->\u001b[0m \u001b[0mpd\u001b[0m\u001b[0;34m.\u001b[0m\u001b[0mDataFrame\u001b[0m\u001b[0;34m:\u001b[0m\u001b[0;34m\u001b[0m\u001b[0;34m\u001b[0m\u001b[0m\n",
      "\u001b[0;32m~/Desktop/Recidiviz/pulse-data/recidiviz/calculator/modeling/population_projection/sub_simulation.py\u001b[0m in \u001b[0;36m_initialize_compartments\u001b[0;34m(self, preprocessed_data, transition_tables_by_compartment, shell_policies)\u001b[0m\n\u001b[1;32m    162\u001b[0m                     \u001b[0mtag\u001b[0m\u001b[0;34m=\u001b[0m\u001b[0mcompartment\u001b[0m\u001b[0;34m,\u001b[0m\u001b[0;34m\u001b[0m\u001b[0;34m\u001b[0m\u001b[0m\n\u001b[1;32m    163\u001b[0m                     \u001b[0mpolicy_list\u001b[0m\u001b[0;34m=\u001b[0m\u001b[0mshell_policies\u001b[0m\u001b[0;34m[\u001b[0m\u001b[0mcompartment\u001b[0m\u001b[0;34m]\u001b[0m\u001b[0;34m,\u001b[0m\u001b[0;34m\u001b[0m\u001b[0;34m\u001b[0m\u001b[0m\n\u001b[0;32m--> 164\u001b[0;31m                     \u001b[0mprojection_type\u001b[0m\u001b[0;34m=\u001b[0m\u001b[0mself\u001b[0m\u001b[0;34m.\u001b[0m\u001b[0muser_inputs\u001b[0m\u001b[0;34m.\u001b[0m\u001b[0mget\u001b[0m\u001b[0;34m(\u001b[0m\u001b[0;34m'projection_type'\u001b[0m\u001b[0;34m)\u001b[0m\u001b[0;34m\u001b[0m\u001b[0;34m\u001b[0m\u001b[0m\n\u001b[0m\u001b[1;32m    165\u001b[0m                 )\n\u001b[1;32m    166\u001b[0m             \u001b[0;32melse\u001b[0m\u001b[0;34m:\u001b[0m\u001b[0;34m\u001b[0m\u001b[0;34m\u001b[0m\u001b[0m\n",
      "\u001b[0;32m~/Desktop/Recidiviz/pulse-data/recidiviz/calculator/modeling/population_projection/shell_compartment.py\u001b[0m in \u001b[0;36m__init__\u001b[0;34m(self, outflows_data, starting_ts, policy_ts, tag, policy_list, constant_admissions, projection_type)\u001b[0m\n\u001b[1;32m     39\u001b[0m \u001b[0;34m\u001b[0m\u001b[0m\n\u001b[1;32m     40\u001b[0m         self.admissions_predictors = {\n\u001b[0;32m---> 41\u001b[0;31m             \u001b[0;34m'before'\u001b[0m\u001b[0;34m:\u001b[0m \u001b[0mPredictedAdmissions\u001b[0m\u001b[0;34m(\u001b[0m\u001b[0moutflows_data\u001b[0m\u001b[0;34m,\u001b[0m \u001b[0mconstant_admissions\u001b[0m\u001b[0;34m,\u001b[0m \u001b[0mprojection_type\u001b[0m\u001b[0;34m)\u001b[0m\u001b[0;34m,\u001b[0m\u001b[0;34m\u001b[0m\u001b[0;34m\u001b[0m\u001b[0m\n\u001b[0m\u001b[1;32m     42\u001b[0m             \u001b[0;34m'after'\u001b[0m\u001b[0;34m:\u001b[0m \u001b[0mPredictedAdmissions\u001b[0m\u001b[0;34m(\u001b[0m\u001b[0mself\u001b[0m\u001b[0;34m.\u001b[0m\u001b[0mafter_data\u001b[0m\u001b[0;34m,\u001b[0m \u001b[0mconstant_admissions\u001b[0m\u001b[0;34m,\u001b[0m \u001b[0mprojection_type\u001b[0m\u001b[0;34m)\u001b[0m\u001b[0;34m\u001b[0m\u001b[0;34m\u001b[0m\u001b[0m\n\u001b[1;32m     43\u001b[0m         }\n",
      "\u001b[0;32m~/Desktop/Recidiviz/pulse-data/recidiviz/calculator/modeling/population_projection/predicted_admissions.py\u001b[0m in \u001b[0;36m__init__\u001b[0;34m(self, historical_data, constant_admissions, projection_type)\u001b[0m\n\u001b[1;32m     58\u001b[0m \u001b[0;34m\u001b[0m\u001b[0m\n\u001b[1;32m     59\u001b[0m         \u001b[0;32mif\u001b[0m \u001b[0mself\u001b[0m\u001b[0;34m.\u001b[0m\u001b[0mpredict_constant_value\u001b[0m \u001b[0;32mand\u001b[0m \u001b[0mprojection_type\u001b[0m \u001b[0;34m!=\u001b[0m \u001b[0;34m'middle'\u001b[0m\u001b[0;34m:\u001b[0m\u001b[0;34m\u001b[0m\u001b[0;34m\u001b[0m\u001b[0m\n\u001b[0;32m---> 60\u001b[0;31m             \u001b[0;32mraise\u001b[0m \u001b[0mValueError\u001b[0m\u001b[0;34m(\u001b[0m\u001b[0;34m\"Only 'middle' projection_type is supported for constant admissions\"\u001b[0m\u001b[0;34m)\u001b[0m\u001b[0;34m\u001b[0m\u001b[0;34m\u001b[0m\u001b[0m\n\u001b[0m\u001b[1;32m     61\u001b[0m \u001b[0;34m\u001b[0m\u001b[0m\n\u001b[1;32m     62\u001b[0m         \u001b[0msupported_projection_types\u001b[0m \u001b[0;34m=\u001b[0m \u001b[0;34m[\u001b[0m\u001b[0;34m'min'\u001b[0m\u001b[0;34m,\u001b[0m \u001b[0;34m'middle'\u001b[0m\u001b[0;34m,\u001b[0m \u001b[0;34m'max'\u001b[0m\u001b[0;34m]\u001b[0m\u001b[0;34m\u001b[0m\u001b[0;34m\u001b[0m\u001b[0m\n",
      "\u001b[0;31mValueError\u001b[0m: Only 'middle' projection_type is supported for constant admissions"
     ]
    }
   ],
   "source": [
    "test_sim = SuperSimulationFactory.build_super_simulation(\n",
    "    \"../state/FL/FL_prison_model_inputs.yaml\"\n",
    ")\n",
    "test_sim.simulate_baseline([\"prison\"])"
   ]
  },
  {
   "cell_type": "code",
   "execution_count": 4,
   "metadata": {},
   "outputs": [
    {
     "data": {
      "text/plain": [
       "array(['Burglary', 'Drug offenses', 'murder/manslaughter', 'Other',\n",
       "       'Robbery', 'Sexual offenses', 'Theft/forgery/fraud',\n",
       "       'Violent personal', 'Weapons'], dtype=object)"
      ]
     },
     "execution_count": 4,
     "metadata": {},
     "output_type": "execute_result"
    }
   ],
   "source": [
    "test_sim.data_dict[\"outflows_data\"].offense.unique()"
   ]
  },
  {
   "cell_type": "code",
   "execution_count": 4,
   "metadata": {
    "scrolled": false
   },
   "outputs": [
    {
     "ename": "NameError",
     "evalue": "name 'IncarceratedTransitions' is not defined",
     "output_type": "error",
     "traceback": [
      "\u001b[0;31m---------------------------------------------------------------------------\u001b[0m",
      "\u001b[0;31mNameError\u001b[0m                                 Traceback (most recent call last)",
      "\u001b[0;32m<ipython-input-4-4e2e573a4295>\u001b[0m in \u001b[0;36m<module>\u001b[0;34m\u001b[0m\n\u001b[1;32m     26\u001b[0m                 \u001b[0msub_population\u001b[0m\u001b[0;34m=\u001b[0m\u001b[0;34m{\u001b[0m\u001b[0;34m'offense_code'\u001b[0m\u001b[0;34m:\u001b[0m \u001b[0mcrime\u001b[0m\u001b[0;34m}\u001b[0m\u001b[0;34m,\u001b[0m\u001b[0;34m\u001b[0m\u001b[0;34m\u001b[0m\u001b[0m\n\u001b[1;32m     27\u001b[0m                 apply_retroactive=False)\n\u001b[0;32m---> 28\u001b[0;31m     \u001b[0;32mfor\u001b[0m \u001b[0mcrime\u001b[0m \u001b[0;32min\u001b[0m \u001b[0maffected_crimes\u001b[0m\u001b[0;34m\u001b[0m\u001b[0;34m\u001b[0m\u001b[0m\n\u001b[0m\u001b[1;32m     29\u001b[0m ]\n\u001b[1;32m     30\u001b[0m \u001b[0;34m\u001b[0m\u001b[0m\n",
      "\u001b[0;32m<ipython-input-4-4e2e573a4295>\u001b[0m in \u001b[0;36m<listcomp>\u001b[0;34m(.0)\u001b[0m\n\u001b[1;32m     26\u001b[0m                 \u001b[0msub_population\u001b[0m\u001b[0;34m=\u001b[0m\u001b[0;34m{\u001b[0m\u001b[0;34m'offense_code'\u001b[0m\u001b[0;34m:\u001b[0m \u001b[0mcrime\u001b[0m\u001b[0;34m}\u001b[0m\u001b[0;34m,\u001b[0m\u001b[0;34m\u001b[0m\u001b[0;34m\u001b[0m\u001b[0m\n\u001b[1;32m     27\u001b[0m                 apply_retroactive=False)\n\u001b[0;32m---> 28\u001b[0;31m     \u001b[0;32mfor\u001b[0m \u001b[0mcrime\u001b[0m \u001b[0;32min\u001b[0m \u001b[0maffected_crimes\u001b[0m\u001b[0;34m\u001b[0m\u001b[0;34m\u001b[0m\u001b[0m\n\u001b[0m\u001b[1;32m     29\u001b[0m ]\n\u001b[1;32m     30\u001b[0m \u001b[0;34m\u001b[0m\u001b[0m\n",
      "\u001b[0;32m<ipython-input-4-4e2e573a4295>\u001b[0m in \u001b[0;36mabolish_mm\u001b[0;34m(mm, retroactive)\u001b[0m\n\u001b[1;32m     15\u001b[0m \u001b[0;31m# Policy Option Methods\u001b[0m\u001b[0;34m\u001b[0m\u001b[0;34m\u001b[0m\u001b[0;34m\u001b[0m\u001b[0m\n\u001b[1;32m     16\u001b[0m \u001b[0;32mdef\u001b[0m \u001b[0mabolish_mm\u001b[0m\u001b[0;34m(\u001b[0m\u001b[0mmm\u001b[0m\u001b[0;34m,\u001b[0m \u001b[0mretroactive\u001b[0m\u001b[0;34m=\u001b[0m\u001b[0;32mFalse\u001b[0m\u001b[0;34m)\u001b[0m\u001b[0;34m:\u001b[0m\u001b[0;34m\u001b[0m\u001b[0;34m\u001b[0m\u001b[0m\n\u001b[0;32m---> 17\u001b[0;31m     return partial(IncarceratedTransitions.abolish_mandatory_minimum, \n\u001b[0m\u001b[1;32m     18\u001b[0m                    \u001b[0mcurrent_mm\u001b[0m\u001b[0;34m=\u001b[0m\u001b[0mmm\u001b[0m\u001b[0;34m,\u001b[0m\u001b[0;34m\u001b[0m\u001b[0;34m\u001b[0m\u001b[0m\n\u001b[1;32m     19\u001b[0m                    \u001b[0moutflow\u001b[0m \u001b[0;34m=\u001b[0m \u001b[0;34m'release'\u001b[0m\u001b[0;34m,\u001b[0m\u001b[0;34m\u001b[0m\u001b[0;34m\u001b[0m\u001b[0m\n",
      "\u001b[0;31mNameError\u001b[0m: name 'IncarceratedTransitions' is not defined"
     ]
    }
   ],
   "source": [
    "affected_crimes = {\n",
    "    \"ASL1342\": 0.5,\n",
    "    \"NAR3038\": 3,\n",
    "    \"NAR3087\": 10,\n",
    "    \"DWI5406\": 1,\n",
    "    \"DWI5449\": 0.25,\n",
    "    \"DWI5450\": 0.5,\n",
    "    \"LIC6834\": 1,\n",
    "    \"LIC6860\": 1,\n",
    "    \"WPN5296\": 5,\n",
    "    \"WPN5297\": 2,\n",
    "}\n",
    "\n",
    "\n",
    "# Policy Option Methods\n",
    "def abolish_mm(mm, retroactive=False):\n",
    "    return partial(\n",
    "        IncarceratedTransitions.abolish_mandatory_minimum,\n",
    "        current_mm=mm,\n",
    "        outflow=\"release\",\n",
    "        retroactive=retroactive,\n",
    "    )\n",
    "\n",
    "\n",
    "policy_list_non_retroactive = [\n",
    "    SparkPolicy(\n",
    "        policy_fn=abolish_mm(affected_crimes[crime]),\n",
    "        spark_compartment=\"prison\",\n",
    "        sub_population={\"offense_code\": crime},\n",
    "        apply_retroactive=False,\n",
    "    )\n",
    "    for crime in affected_crimes\n",
    "]\n",
    "\n",
    "test_results = test_sim.simulate_policy(policy_list_non_retroactive, \"prison\")"
   ]
  },
  {
   "cell_type": "code",
   "execution_count": 4,
   "metadata": {},
   "outputs": [
    {
     "name": "stderr",
     "output_type": "stream",
     "text": [
      "/Users/justine/.local/share/virtualenvs/recidiviz-research--v7DE6HN/lib/python3.7/site-packages/google/auth/_default.py:69: UserWarning: Your application has authenticated using end user credentials from Google Cloud SDK. We recommend that most server applications use service accounts instead. If your application continues to use end user credentials from Cloud SDK, you might receive a \"quota exceeded\" or \"API not enabled\" error. For more information about service accounts, see https://cloud.google.com/docs/authentication/\n",
      "  warnings.warn(_CLOUD_SDK_CREDENTIALS_WARNING)\n"
     ]
    }
   ],
   "source": [
    "simulation_tag = \"VA_SB_5046\"\n",
    "test_sim.upload_simulation_results_to_bq(\"recidiviz-staging\", simulation_tag)"
   ]
  },
  {
   "cell_type": "code",
   "execution_count": 5,
   "metadata": {},
   "outputs": [
    {
     "data": {
      "text/plain": [
       "(      jail  release        prison\n",
       " year                             \n",
       " 2016   0.0      0.0  0.000000e+00\n",
       " 2017   0.0      0.0  0.000000e+00\n",
       " 2018   0.0      0.0  0.000000e+00\n",
       " 2019   0.0      0.0  0.000000e+00\n",
       " 2020   0.0      0.0  0.000000e+00\n",
       " 2021   0.0      0.0  0.000000e+00\n",
       " 2022   0.0     -0.0  1.315663e+07\n",
       " 2023   0.0     -0.0  3.163027e+07\n",
       " 2024   0.0     -0.0  5.424741e+07\n",
       " 2025   0.0     -0.0  8.023826e+07,\n",
       "       jail      release       prison\n",
       " year                                \n",
       " 2016   0.0     0.000000     0.000000\n",
       " 2017   0.0     0.000000     0.000000\n",
       " 2018   0.0     0.000000     0.000000\n",
       " 2019   0.0     0.000000     0.000000\n",
       " 2020   0.0     0.000000     0.000000\n",
       " 2021   0.0     0.000000     0.000000\n",
       " 2022   0.0  -409.277499   409.277498\n",
       " 2023   0.0  -983.956718   983.956715\n",
       " 2024   0.0 -1687.532192  1687.532187\n",
       " 2025   0.0 -2496.057356  2496.057350)"
      ]
     },
     "execution_count": 5,
     "metadata": {},
     "output_type": "execute_result"
    }
   ],
   "source": [
    "test_results"
   ]
  },
  {
   "cell_type": "code",
   "execution_count": 6,
   "metadata": {},
   "outputs": [
    {
     "data": {
      "text/html": [
       "<div>\n",
       "<style scoped>\n",
       "    .dataframe tbody tr th:only-of-type {\n",
       "        vertical-align: middle;\n",
       "    }\n",
       "\n",
       "    .dataframe tbody tr th {\n",
       "        vertical-align: top;\n",
       "    }\n",
       "\n",
       "    .dataframe thead th {\n",
       "        text-align: right;\n",
       "    }\n",
       "</style>\n",
       "<table border=\"1\" class=\"dataframe\">\n",
       "  <thead>\n",
       "    <tr style=\"text-align: right;\">\n",
       "      <th></th>\n",
       "      <th>jail</th>\n",
       "      <th>release</th>\n",
       "      <th>prison</th>\n",
       "    </tr>\n",
       "    <tr>\n",
       "      <th>year</th>\n",
       "      <th></th>\n",
       "      <th></th>\n",
       "      <th></th>\n",
       "    </tr>\n",
       "  </thead>\n",
       "  <tbody>\n",
       "    <tr>\n",
       "      <th>2016</th>\n",
       "      <td>0.0</td>\n",
       "      <td>0.000000</td>\n",
       "      <td>0.000000</td>\n",
       "    </tr>\n",
       "    <tr>\n",
       "      <th>2017</th>\n",
       "      <td>0.0</td>\n",
       "      <td>0.000000</td>\n",
       "      <td>0.000000</td>\n",
       "    </tr>\n",
       "    <tr>\n",
       "      <th>2018</th>\n",
       "      <td>0.0</td>\n",
       "      <td>0.000000</td>\n",
       "      <td>0.000000</td>\n",
       "    </tr>\n",
       "    <tr>\n",
       "      <th>2019</th>\n",
       "      <td>0.0</td>\n",
       "      <td>0.000000</td>\n",
       "      <td>0.000000</td>\n",
       "    </tr>\n",
       "    <tr>\n",
       "      <th>2020</th>\n",
       "      <td>0.0</td>\n",
       "      <td>0.000000</td>\n",
       "      <td>0.000000</td>\n",
       "    </tr>\n",
       "    <tr>\n",
       "      <th>2021</th>\n",
       "      <td>0.0</td>\n",
       "      <td>0.000000</td>\n",
       "      <td>0.000000</td>\n",
       "    </tr>\n",
       "    <tr>\n",
       "      <th>2022</th>\n",
       "      <td>0.0</td>\n",
       "      <td>-409.277499</td>\n",
       "      <td>409.277498</td>\n",
       "    </tr>\n",
       "    <tr>\n",
       "      <th>2023</th>\n",
       "      <td>0.0</td>\n",
       "      <td>-983.956718</td>\n",
       "      <td>983.956715</td>\n",
       "    </tr>\n",
       "    <tr>\n",
       "      <th>2024</th>\n",
       "      <td>0.0</td>\n",
       "      <td>-1687.532192</td>\n",
       "      <td>1687.532187</td>\n",
       "    </tr>\n",
       "    <tr>\n",
       "      <th>2025</th>\n",
       "      <td>0.0</td>\n",
       "      <td>-2496.057356</td>\n",
       "      <td>2496.057350</td>\n",
       "    </tr>\n",
       "  </tbody>\n",
       "</table>\n",
       "</div>"
      ],
      "text/plain": [
       "      jail      release       prison\n",
       "year                                \n",
       "2016   0.0     0.000000     0.000000\n",
       "2017   0.0     0.000000     0.000000\n",
       "2018   0.0     0.000000     0.000000\n",
       "2019   0.0     0.000000     0.000000\n",
       "2020   0.0     0.000000     0.000000\n",
       "2021   0.0     0.000000     0.000000\n",
       "2022   0.0  -409.277499   409.277498\n",
       "2023   0.0  -983.956718   983.956715\n",
       "2024   0.0 -1687.532192  1687.532187\n",
       "2025   0.0 -2496.057356  2496.057350"
      ]
     },
     "execution_count": 6,
     "metadata": {},
     "output_type": "execute_result"
    }
   ],
   "source": [
    "test_sim.output_data[\"life_years\"]"
   ]
  },
  {
   "cell_type": "code",
   "execution_count": 7,
   "metadata": {},
   "outputs": [
    {
     "data": {
      "text/html": [
       "<div>\n",
       "<style scoped>\n",
       "    .dataframe tbody tr th:only-of-type {\n",
       "        vertical-align: middle;\n",
       "    }\n",
       "\n",
       "    .dataframe tbody tr th {\n",
       "        vertical-align: top;\n",
       "    }\n",
       "\n",
       "    .dataframe thead th {\n",
       "        text-align: right;\n",
       "    }\n",
       "</style>\n",
       "<table border=\"1\" class=\"dataframe\">\n",
       "  <thead>\n",
       "    <tr style=\"text-align: right;\">\n",
       "      <th></th>\n",
       "      <th>jail</th>\n",
       "      <th>release</th>\n",
       "      <th>prison</th>\n",
       "    </tr>\n",
       "    <tr>\n",
       "      <th>year</th>\n",
       "      <th></th>\n",
       "      <th></th>\n",
       "      <th></th>\n",
       "    </tr>\n",
       "  </thead>\n",
       "  <tbody>\n",
       "    <tr>\n",
       "      <th>2016</th>\n",
       "      <td>0.0</td>\n",
       "      <td>0.0</td>\n",
       "      <td>0.000000e+00</td>\n",
       "    </tr>\n",
       "    <tr>\n",
       "      <th>2017</th>\n",
       "      <td>0.0</td>\n",
       "      <td>0.0</td>\n",
       "      <td>0.000000e+00</td>\n",
       "    </tr>\n",
       "    <tr>\n",
       "      <th>2018</th>\n",
       "      <td>0.0</td>\n",
       "      <td>0.0</td>\n",
       "      <td>0.000000e+00</td>\n",
       "    </tr>\n",
       "    <tr>\n",
       "      <th>2019</th>\n",
       "      <td>0.0</td>\n",
       "      <td>0.0</td>\n",
       "      <td>0.000000e+00</td>\n",
       "    </tr>\n",
       "    <tr>\n",
       "      <th>2020</th>\n",
       "      <td>0.0</td>\n",
       "      <td>0.0</td>\n",
       "      <td>0.000000e+00</td>\n",
       "    </tr>\n",
       "    <tr>\n",
       "      <th>2021</th>\n",
       "      <td>0.0</td>\n",
       "      <td>0.0</td>\n",
       "      <td>0.000000e+00</td>\n",
       "    </tr>\n",
       "    <tr>\n",
       "      <th>2022</th>\n",
       "      <td>0.0</td>\n",
       "      <td>-0.0</td>\n",
       "      <td>1.315663e+07</td>\n",
       "    </tr>\n",
       "    <tr>\n",
       "      <th>2023</th>\n",
       "      <td>0.0</td>\n",
       "      <td>-0.0</td>\n",
       "      <td>3.163027e+07</td>\n",
       "    </tr>\n",
       "    <tr>\n",
       "      <th>2024</th>\n",
       "      <td>0.0</td>\n",
       "      <td>-0.0</td>\n",
       "      <td>5.424741e+07</td>\n",
       "    </tr>\n",
       "    <tr>\n",
       "      <th>2025</th>\n",
       "      <td>0.0</td>\n",
       "      <td>-0.0</td>\n",
       "      <td>8.023826e+07</td>\n",
       "    </tr>\n",
       "  </tbody>\n",
       "</table>\n",
       "</div>"
      ],
      "text/plain": [
       "      jail  release        prison\n",
       "year                             \n",
       "2016   0.0      0.0  0.000000e+00\n",
       "2017   0.0      0.0  0.000000e+00\n",
       "2018   0.0      0.0  0.000000e+00\n",
       "2019   0.0      0.0  0.000000e+00\n",
       "2020   0.0      0.0  0.000000e+00\n",
       "2021   0.0      0.0  0.000000e+00\n",
       "2022   0.0     -0.0  1.315663e+07\n",
       "2023   0.0     -0.0  3.163027e+07\n",
       "2024   0.0     -0.0  5.424741e+07\n",
       "2025   0.0     -0.0  8.023826e+07"
      ]
     },
     "execution_count": 7,
     "metadata": {},
     "output_type": "execute_result"
    }
   ],
   "source": [
    "test_sim.output_data[\"cost_avoidance\"]"
   ]
  },
  {
   "cell_type": "code",
   "execution_count": null,
   "metadata": {},
   "outputs": [],
   "source": []
  }
 ],
 "metadata": {
  "kernelspec": {
   "display_name": "Python 3",
   "language": "python",
   "name": "python3"
  },
  "language_info": {
   "codemirror_mode": {
    "name": "ipython",
    "version": 3
   },
   "file_extension": ".py",
   "mimetype": "text/x-python",
   "name": "python",
   "nbconvert_exporter": "python",
   "pygments_lexer": "ipython3",
   "version": "3.7.3"
  }
 },
 "nbformat": 4,
 "nbformat_minor": 4
}
