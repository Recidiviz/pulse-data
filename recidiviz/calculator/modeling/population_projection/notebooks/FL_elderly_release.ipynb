{
 "cells": [
  {
   "cell_type": "code",
   "execution_count": 1,
   "metadata": {},
   "outputs": [],
   "source": [
    "import os\n",
    "import sys\n",
    "sys.path.insert(0, os.path.relpath('../../../../..')) \n",
    "\n"
   ]
  },
  {
   "cell_type": "code",
   "execution_count": 2,
   "metadata": {},
   "outputs": [
    {
     "name": "stderr",
     "output_type": "stream",
     "text": [
      "../../../../../recidiviz/calculator/modeling/population_projection/super_simulation.py:92: FutureWarning: The pandas.datetime class is deprecated and will be removed from pandas in a future version. Import from datetime module instead.\n",
      "  def _convert_to_relative_date_from_timestamp(self, timestamp: pd.datetime):\n"
     ]
    }
   ],
   "source": [
    "\n",
    "from recidiviz.calculator.modeling.population_projection.super_simulation import SuperSimulation\n",
    "from recidiviz.calculator.modeling.population_projection.compartment_transitions import CompartmentTransitions\n",
    "from recidiviz.calculator.modeling.population_projection.release_transitions import ReleasedTransitions\n",
    "from recidiviz.calculator.modeling.population_projection.spark_policy import SparkPolicy\n",
    "import pandas as pd\n",
    "from functools import partial\n",
    "import yaml"
   ]
  },
  {
   "cell_type": "code",
   "execution_count": 3,
   "metadata": {},
   "outputs": [
    {
     "name": "stderr",
     "output_type": "stream",
     "text": [
      "/Users/pacopoler/.local/share/virtualenvs/pulse-data-Jd9N3JcA/lib/python3.7/site-packages/pandas/core/indexing.py:1743: SettingWithCopyWarning: \n",
      "A value is trying to be set on a copy of a slice from a DataFrame.\n",
      "Try using .loc[row_indexer,col_indexer] = value instead\n",
      "\n",
      "See the caveats in the documentation: https://pandas.pydata.org/pandas-docs/stable/user_guide/indexing.html#returning-a-view-versus-a-copy\n",
      "  isetter(ilocs[0], value)\n"
     ]
    },
    {
     "name": "stdout",
     "output_type": "stream",
     "text": [
      "initialization time:  177.97459506988525\n",
      "simulation_time:  101.42095899581909\n"
     ]
    },
    {
     "data": {
      "text/plain": [
       "(           (55, 'Burglary')  (55, 'Drug offenses')  (55, 'Other')  \\\n",
       " time_step                                                           \n",
       " 2018                      0                      0              0   \n",
       " 2019                      0                      0              0   \n",
       " \n",
       "            (55, 'Robbery')  (55, 'Sexual offenses')  \\\n",
       " time_step                                             \n",
       " 2018                     0                        0   \n",
       " 2019                     0                        0   \n",
       " \n",
       "            (55, 'Theft/forgery/fraud')  (55, 'Violent personal')  \\\n",
       " time_step                                                          \n",
       " 2018                                 0                         0   \n",
       " 2019                                 0                         0   \n",
       " \n",
       "            (55, 'Weapons')  (55, 'murder/manslaughter')  (56, 'Burglary')  \\\n",
       " time_step                                                                   \n",
       " 2018                     0                            0                 0   \n",
       " 2019                     0                            0                 0   \n",
       " \n",
       "            ...  (93, 'murder/manslaughter')  (94, 'Burglary')  \\\n",
       " time_step  ...                                                  \n",
       " 2018       ...                            0                 0   \n",
       " 2019       ...                            0                 0   \n",
       " \n",
       "            (94, 'Drug offenses')  (94, 'Other')  (94, 'Robbery')  \\\n",
       " time_step                                                          \n",
       " 2018                           0              0                0   \n",
       " 2019                           0              0                0   \n",
       " \n",
       "            (94, 'Sexual offenses')  (94, 'Theft/forgery/fraud')  \\\n",
       " time_step                                                         \n",
       " 2018                             0                            0   \n",
       " 2019                             0                            0   \n",
       " \n",
       "            (94, 'Violent personal')  (94, 'Weapons')  \\\n",
       " time_step                                              \n",
       " 2018                              0                0   \n",
       " 2019                              0                0   \n",
       " \n",
       "            (94, 'murder/manslaughter')  \n",
       " time_step                               \n",
       " 2018                                 0  \n",
       " 2019                                 0  \n",
       " \n",
       " [2 rows x 360 columns],\n",
       " Empty DataFrame\n",
       " Columns: [(55, 'Burglary'), (55, 'Drug offenses'), (55, 'Other'), (55, 'Robbery'), (55, 'Sexual offenses'), (55, 'Theft/forgery/fraud'), (55, 'Violent personal'), (55, 'Weapons'), (55, 'murder/manslaughter'), (56, 'Burglary'), (56, 'Drug offenses'), (56, 'Other'), (56, 'Robbery'), (56, 'Sexual offenses'), (56, 'Theft/forgery/fraud'), (56, 'Violent personal'), (56, 'Weapons'), (56, 'murder/manslaughter'), (57, 'Burglary'), (57, 'Drug offenses'), (57, 'Other'), (57, 'Robbery'), (57, 'Sexual offenses'), (57, 'Theft/forgery/fraud'), (57, 'Violent personal'), (57, 'Weapons'), (57, 'murder/manslaughter'), (58, 'Burglary'), (58, 'Drug offenses'), (58, 'Other'), (58, 'Robbery'), (58, 'Sexual offenses'), (58, 'Theft/forgery/fraud'), (58, 'Violent personal'), (58, 'Weapons'), (58, 'murder/manslaughter'), (59, 'Burglary'), (59, 'Drug offenses'), (59, 'Other'), (59, 'Robbery'), (59, 'Sexual offenses'), (59, 'Theft/forgery/fraud'), (59, 'Violent personal'), (59, 'Weapons'), (59, 'murder/manslaughter'), (60, 'Burglary'), (60, 'Drug offenses'), (60, 'Other'), (60, 'Robbery'), (60, 'Sexual offenses'), (60, 'Theft/forgery/fraud'), (60, 'Violent personal'), (60, 'Weapons'), (60, 'murder/manslaughter'), (61, 'Burglary'), (61, 'Drug offenses'), (61, 'Other'), (61, 'Robbery'), (61, 'Sexual offenses'), (61, 'Theft/forgery/fraud'), (61, 'Violent personal'), (61, 'Weapons'), (61, 'murder/manslaughter'), (62, 'Burglary'), (62, 'Drug offenses'), (62, 'Other'), (62, 'Robbery'), (62, 'Sexual offenses'), (62, 'Theft/forgery/fraud'), (62, 'Violent personal'), (62, 'Weapons'), (62, 'murder/manslaughter'), (63, 'Burglary'), (63, 'Drug offenses'), (63, 'Other'), (63, 'Robbery'), (63, 'Sexual offenses'), (63, 'Theft/forgery/fraud'), (63, 'Violent personal'), (63, 'Weapons'), (63, 'murder/manslaughter'), (64, 'Burglary'), (64, 'Drug offenses'), (64, 'Other'), (64, 'Robbery'), (64, 'Sexual offenses'), (64, 'Theft/forgery/fraud'), (64, 'Violent personal'), (64, 'Weapons'), (64, 'murder/manslaughter'), (65, 'Burglary'), (65, 'Drug offenses'), (65, 'Other'), (65, 'Robbery'), (65, 'Sexual offenses'), (65, 'Theft/forgery/fraud'), (65, 'Violent personal'), (65, 'Weapons'), (65, 'murder/manslaughter'), (66, 'Burglary'), ...]\n",
       " Index: []\n",
       " \n",
       " [0 rows x 360 columns])"
      ]
     },
     "execution_count": 3,
     "metadata": {},
     "output_type": "execute_result"
    },
    {
     "data": {
      "image/png": "[encoded data removed]",
      "text/plain": [
       "<Figure size 432x288 with 1 Axes>"
      ]
     },
     "metadata": {
      "needs_background": "light"
     },
     "output_type": "display_data"
    }
   ],
   "source": [
    "test = open('../state/FL/FL_prison_model_inputs.yaml')\n",
    "test_sim = SuperSimulation(test)\n",
    "test_sim.simulate_baseline('pretrial', 'prison')"
   ]
  },
  {
   "cell_type": "code",
   "execution_count": 4,
   "metadata": {},
   "outputs": [
    {
     "data": {
      "text/plain": [
       "array(['Burglary', 'Drug offenses', 'murder/manslaughter', 'Other',\n",
       "       'Robbery', 'Sexual offenses', 'Theft/forgery/fraud',\n",
       "       'Violent personal', 'Weapons'], dtype=object)"
      ]
     },
     "execution_count": 4,
     "metadata": {},
     "output_type": "execute_result"
    }
   ],
   "source": [
    "test_sim.data_dict['outflows_data'].offense.unique()"
   ]
  },
  {
   "cell_type": "code",
   "execution_count": 4,
   "metadata": {
    "scrolled": false
   },
   "outputs": [
    {
     "ename": "NameError",
     "evalue": "name 'IncarceratedTransitions' is not defined",
     "output_type": "error",
     "traceback": [
      "\u001b[0;31m---------------------------------------------------------------------------\u001b[0m",
      "\u001b[0;31mNameError\u001b[0m                                 Traceback (most recent call last)",
      "\u001b[0;32m<ipython-input-4-4e2e573a4295>\u001b[0m in \u001b[0;36m<module>\u001b[0;34m\u001b[0m\n\u001b[1;32m     26\u001b[0m                 \u001b[0msub_population\u001b[0m\u001b[0;34m=\u001b[0m\u001b[0;34m{\u001b[0m\u001b[0;34m'offense_code'\u001b[0m\u001b[0;34m:\u001b[0m \u001b[0mcrime\u001b[0m\u001b[0;34m}\u001b[0m\u001b[0;34m,\u001b[0m\u001b[0;34m\u001b[0m\u001b[0;34m\u001b[0m\u001b[0m\n\u001b[1;32m     27\u001b[0m                 apply_retroactive=False)\n\u001b[0;32m---> 28\u001b[0;31m     \u001b[0;32mfor\u001b[0m \u001b[0mcrime\u001b[0m \u001b[0;32min\u001b[0m \u001b[0maffected_crimes\u001b[0m\u001b[0;34m\u001b[0m\u001b[0;34m\u001b[0m\u001b[0m\n\u001b[0m\u001b[1;32m     29\u001b[0m ]\n\u001b[1;32m     30\u001b[0m \u001b[0;34m\u001b[0m\u001b[0m\n",
      "\u001b[0;32m<ipython-input-4-4e2e573a4295>\u001b[0m in \u001b[0;36m<listcomp>\u001b[0;34m(.0)\u001b[0m\n\u001b[1;32m     26\u001b[0m                 \u001b[0msub_population\u001b[0m\u001b[0;34m=\u001b[0m\u001b[0;34m{\u001b[0m\u001b[0;34m'offense_code'\u001b[0m\u001b[0;34m:\u001b[0m \u001b[0mcrime\u001b[0m\u001b[0;34m}\u001b[0m\u001b[0;34m,\u001b[0m\u001b[0;34m\u001b[0m\u001b[0;34m\u001b[0m\u001b[0m\n\u001b[1;32m     27\u001b[0m                 apply_retroactive=False)\n\u001b[0;32m---> 28\u001b[0;31m     \u001b[0;32mfor\u001b[0m \u001b[0mcrime\u001b[0m \u001b[0;32min\u001b[0m \u001b[0maffected_crimes\u001b[0m\u001b[0;34m\u001b[0m\u001b[0;34m\u001b[0m\u001b[0m\n\u001b[0m\u001b[1;32m     29\u001b[0m ]\n\u001b[1;32m     30\u001b[0m \u001b[0;34m\u001b[0m\u001b[0m\n",
      "\u001b[0;32m<ipython-input-4-4e2e573a4295>\u001b[0m in \u001b[0;36mabolish_mm\u001b[0;34m(mm, retroactive)\u001b[0m\n\u001b[1;32m     15\u001b[0m \u001b[0;31m# Policy Option Methods\u001b[0m\u001b[0;34m\u001b[0m\u001b[0;34m\u001b[0m\u001b[0;34m\u001b[0m\u001b[0m\n\u001b[1;32m     16\u001b[0m \u001b[0;32mdef\u001b[0m \u001b[0mabolish_mm\u001b[0m\u001b[0;34m(\u001b[0m\u001b[0mmm\u001b[0m\u001b[0;34m,\u001b[0m \u001b[0mretroactive\u001b[0m\u001b[0;34m=\u001b[0m\u001b[0;32mFalse\u001b[0m\u001b[0;34m)\u001b[0m\u001b[0;34m:\u001b[0m\u001b[0;34m\u001b[0m\u001b[0;34m\u001b[0m\u001b[0m\n\u001b[0;32m---> 17\u001b[0;31m     return partial(IncarceratedTransitions.abolish_mandatory_minimum, \n\u001b[0m\u001b[1;32m     18\u001b[0m                    \u001b[0mcurrent_mm\u001b[0m\u001b[0;34m=\u001b[0m\u001b[0mmm\u001b[0m\u001b[0;34m,\u001b[0m\u001b[0;34m\u001b[0m\u001b[0;34m\u001b[0m\u001b[0m\n\u001b[1;32m     19\u001b[0m                    \u001b[0moutflow\u001b[0m \u001b[0;34m=\u001b[0m \u001b[0;34m'release'\u001b[0m\u001b[0;34m,\u001b[0m\u001b[0;34m\u001b[0m\u001b[0;34m\u001b[0m\u001b[0m\n",
      "\u001b[0;31mNameError\u001b[0m: name 'IncarceratedTransitions' is not defined"
     ]
    }
   ],
   "source": [
    "affected_crimes = {\n",
    "    'ASL1342': 0.5, \n",
    "    'NAR3038': 3, \n",
    "    'NAR3087': 10, \n",
    "    'DWI5406': 1, \n",
    "    'DWI5449': 0.25, \n",
    "    'DWI5450': 0.5, \n",
    "    'LIC6834': 1, \n",
    "    'LIC6860': 1, \n",
    "    'WPN5296': 5,   \n",
    "    'WPN5297': 2\n",
    "}\n",
    "\n",
    "\n",
    "# Policy Option Methods\n",
    "def abolish_mm(mm, retroactive=False):\n",
    "    return partial(IncarceratedTransitions.abolish_mandatory_minimum, \n",
    "                   current_mm=mm, \n",
    "                   outflow = 'release',\n",
    "                   retroactive=retroactive)\n",
    "\n",
    "\n",
    "policy_list_non_retroactive = [\n",
    "    SparkPolicy(policy_fn=abolish_mm(affected_crimes[crime]),\n",
    "                spark_compartment='prison',\n",
    "                sub_population={'offense_code': crime},\n",
    "                apply_retroactive=False)\n",
    "    for crime in affected_crimes\n",
    "]\n",
    "    \n",
    "test_results = test_sim.simulate_policy(policy_list_non_retroactive, 'prison')"
   ]
  },
  {
   "cell_type": "code",
   "execution_count": 4,
   "metadata": {},
   "outputs": [
    {
     "name": "stderr",
     "output_type": "stream",
     "text": [
      "/Users/justine/.local/share/virtualenvs/recidiviz-research--v7DE6HN/lib/python3.7/site-packages/google/auth/_default.py:69: UserWarning: Your application has authenticated using end user credentials from Google Cloud SDK. We recommend that most server applications use service accounts instead. If your application continues to use end user credentials from Cloud SDK, you might receive a \"quota exceeded\" or \"API not enabled\" error. For more information about service accounts, see https://cloud.google.com/docs/authentication/\n",
      "  warnings.warn(_CLOUD_SDK_CREDENTIALS_WARNING)\n"
     ]
    }
   ],
   "source": [
    "simulation_tag = 'VA_SB_5046'\n",
    "test_sim.upload_simulation_results_to_bq('recidiviz-staging', simulation_tag)"
   ]
  },
  {
   "cell_type": "code",
   "execution_count": 5,
   "metadata": {},
   "outputs": [
    {
     "data": {
      "text/plain": [
       "(      jail  release        prison\n",
       " year                             \n",
       " 2016   0.0      0.0  0.000000e+00\n",
       " 2017   0.0      0.0  0.000000e+00\n",
       " 2018   0.0      0.0  0.000000e+00\n",
       " 2019   0.0      0.0  0.000000e+00\n",
       " 2020   0.0      0.0  0.000000e+00\n",
       " 2021   0.0      0.0  0.000000e+00\n",
       " 2022   0.0     -0.0  1.315663e+07\n",
       " 2023   0.0     -0.0  3.163027e+07\n",
       " 2024   0.0     -0.0  5.424741e+07\n",
       " 2025   0.0     -0.0  8.023826e+07,\n",
       "       jail      release       prison\n",
       " year                                \n",
       " 2016   0.0     0.000000     0.000000\n",
       " 2017   0.0     0.000000     0.000000\n",
       " 2018   0.0     0.000000     0.000000\n",
       " 2019   0.0     0.000000     0.000000\n",
       " 2020   0.0     0.000000     0.000000\n",
       " 2021   0.0     0.000000     0.000000\n",
       " 2022   0.0  -409.277499   409.277498\n",
       " 2023   0.0  -983.956718   983.956715\n",
       " 2024   0.0 -1687.532192  1687.532187\n",
       " 2025   0.0 -2496.057356  2496.057350)"
      ]
     },
     "execution_count": 5,
     "metadata": {},
     "output_type": "execute_result"
    }
   ],
   "source": [
    "test_results"
   ]
  },
  {
   "cell_type": "code",
   "execution_count": 6,
   "metadata": {},
   "outputs": [
    {
     "data": {
      "text/html": [
       "<div>\n",
       "<style scoped>\n",
       "    .dataframe tbody tr th:only-of-type {\n",
       "        vertical-align: middle;\n",
       "    }\n",
       "\n",
       "    .dataframe tbody tr th {\n",
       "        vertical-align: top;\n",
       "    }\n",
       "\n",
       "    .dataframe thead th {\n",
       "        text-align: right;\n",
       "    }\n",
       "</style>\n",
       "<table border=\"1\" class=\"dataframe\">\n",
       "  <thead>\n",
       "    <tr style=\"text-align: right;\">\n",
       "      <th></th>\n",
       "      <th>jail</th>\n",
       "      <th>release</th>\n",
       "      <th>prison</th>\n",
       "    </tr>\n",
       "    <tr>\n",
       "      <th>year</th>\n",
       "      <th></th>\n",
       "      <th></th>\n",
       "      <th></th>\n",
       "    </tr>\n",
       "  </thead>\n",
       "  <tbody>\n",
       "    <tr>\n",
       "      <th>2016</th>\n",
       "      <td>0.0</td>\n",
       "      <td>0.000000</td>\n",
       "      <td>0.000000</td>\n",
       "    </tr>\n",
       "    <tr>\n",
       "      <th>2017</th>\n",
       "      <td>0.0</td>\n",
       "      <td>0.000000</td>\n",
       "      <td>0.000000</td>\n",
       "    </tr>\n",
       "    <tr>\n",
       "      <th>2018</th>\n",
       "      <td>0.0</td>\n",
       "      <td>0.000000</td>\n",
       "      <td>0.000000</td>\n",
       "    </tr>\n",
       "    <tr>\n",
       "      <th>2019</th>\n",
       "      <td>0.0</td>\n",
       "      <td>0.000000</td>\n",
       "      <td>0.000000</td>\n",
       "    </tr>\n",
       "    <tr>\n",
       "      <th>2020</th>\n",
       "      <td>0.0</td>\n",
       "      <td>0.000000</td>\n",
       "      <td>0.000000</td>\n",
       "    </tr>\n",
       "    <tr>\n",
       "      <th>2021</th>\n",
       "      <td>0.0</td>\n",
       "      <td>0.000000</td>\n",
       "      <td>0.000000</td>\n",
       "    </tr>\n",
       "    <tr>\n",
       "      <th>2022</th>\n",
       "      <td>0.0</td>\n",
       "      <td>-409.277499</td>\n",
       "      <td>409.277498</td>\n",
       "    </tr>\n",
       "    <tr>\n",
       "      <th>2023</th>\n",
       "      <td>0.0</td>\n",
       "      <td>-983.956718</td>\n",
       "      <td>983.956715</td>\n",
       "    </tr>\n",
       "    <tr>\n",
       "      <th>2024</th>\n",
       "      <td>0.0</td>\n",
       "      <td>-1687.532192</td>\n",
       "      <td>1687.532187</td>\n",
       "    </tr>\n",
       "    <tr>\n",
       "      <th>2025</th>\n",
       "      <td>0.0</td>\n",
       "      <td>-2496.057356</td>\n",
       "      <td>2496.057350</td>\n",
       "    </tr>\n",
       "  </tbody>\n",
       "</table>\n",
       "</div>"
      ],
      "text/plain": [
       "      jail      release       prison\n",
       "year                                \n",
       "2016   0.0     0.000000     0.000000\n",
       "2017   0.0     0.000000     0.000000\n",
       "2018   0.0     0.000000     0.000000\n",
       "2019   0.0     0.000000     0.000000\n",
       "2020   0.0     0.000000     0.000000\n",
       "2021   0.0     0.000000     0.000000\n",
       "2022   0.0  -409.277499   409.277498\n",
       "2023   0.0  -983.956718   983.956715\n",
       "2024   0.0 -1687.532192  1687.532187\n",
       "2025   0.0 -2496.057356  2496.057350"
      ]
     },
     "execution_count": 6,
     "metadata": {},
     "output_type": "execute_result"
    }
   ],
   "source": [
    "test_sim.output_data['life_years']"
   ]
  },
  {
   "cell_type": "code",
   "execution_count": 7,
   "metadata": {},
   "outputs": [
    {
     "data": {
      "text/html": [
       "<div>\n",
       "<style scoped>\n",
       "    .dataframe tbody tr th:only-of-type {\n",
       "        vertical-align: middle;\n",
       "    }\n",
       "\n",
       "    .dataframe tbody tr th {\n",
       "        vertical-align: top;\n",
       "    }\n",
       "\n",
       "    .dataframe thead th {\n",
       "        text-align: right;\n",
       "    }\n",
       "</style>\n",
       "<table border=\"1\" class=\"dataframe\">\n",
       "  <thead>\n",
       "    <tr style=\"text-align: right;\">\n",
       "      <th></th>\n",
       "      <th>jail</th>\n",
       "      <th>release</th>\n",
       "      <th>prison</th>\n",
       "    </tr>\n",
       "    <tr>\n",
       "      <th>year</th>\n",
       "      <th></th>\n",
       "      <th></th>\n",
       "      <th></th>\n",
       "    </tr>\n",
       "  </thead>\n",
       "  <tbody>\n",
       "    <tr>\n",
       "      <th>2016</th>\n",
       "      <td>0.0</td>\n",
       "      <td>0.0</td>\n",
       "      <td>0.000000e+00</td>\n",
       "    </tr>\n",
       "    <tr>\n",
       "      <th>2017</th>\n",
       "      <td>0.0</td>\n",
       "      <td>0.0</td>\n",
       "      <td>0.000000e+00</td>\n",
       "    </tr>\n",
       "    <tr>\n",
       "      <th>2018</th>\n",
       "      <td>0.0</td>\n",
       "      <td>0.0</td>\n",
       "      <td>0.000000e+00</td>\n",
       "    </tr>\n",
       "    <tr>\n",
       "      <th>2019</th>\n",
       "      <td>0.0</td>\n",
       "      <td>0.0</td>\n",
       "      <td>0.000000e+00</td>\n",
       "    </tr>\n",
       "    <tr>\n",
       "      <th>2020</th>\n",
       "      <td>0.0</td>\n",
       "      <td>0.0</td>\n",
       "      <td>0.000000e+00</td>\n",
       "    </tr>\n",
       "    <tr>\n",
       "      <th>2021</th>\n",
       "      <td>0.0</td>\n",
       "      <td>0.0</td>\n",
       "      <td>0.000000e+00</td>\n",
       "    </tr>\n",
       "    <tr>\n",
       "      <th>2022</th>\n",
       "      <td>0.0</td>\n",
       "      <td>-0.0</td>\n",
       "      <td>1.315663e+07</td>\n",
       "    </tr>\n",
       "    <tr>\n",
       "      <th>2023</th>\n",
       "      <td>0.0</td>\n",
       "      <td>-0.0</td>\n",
       "      <td>3.163027e+07</td>\n",
       "    </tr>\n",
       "    <tr>\n",
       "      <th>2024</th>\n",
       "      <td>0.0</td>\n",
       "      <td>-0.0</td>\n",
       "      <td>5.424741e+07</td>\n",
       "    </tr>\n",
       "    <tr>\n",
       "      <th>2025</th>\n",
       "      <td>0.0</td>\n",
       "      <td>-0.0</td>\n",
       "      <td>8.023826e+07</td>\n",
       "    </tr>\n",
       "  </tbody>\n",
       "</table>\n",
       "</div>"
      ],
      "text/plain": [
       "      jail  release        prison\n",
       "year                             \n",
       "2016   0.0      0.0  0.000000e+00\n",
       "2017   0.0      0.0  0.000000e+00\n",
       "2018   0.0      0.0  0.000000e+00\n",
       "2019   0.0      0.0  0.000000e+00\n",
       "2020   0.0      0.0  0.000000e+00\n",
       "2021   0.0      0.0  0.000000e+00\n",
       "2022   0.0     -0.0  1.315663e+07\n",
       "2023   0.0     -0.0  3.163027e+07\n",
       "2024   0.0     -0.0  5.424741e+07\n",
       "2025   0.0     -0.0  8.023826e+07"
      ]
     },
     "execution_count": 7,
     "metadata": {},
     "output_type": "execute_result"
    }
   ],
   "source": [
    "test_sim.output_data['cost_avoidance']"
   ]
  },
  {
   "cell_type": "code",
   "execution_count": null,
   "metadata": {},
   "outputs": [],
   "source": []
  }
 ],
 "metadata": {
  "kernelspec": {
   "display_name": "Python 3",
   "language": "python",
   "name": "python3"
  },
  "language_info": {
   "codemirror_mode": {
    "name": "ipython",
    "version": 3
   },
   "file_extension": ".py",
   "mimetype": "text/x-python",
   "name": "python",
   "nbconvert_exporter": "python",
   "pygments_lexer": "ipython3",
   "version": "3.7.3"
  }
 },
 "nbformat": 4,
 "nbformat_minor": 4
}
