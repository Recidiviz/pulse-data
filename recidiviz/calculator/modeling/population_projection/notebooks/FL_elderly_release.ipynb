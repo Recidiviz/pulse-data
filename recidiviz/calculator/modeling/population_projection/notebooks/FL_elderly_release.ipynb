{
 "cells": [
  {
   "cell_type": "code",
   "execution_count": 1,
   "metadata": {},
   "outputs": [],
   "source": [
    "import os\n",
    "import sys\n",
    "sys.path.insert(0, os.path.relpath('../..'))\n",
    "\n",
    "from importlib import reload\n",
    "from functools import partial\n",
    "import matplotlib.pyplot as plt\n",
    "import numpy as np\n",
    "import pandas as pd\n",
    "import seaborn as sns\n",
    "\n",
    "from spark.super_simulation import SuperSimulation\n",
    "from spark.incarceration_transitions import IncarceratedTransitions\n",
    "from spark.release_transitions import ReleasedTransitions\n",
    "from spark.spark_policy import SparkPolicy\n"
   ]
  },
  {
   "cell_type": "code",
   "execution_count": 2,
   "metadata": {},
   "outputs": [
    {
     "name": "stderr",
     "output_type": "stream",
     "text": [
      "/Users/pacopoler/.local/share/virtualenvs/recidiviz-research-LWZgHH0n/lib/python3.7/site-packages/pandas/core/indexing.py:966: SettingWithCopyWarning: \n",
      "A value is trying to be set on a copy of a slice from a DataFrame.\n",
      "Try using .loc[row_indexer,col_indexer] = value instead\n",
      "\n",
      "See the caveats in the documentation: https://pandas.pydata.org/pandas-docs/stable/user_guide/indexing.html#returning-a-view-versus-a-copy\n",
      "  self.obj[item] = s\n"
     ]
    },
    {
     "name": "stdout",
     "output_type": "stream",
     "text": [
      "initialization time:  239.46522426605225\n",
      "simulation_time:  119.82554483413696\n"
     ]
    },
    {
     "data": {
      "text/plain": [
       "(           (55, 'Burglary')  (55, 'Drug offenses')  (55, 'Other')  \\\n",
       " time_step                                                           \n",
       " 2018                      0                      0              0   \n",
       " 2019                      0                      0              0   \n",
       " \n",
       "            (55, 'Robbery')  (55, 'Sexual offenses')  \\\n",
       " time_step                                             \n",
       " 2018                     0                        0   \n",
       " 2019                     0                        0   \n",
       " \n",
       "            (55, 'Theft/forgery/fraud')  (55, 'Violent personal')  \\\n",
       " time_step                                                          \n",
       " 2018                                 0                         0   \n",
       " 2019                                 0                         0   \n",
       " \n",
       "            (55, 'Weapons')  (55, 'murder/manslaughter')  (56, 'Burglary')  \\\n",
       " time_step                                                                   \n",
       " 2018                     0                            0                 0   \n",
       " 2019                     0                            0                 0   \n",
       " \n",
       "            ...  (93, 'murder/manslaughter')  (94, 'Burglary')  \\\n",
       " time_step  ...                                                  \n",
       " 2018       ...                            0                 0   \n",
       " 2019       ...                            0                 0   \n",
       " \n",
       "            (94, 'Drug offenses')  (94, 'Other')  (94, 'Robbery')  \\\n",
       " time_step                                                          \n",
       " 2018                           0              0                0   \n",
       " 2019                           0              0                0   \n",
       " \n",
       "            (94, 'Sexual offenses')  (94, 'Theft/forgery/fraud')  \\\n",
       " time_step                                                         \n",
       " 2018                             0                            0   \n",
       " 2019                             0                            0   \n",
       " \n",
       "            (94, 'Violent personal')  (94, 'Weapons')  \\\n",
       " time_step                                              \n",
       " 2018                              0                0   \n",
       " 2019                              0                0   \n",
       " \n",
       "            (94, 'murder/manslaughter')  \n",
       " time_step                               \n",
       " 2018                                 0  \n",
       " 2019                                 0  \n",
       " \n",
       " [2 rows x 360 columns],\n",
       " Empty DataFrame\n",
       " Columns: [(55, 'Burglary'), (55, 'Drug offenses'), (55, 'Other'), (55, 'Robbery'), (55, 'Sexual offenses'), (55, 'Theft/forgery/fraud'), (55, 'Violent personal'), (55, 'Weapons'), (55, 'murder/manslaughter'), (56, 'Burglary'), (56, 'Drug offenses'), (56, 'Other'), (56, 'Robbery'), (56, 'Sexual offenses'), (56, 'Theft/forgery/fraud'), (56, 'Violent personal'), (56, 'Weapons'), (56, 'murder/manslaughter'), (57, 'Burglary'), (57, 'Drug offenses'), (57, 'Other'), (57, 'Robbery'), (57, 'Sexual offenses'), (57, 'Theft/forgery/fraud'), (57, 'Violent personal'), (57, 'Weapons'), (57, 'murder/manslaughter'), (58, 'Burglary'), (58, 'Drug offenses'), (58, 'Other'), (58, 'Robbery'), (58, 'Sexual offenses'), (58, 'Theft/forgery/fraud'), (58, 'Violent personal'), (58, 'Weapons'), (58, 'murder/manslaughter'), (59, 'Burglary'), (59, 'Drug offenses'), (59, 'Other'), (59, 'Robbery'), (59, 'Sexual offenses'), (59, 'Theft/forgery/fraud'), (59, 'Violent personal'), (59, 'Weapons'), (59, 'murder/manslaughter'), (60, 'Burglary'), (60, 'Drug offenses'), (60, 'Other'), (60, 'Robbery'), (60, 'Sexual offenses'), (60, 'Theft/forgery/fraud'), (60, 'Violent personal'), (60, 'Weapons'), (60, 'murder/manslaughter'), (61, 'Burglary'), (61, 'Drug offenses'), (61, 'Other'), (61, 'Robbery'), (61, 'Sexual offenses'), (61, 'Theft/forgery/fraud'), (61, 'Violent personal'), (61, 'Weapons'), (61, 'murder/manslaughter'), (62, 'Burglary'), (62, 'Drug offenses'), (62, 'Other'), (62, 'Robbery'), (62, 'Sexual offenses'), (62, 'Theft/forgery/fraud'), (62, 'Violent personal'), (62, 'Weapons'), (62, 'murder/manslaughter'), (63, 'Burglary'), (63, 'Drug offenses'), (63, 'Other'), (63, 'Robbery'), (63, 'Sexual offenses'), (63, 'Theft/forgery/fraud'), (63, 'Violent personal'), (63, 'Weapons'), (63, 'murder/manslaughter'), (64, 'Burglary'), (64, 'Drug offenses'), (64, 'Other'), (64, 'Robbery'), (64, 'Sexual offenses'), (64, 'Theft/forgery/fraud'), (64, 'Violent personal'), (64, 'Weapons'), (64, 'murder/manslaughter'), (65, 'Burglary'), (65, 'Drug offenses'), (65, 'Other'), (65, 'Robbery'), (65, 'Sexual offenses'), (65, 'Theft/forgery/fraud'), (65, 'Violent personal'), (65, 'Weapons'), (65, 'murder/manslaughter'), (66, 'Burglary'), ...]\n",
       " Index: []\n",
       " \n",
       " [0 rows x 360 columns])"
      ]
     },
     "execution_count": 2,
     "metadata": {},
     "output_type": "execute_result"
    },
    {
     "data": {
      "image/png": "[encoded data removed]",
      "text/plain": [
       "<Figure size 432x288 with 1 Axes>"
      ]
     },
     "metadata": {
      "needs_background": "light"
     },
     "output_type": "display_data"
    }
   ],
   "source": [
    "test = open('../state/FL/FL_prison_model_inputs.yaml')\n",
    "test_sim = SuperSimulation(test)\n",
    "test_sim.simulate_baseline('pretrial', 'prison')"
   ]
  },
  {
   "cell_type": "code",
   "execution_count": 3,
   "metadata": {
    "scrolled": false
   },
   "outputs": [
    {
     "name": "stdout",
     "output_type": "stream",
     "text": [
      "initialization time:  0.06818914413452148\n",
      "simulation_time:  15.82006311416626\n",
      "initialization time:  0.05546307563781738\n",
      "simulation_time:  16.053953886032104\n"
     ]
    },
    {
     "data": {
      "image/png": "[encoded data removed]",
      "text/plain": [
       "<Figure size 432x288 with 1 Axes>"
      ]
     },
     "metadata": {
      "needs_background": "light"
     },
     "output_type": "display_data"
    }
   ],
   "source": [
    "affected_crimes = {\n",
    "    'ASL1342': 0.5, \n",
    "    'NAR3038': 3, \n",
    "    'NAR3087': 10, \n",
    "    'DWI5406': 1, \n",
    "    'DWI5449': 0.25, \n",
    "    'DWI5450': 0.5, \n",
    "    'LIC6834': 1, \n",
    "    'LIC6860': 1, \n",
    "    'WPN5296': 5,   \n",
    "    'WPN5297': 2\n",
    "}\n",
    "\n",
    "\n",
    "# Policy Option Methods\n",
    "def abolish_mm(mm, retroactive=False):\n",
    "    return partial(IncarceratedTransitions.abolish_mandatory_minimum, \n",
    "                   current_mm=mm, \n",
    "                   outflow = 'release',\n",
    "                   retroactive=retroactive)\n",
    "\n",
    "\n",
    "policy_list_non_retroactive = [\n",
    "    SparkPolicy(policy_fn=abolish_mm(affected_crimes[crime]),\n",
    "                spark_compartment='prison',\n",
    "                sub_population={'offense_code': crime},\n",
    "                apply_retroactive=False)\n",
    "    for crime in affected_crimes\n",
    "]\n",
    "    \n",
    "test_results = test_sim.simulate_policy(policy_list_non_retroactive, 'prison')"
   ]
  },
  {
   "cell_type": "code",
   "execution_count": 4,
   "metadata": {},
   "outputs": [
    {
     "name": "stderr",
     "output_type": "stream",
     "text": [
      "/Users/justine/.local/share/virtualenvs/recidiviz-research--v7DE6HN/lib/python3.7/site-packages/google/auth/_default.py:69: UserWarning: Your application has authenticated using end user credentials from Google Cloud SDK. We recommend that most server applications use service accounts instead. If your application continues to use end user credentials from Cloud SDK, you might receive a \"quota exceeded\" or \"API not enabled\" error. For more information about service accounts, see https://cloud.google.com/docs/authentication/\n",
      "  warnings.warn(_CLOUD_SDK_CREDENTIALS_WARNING)\n"
     ]
    }
   ],
   "source": [
    "simulation_tag = 'VA_SB_5046'\n",
    "test_sim.upload_simulation_results_to_bq('recidiviz-staging', simulation_tag)"
   ]
  },
  {
   "cell_type": "code",
   "execution_count": 5,
   "metadata": {},
   "outputs": [
    {
     "data": {
      "text/plain": [
       "(      jail  release        prison\n",
       " year                             \n",
       " 2016   0.0      0.0  0.000000e+00\n",
       " 2017   0.0      0.0  0.000000e+00\n",
       " 2018   0.0      0.0  0.000000e+00\n",
       " 2019   0.0      0.0  0.000000e+00\n",
       " 2020   0.0      0.0  0.000000e+00\n",
       " 2021   0.0      0.0  0.000000e+00\n",
       " 2022   0.0     -0.0  1.315663e+07\n",
       " 2023   0.0     -0.0  3.163027e+07\n",
       " 2024   0.0     -0.0  5.424741e+07\n",
       " 2025   0.0     -0.0  8.023826e+07,\n",
       "       jail      release       prison\n",
       " year                                \n",
       " 2016   0.0     0.000000     0.000000\n",
       " 2017   0.0     0.000000     0.000000\n",
       " 2018   0.0     0.000000     0.000000\n",
       " 2019   0.0     0.000000     0.000000\n",
       " 2020   0.0     0.000000     0.000000\n",
       " 2021   0.0     0.000000     0.000000\n",
       " 2022   0.0  -409.277499   409.277498\n",
       " 2023   0.0  -983.956718   983.956715\n",
       " 2024   0.0 -1687.532192  1687.532187\n",
       " 2025   0.0 -2496.057356  2496.057350)"
      ]
     },
     "execution_count": 5,
     "metadata": {},
     "output_type": "execute_result"
    }
   ],
   "source": [
    "test_results"
   ]
  },
  {
   "cell_type": "code",
   "execution_count": 6,
   "metadata": {},
   "outputs": [
    {
     "data": {
      "text/html": [
       "<div>\n",
       "<style scoped>\n",
       "    .dataframe tbody tr th:only-of-type {\n",
       "        vertical-align: middle;\n",
       "    }\n",
       "\n",
       "    .dataframe tbody tr th {\n",
       "        vertical-align: top;\n",
       "    }\n",
       "\n",
       "    .dataframe thead th {\n",
       "        text-align: right;\n",
       "    }\n",
       "</style>\n",
       "<table border=\"1\" class=\"dataframe\">\n",
       "  <thead>\n",
       "    <tr style=\"text-align: right;\">\n",
       "      <th></th>\n",
       "      <th>jail</th>\n",
       "      <th>release</th>\n",
       "      <th>prison</th>\n",
       "    </tr>\n",
       "    <tr>\n",
       "      <th>year</th>\n",
       "      <th></th>\n",
       "      <th></th>\n",
       "      <th></th>\n",
       "    </tr>\n",
       "  </thead>\n",
       "  <tbody>\n",
       "    <tr>\n",
       "      <th>2016</th>\n",
       "      <td>0.0</td>\n",
       "      <td>0.000000</td>\n",
       "      <td>0.000000</td>\n",
       "    </tr>\n",
       "    <tr>\n",
       "      <th>2017</th>\n",
       "      <td>0.0</td>\n",
       "      <td>0.000000</td>\n",
       "      <td>0.000000</td>\n",
       "    </tr>\n",
       "    <tr>\n",
       "      <th>2018</th>\n",
       "      <td>0.0</td>\n",
       "      <td>0.000000</td>\n",
       "      <td>0.000000</td>\n",
       "    </tr>\n",
       "    <tr>\n",
       "      <th>2019</th>\n",
       "      <td>0.0</td>\n",
       "      <td>0.000000</td>\n",
       "      <td>0.000000</td>\n",
       "    </tr>\n",
       "    <tr>\n",
       "      <th>2020</th>\n",
       "      <td>0.0</td>\n",
       "      <td>0.000000</td>\n",
       "      <td>0.000000</td>\n",
       "    </tr>\n",
       "    <tr>\n",
       "      <th>2021</th>\n",
       "      <td>0.0</td>\n",
       "      <td>0.000000</td>\n",
       "      <td>0.000000</td>\n",
       "    </tr>\n",
       "    <tr>\n",
       "      <th>2022</th>\n",
       "      <td>0.0</td>\n",
       "      <td>-409.277499</td>\n",
       "      <td>409.277498</td>\n",
       "    </tr>\n",
       "    <tr>\n",
       "      <th>2023</th>\n",
       "      <td>0.0</td>\n",
       "      <td>-983.956718</td>\n",
       "      <td>983.956715</td>\n",
       "    </tr>\n",
       "    <tr>\n",
       "      <th>2024</th>\n",
       "      <td>0.0</td>\n",
       "      <td>-1687.532192</td>\n",
       "      <td>1687.532187</td>\n",
       "    </tr>\n",
       "    <tr>\n",
       "      <th>2025</th>\n",
       "      <td>0.0</td>\n",
       "      <td>-2496.057356</td>\n",
       "      <td>2496.057350</td>\n",
       "    </tr>\n",
       "  </tbody>\n",
       "</table>\n",
       "</div>"
      ],
      "text/plain": [
       "      jail      release       prison\n",
       "year                                \n",
       "2016   0.0     0.000000     0.000000\n",
       "2017   0.0     0.000000     0.000000\n",
       "2018   0.0     0.000000     0.000000\n",
       "2019   0.0     0.000000     0.000000\n",
       "2020   0.0     0.000000     0.000000\n",
       "2021   0.0     0.000000     0.000000\n",
       "2022   0.0  -409.277499   409.277498\n",
       "2023   0.0  -983.956718   983.956715\n",
       "2024   0.0 -1687.532192  1687.532187\n",
       "2025   0.0 -2496.057356  2496.057350"
      ]
     },
     "execution_count": 6,
     "metadata": {},
     "output_type": "execute_result"
    }
   ],
   "source": [
    "test_sim.output_data['life_years']"
   ]
  },
  {
   "cell_type": "code",
   "execution_count": 7,
   "metadata": {},
   "outputs": [
    {
     "data": {
      "text/html": [
       "<div>\n",
       "<style scoped>\n",
       "    .dataframe tbody tr th:only-of-type {\n",
       "        vertical-align: middle;\n",
       "    }\n",
       "\n",
       "    .dataframe tbody tr th {\n",
       "        vertical-align: top;\n",
       "    }\n",
       "\n",
       "    .dataframe thead th {\n",
       "        text-align: right;\n",
       "    }\n",
       "</style>\n",
       "<table border=\"1\" class=\"dataframe\">\n",
       "  <thead>\n",
       "    <tr style=\"text-align: right;\">\n",
       "      <th></th>\n",
       "      <th>jail</th>\n",
       "      <th>release</th>\n",
       "      <th>prison</th>\n",
       "    </tr>\n",
       "    <tr>\n",
       "      <th>year</th>\n",
       "      <th></th>\n",
       "      <th></th>\n",
       "      <th></th>\n",
       "    </tr>\n",
       "  </thead>\n",
       "  <tbody>\n",
       "    <tr>\n",
       "      <th>2016</th>\n",
       "      <td>0.0</td>\n",
       "      <td>0.0</td>\n",
       "      <td>0.000000e+00</td>\n",
       "    </tr>\n",
       "    <tr>\n",
       "      <th>2017</th>\n",
       "      <td>0.0</td>\n",
       "      <td>0.0</td>\n",
       "      <td>0.000000e+00</td>\n",
       "    </tr>\n",
       "    <tr>\n",
       "      <th>2018</th>\n",
       "      <td>0.0</td>\n",
       "      <td>0.0</td>\n",
       "      <td>0.000000e+00</td>\n",
       "    </tr>\n",
       "    <tr>\n",
       "      <th>2019</th>\n",
       "      <td>0.0</td>\n",
       "      <td>0.0</td>\n",
       "      <td>0.000000e+00</td>\n",
       "    </tr>\n",
       "    <tr>\n",
       "      <th>2020</th>\n",
       "      <td>0.0</td>\n",
       "      <td>0.0</td>\n",
       "      <td>0.000000e+00</td>\n",
       "    </tr>\n",
       "    <tr>\n",
       "      <th>2021</th>\n",
       "      <td>0.0</td>\n",
       "      <td>0.0</td>\n",
       "      <td>0.000000e+00</td>\n",
       "    </tr>\n",
       "    <tr>\n",
       "      <th>2022</th>\n",
       "      <td>0.0</td>\n",
       "      <td>-0.0</td>\n",
       "      <td>1.315663e+07</td>\n",
       "    </tr>\n",
       "    <tr>\n",
       "      <th>2023</th>\n",
       "      <td>0.0</td>\n",
       "      <td>-0.0</td>\n",
       "      <td>3.163027e+07</td>\n",
       "    </tr>\n",
       "    <tr>\n",
       "      <th>2024</th>\n",
       "      <td>0.0</td>\n",
       "      <td>-0.0</td>\n",
       "      <td>5.424741e+07</td>\n",
       "    </tr>\n",
       "    <tr>\n",
       "      <th>2025</th>\n",
       "      <td>0.0</td>\n",
       "      <td>-0.0</td>\n",
       "      <td>8.023826e+07</td>\n",
       "    </tr>\n",
       "  </tbody>\n",
       "</table>\n",
       "</div>"
      ],
      "text/plain": [
       "      jail  release        prison\n",
       "year                             \n",
       "2016   0.0      0.0  0.000000e+00\n",
       "2017   0.0      0.0  0.000000e+00\n",
       "2018   0.0      0.0  0.000000e+00\n",
       "2019   0.0      0.0  0.000000e+00\n",
       "2020   0.0      0.0  0.000000e+00\n",
       "2021   0.0      0.0  0.000000e+00\n",
       "2022   0.0     -0.0  1.315663e+07\n",
       "2023   0.0     -0.0  3.163027e+07\n",
       "2024   0.0     -0.0  5.424741e+07\n",
       "2025   0.0     -0.0  8.023826e+07"
      ]
     },
     "execution_count": 7,
     "metadata": {},
     "output_type": "execute_result"
    }
   ],
   "source": [
    "test_sim.output_data['cost_avoidance']"
   ]
  },
  {
   "cell_type": "code",
   "execution_count": null,
   "metadata": {},
   "outputs": [],
   "source": []
  }
 ],
 "metadata": {
  "kernelspec": {
   "display_name": "Python 3",
   "language": "python",
   "name": "python3"
  },
  "language_info": {
   "codemirror_mode": {
    "name": "ipython",
    "version": 3
   },
   "file_extension": ".py",
   "mimetype": "text/x-python",
   "name": "python",
   "nbconvert_exporter": "python",
   "pygments_lexer": "ipython3",
   "version": "3.7.3"
  }
 },
 "nbformat": 4,
 "nbformat_minor": 4
}
