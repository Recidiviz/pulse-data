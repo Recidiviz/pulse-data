{
 "cells": [
  {
   "cell_type": "code",
   "execution_count": 1,
   "metadata": {},
   "outputs": [],
   "source": [
    "import os\n",
    "import sys\n",
    "sys.path.insert(0, os.path.relpath('../../../../../..'))\n",
    "\n",
    "from importlib import reload\n",
    "from functools import partial\n",
    "import matplotlib.pyplot as plt\n",
    "import numpy as np\n",
    "import pandas as pd\n",
    "import seaborn as sns\n",
    "\n",
    "from recidiviz.calculator.modeling.population_projection.simulations.super_simulation_factory import SuperSimulationFactory\n",
    "from recidiviz.calculator.modeling.population_projection.shell_compartment import ShellCompartment\n",
    "from recidiviz.calculator.modeling.population_projection.spark_policy import SparkPolicy\n",
    "from recidiviz.calculator.modeling.population_projection.incarceration_transitions import IncarceratedTransitions\n"
   ]
  },
  {
   "cell_type": "code",
   "execution_count": 2,
   "metadata": {},
   "outputs": [
    {
     "name": "stderr",
     "output_type": "stream",
     "text": [
      "/Users/justine/.local/share/virtualenvs/pulse-data-xK3VhzVV/lib/python3.7/site-packages/google/cloud/bigquery/table.py:1728: UserWarning: A progress bar was requested, but there was an error loading the tqdm library. Please install tqdm to use the progress bar functionality.\n",
      "  create_bqstorage_client=create_bqstorage_client,\n"
     ]
    },
    {
     "name": "stdout",
     "output_type": "stream",
     "text": [
      "outflows_data returned 1080 results\n",
      "transitions_data returned 478 results\n",
      "total_population_data returned 1080 results\n"
     ]
    }
   ],
   "source": [
    "test_sim = SuperSimulationFactory.build_super_simulation('../../state/IL/IL_prison_RMM_model_inputs.yaml')\n",
    "# test_sim.simulate_baseline('pretrial', 'prison')"
   ]
  },
  {
   "cell_type": "code",
   "execution_count": 3,
   "metadata": {
    "scrolled": false
   },
   "outputs": [
    {
     "name": "stdout",
     "output_type": "stream",
     "text": [
      "initialization time:  167.79711413383484\n",
      "simulation_time:  155.9260938167572\n",
      "initialization time:  165.4280869960785\n",
      "simulation_time:  157.21304416656494\n"
     ]
    },
    {
     "data": {
      "image/png": "[encoded data removed]",
      "text/plain": [
       "<Figure size 432x288 with 1 Axes>"
      ]
     },
     "metadata": {
      "needs_background": "light"
     },
     "output_type": "display_data"
    }
   ],
   "source": [
    "# DISAGGREGATION AXES\n",
    "race = ['white', 'non-white']\n",
    "crime_classification = ['murder', 'class_x', 'class_1', 'class_2', 'class_3']\n",
    "\n",
    "affected_crimes = {\n",
    "    'murder': 20 * 12, \n",
    "    'class_x': 6 * 12, \n",
    "    'class_1': 4 * 12, \n",
    "    'class_2': 3 * 12, \n",
    "    'class_3': 2 * 12, \n",
    "}\n",
    "\n",
    "\n",
    "# Policy Option Methods\n",
    "def abolish_mm(mm, retroactive=False):\n",
    "    return partial(IncarceratedTransitions.abolish_mandatory_minimum, \n",
    "                   current_mm=mm, \n",
    "                   outflow = 'probation',\n",
    "                   retroactive=retroactive)\n",
    "\n",
    "\n",
    "policy_list_non_retroactive = list()\n",
    "policy_list_retroactive = list()\n",
    "\n",
    "for crime, mm in affected_crimes.items():\n",
    "    for demo in race:\n",
    "        policy_list_non_retroactive.append(SparkPolicy(\n",
    "            policy_fn=abolish_mm(mm),\n",
    "            spark_compartment='prison',\n",
    "            sub_population={'crime_classification': crime, 'race': demo},\n",
    "            apply_retroactive=False\n",
    "        ))\n",
    "        policy_list_retroactive.append(SparkPolicy(\n",
    "            policy_fn=abolish_mm(mm, True),\n",
    "            spark_compartment='prison',\n",
    "            sub_population={'crime_classification': crime, 'race': demo},\n",
    "            apply_retroactive=True\n",
    "        ))\n",
    "    \n",
    "    \n",
    "test_results = test_sim.simulate_policy(policy_list_non_retroactive, 'prison')"
   ]
  },
  {
   "cell_type": "code",
   "execution_count": 5,
   "metadata": {},
   "outputs": [],
   "source": [
    "simulation_tag = 'IL_reduced_mandatory_minimums'\n",
    "test_sim.upload_simulation_results_to_bq('recidiviz-staging', simulation_tag)"
   ]
  },
  {
   "cell_type": "code",
   "execution_count": null,
   "metadata": {},
   "outputs": [],
   "source": []
  }
 ],
 "metadata": {
  "kernelspec": {
   "display_name": "Python 3",
   "language": "python",
   "name": "python3"
  },
  "language_info": {
   "codemirror_mode": {
    "name": "ipython",
    "version": 3
   },
   "file_extension": ".py",
   "mimetype": "text/x-python",
   "name": "python",
   "nbconvert_exporter": "python",
   "pygments_lexer": "ipython3",
   "version": "3.7.6"
  }
 },
 "nbformat": 4,
 "nbformat_minor": 4
}
