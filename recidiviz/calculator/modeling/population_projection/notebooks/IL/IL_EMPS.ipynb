{
 "cells": [
  {
   "cell_type": "code",
   "execution_count": 1,
   "metadata": {},
   "outputs": [],
   "source": [
    "import os\n",
    "import sys\n",
    "sys.path.insert(0, os.path.relpath('../../../../../../'))\n",
    "\n",
    "from importlib import reload\n",
    "from functools import partial\n",
    "import matplotlib.pyplot as plt\n",
    "import numpy as np\n",
    "import pandas as pd\n",
    "import seaborn as sns\n",
    "\n",
    "from recidiviz.calculator.modeling.population_projection.super_simulation import SuperSimulation\n",
    "from recidiviz.calculator.modeling.population_projection.shell_compartment import ShellCompartment\n",
    "from recidiviz.calculator.modeling.population_projection.spark_policy import SparkPolicy\n"
   ]
  },
  {
   "cell_type": "code",
   "execution_count": 2,
   "metadata": {},
   "outputs": [
    {
     "name": "stderr",
     "output_type": "stream",
     "text": [
      "/Users/justine/.local/share/virtualenvs/pulse-data-xK3VhzVV/lib/python3.7/site-packages/pandas/core/indexing.py:494: SettingWithCopyWarning: \n",
      "A value is trying to be set on a copy of a slice from a DataFrame.\n",
      "Try using .loc[row_indexer,col_indexer] = value instead\n",
      "\n",
      "See the caveats in the documentation: http://pandas.pydata.org/pandas-docs/stable/user_guide/indexing.html#returning-a-view-versus-a-copy\n",
      "  self.obj[item] = s\n"
     ]
    }
   ],
   "source": [
    "test = open('../../state/IL/IL_prison_EMPS_model_inputs.yaml')\n",
    "test_sim = SuperSimulation(test)\n",
    "# test_sim.simulate_baseline('pretrial', 'prison')"
   ]
  },
  {
   "cell_type": "code",
   "execution_count": 3,
   "metadata": {
    "scrolled": true
   },
   "outputs": [
    {
     "name": "stderr",
     "output_type": "stream",
     "text": [
      "/Users/justine/.local/share/virtualenvs/pulse-data-xK3VhzVV/lib/python3.7/site-packages/pandas/core/frame.py:7138: FutureWarning: Sorting because non-concatenation axis is not aligned. A future version\n",
      "of pandas will change to not sort by default.\n",
      "\n",
      "To accept the future behavior, pass 'sort=False'.\n",
      "\n",
      "To retain the current behavior and silence the warning, pass 'sort=True'.\n",
      "\n",
      "  sort=sort,\n"
     ]
    },
    {
     "name": "stdout",
     "output_type": "stream",
     "text": [
      "initialization time:  64.57913613319397\n",
      "simulation_time:  52.48913264274597\n",
      "initialization time:  70.96085214614868\n",
      "simulation_time:  57.01583909988403\n"
     ]
    },
    {
     "data": {
      "image/png": "[encoded data removed]",
      "text/plain": [
       "<Figure size 432x288 with 1 Axes>"
      ]
     },
     "metadata": {
      "needs_background": "light"
     },
     "output_type": "display_data"
    }
   ],
   "source": [
    "# DISAGGREGATION AXES\n",
    "race = ['white', 'non-white']\n",
    "crime_classification = ['drugs', 'residential burglary', 'second offense']\n",
    "\n",
    "#SCENARIO\n",
    "reallocation_fraction = 0.1\n",
    "\n",
    "policy_list_non_retroactive = list()\n",
    "policy_list_retroactive = list()\n",
    "\n",
    "def apply_diversion(retroactive=False):\n",
    "    return partial(ShellCompartment.reallocate_outflow, \n",
    "                   reallocation_fraction=reallocation_fraction,\n",
    "                   outflow='prison',\n",
    "                   new_outflow='probation'\n",
    "                  )\n",
    "\n",
    "for crime in crime_classification:\n",
    "    for demo in race:\n",
    "        policy_list_non_retroactive.append(SparkPolicy(\n",
    "            policy_fn=apply_diversion(retroactive=False),\n",
    "            spark_compartment='pretrial',\n",
    "            sub_population={'crime_type': crime, 'race': demo},\n",
    "            apply_retroactive=False\n",
    "        ))\n",
    "        policy_list_retroactive.append(SparkPolicy(\n",
    "            policy_fn=apply_diversion(retroactive=False),\n",
    "            spark_compartment='pretrial',\n",
    "            sub_population={'crime_type': crime, 'race': demo},\n",
    "            apply_retroactive=True\n",
    "        ))\n",
    "        \n",
    "    \n",
    "test_results = test_sim.simulate_policy(policy_list_non_retroactive, 'prison')"
   ]
  },
  {
   "cell_type": "code",
   "execution_count": 7,
   "metadata": {},
   "outputs": [
    {
     "data": {
      "text/html": [
       "<div>\n",
       "<style scoped>\n",
       "    .dataframe tbody tr th:only-of-type {\n",
       "        vertical-align: middle;\n",
       "    }\n",
       "\n",
       "    .dataframe tbody tr th {\n",
       "        vertical-align: top;\n",
       "    }\n",
       "\n",
       "    .dataframe thead th {\n",
       "        text-align: right;\n",
       "    }\n",
       "</style>\n",
       "<table border=\"1\" class=\"dataframe\">\n",
       "  <thead>\n",
       "    <tr style=\"text-align: right;\">\n",
       "      <th></th>\n",
       "      <th>outflow_to</th>\n",
       "      <th>0</th>\n",
       "      <th>1</th>\n",
       "      <th>2</th>\n",
       "      <th>3</th>\n",
       "      <th>4</th>\n",
       "      <th>5</th>\n",
       "      <th>6</th>\n",
       "      <th>7</th>\n",
       "      <th>8</th>\n",
       "      <th>...</th>\n",
       "      <th>98</th>\n",
       "      <th>99</th>\n",
       "      <th>100</th>\n",
       "      <th>101</th>\n",
       "      <th>102</th>\n",
       "      <th>103</th>\n",
       "      <th>104</th>\n",
       "      <th>105</th>\n",
       "      <th>106</th>\n",
       "      <th>107</th>\n",
       "    </tr>\n",
       "  </thead>\n",
       "  <tbody>\n",
       "    <tr>\n",
       "      <th>0</th>\n",
       "      <td>prison</td>\n",
       "      <td>242.5</td>\n",
       "      <td>242.5</td>\n",
       "      <td>242.5</td>\n",
       "      <td>242.5</td>\n",
       "      <td>242.5</td>\n",
       "      <td>242.5</td>\n",
       "      <td>242.5</td>\n",
       "      <td>242.5</td>\n",
       "      <td>242.5</td>\n",
       "      <td>...</td>\n",
       "      <td>100.0</td>\n",
       "      <td>100.0</td>\n",
       "      <td>100.0</td>\n",
       "      <td>100.0</td>\n",
       "      <td>100.0</td>\n",
       "      <td>100.0</td>\n",
       "      <td>100.0</td>\n",
       "      <td>100.0</td>\n",
       "      <td>100.0</td>\n",
       "      <td>100.0</td>\n",
       "    </tr>\n",
       "  </tbody>\n",
       "</table>\n",
       "<p>1 rows × 109 columns</p>\n",
       "</div>"
      ],
      "text/plain": [
       "  outflow_to      0      1      2      3      4      5      6      7      8  \\\n",
       "0     prison  242.5  242.5  242.5  242.5  242.5  242.5  242.5  242.5  242.5   \n",
       "\n",
       "   ...     98     99    100    101    102    103    104    105    106    107  \n",
       "0  ...  100.0  100.0  100.0  100.0  100.0  100.0  100.0  100.0  100.0  100.0  \n",
       "\n",
       "[1 rows x 109 columns]"
      ]
     },
     "execution_count": 7,
     "metadata": {},
     "output_type": "execute_result"
    }
   ],
   "source": [
    "a = pd.read_csv('testing.csv')\n",
    "a"
   ]
  },
  {
   "cell_type": "code",
   "execution_count": 9,
   "metadata": {},
   "outputs": [
    {
     "data": {
      "text/html": [
       "<div>\n",
       "<style scoped>\n",
       "    .dataframe tbody tr th:only-of-type {\n",
       "        vertical-align: middle;\n",
       "    }\n",
       "\n",
       "    .dataframe tbody tr th {\n",
       "        vertical-align: top;\n",
       "    }\n",
       "\n",
       "    .dataframe thead th {\n",
       "        text-align: right;\n",
       "    }\n",
       "</style>\n",
       "<table border=\"1\" class=\"dataframe\">\n",
       "  <thead>\n",
       "    <tr style=\"text-align: right;\">\n",
       "      <th></th>\n",
       "      <th>total_population</th>\n",
       "      <th>compartment</th>\n",
       "      <th>time_step</th>\n",
       "      <th>simulation_group</th>\n",
       "    </tr>\n",
       "  </thead>\n",
       "  <tbody>\n",
       "    <tr>\n",
       "      <th>-182</th>\n",
       "      <td>228.640277</td>\n",
       "      <td>prison</td>\n",
       "      <td>-182</td>\n",
       "      <td>('drugs', 'non-white')</td>\n",
       "    </tr>\n",
       "    <tr>\n",
       "      <th>-181</th>\n",
       "      <td>457.280553</td>\n",
       "      <td>prison</td>\n",
       "      <td>-181</td>\n",
       "      <td>('drugs', 'non-white')</td>\n",
       "    </tr>\n",
       "    <tr>\n",
       "      <th>-180</th>\n",
       "      <td>685.920830</td>\n",
       "      <td>prison</td>\n",
       "      <td>-180</td>\n",
       "      <td>('drugs', 'non-white')</td>\n",
       "    </tr>\n",
       "    <tr>\n",
       "      <th>-179</th>\n",
       "      <td>914.561106</td>\n",
       "      <td>prison</td>\n",
       "      <td>-179</td>\n",
       "      <td>('drugs', 'non-white')</td>\n",
       "    </tr>\n",
       "    <tr>\n",
       "      <th>-178</th>\n",
       "      <td>1143.201383</td>\n",
       "      <td>prison</td>\n",
       "      <td>-178</td>\n",
       "      <td>('drugs', 'non-white')</td>\n",
       "    </tr>\n",
       "    <tr>\n",
       "      <th>...</th>\n",
       "      <td>...</td>\n",
       "      <td>...</td>\n",
       "      <td>...</td>\n",
       "      <td>...</td>\n",
       "    </tr>\n",
       "    <tr>\n",
       "      <th>175</th>\n",
       "      <td>19180.787380</td>\n",
       "      <td>release</td>\n",
       "      <td>175</td>\n",
       "      <td>('second offense', 'white')</td>\n",
       "    </tr>\n",
       "    <tr>\n",
       "      <th>176</th>\n",
       "      <td>19238.093170</td>\n",
       "      <td>release</td>\n",
       "      <td>176</td>\n",
       "      <td>('second offense', 'white')</td>\n",
       "    </tr>\n",
       "    <tr>\n",
       "      <th>177</th>\n",
       "      <td>19295.415129</td>\n",
       "      <td>release</td>\n",
       "      <td>177</td>\n",
       "      <td>('second offense', 'white')</td>\n",
       "    </tr>\n",
       "    <tr>\n",
       "      <th>178</th>\n",
       "      <td>19352.690411</td>\n",
       "      <td>release</td>\n",
       "      <td>178</td>\n",
       "      <td>('second offense', 'white')</td>\n",
       "    </tr>\n",
       "    <tr>\n",
       "      <th>179</th>\n",
       "      <td>19409.917706</td>\n",
       "      <td>release</td>\n",
       "      <td>179</td>\n",
       "      <td>('second offense', 'white')</td>\n",
       "    </tr>\n",
       "  </tbody>\n",
       "</table>\n",
       "<p>6516 rows × 4 columns</p>\n",
       "</div>"
      ],
      "text/plain": [
       "      total_population compartment  time_step             simulation_group\n",
       "-182        228.640277      prison       -182       ('drugs', 'non-white')\n",
       "-181        457.280553      prison       -181       ('drugs', 'non-white')\n",
       "-180        685.920830      prison       -180       ('drugs', 'non-white')\n",
       "-179        914.561106      prison       -179       ('drugs', 'non-white')\n",
       "-178       1143.201383      prison       -178       ('drugs', 'non-white')\n",
       "...                ...         ...        ...                          ...\n",
       " 175      19180.787380     release        175  ('second offense', 'white')\n",
       " 176      19238.093170     release        176  ('second offense', 'white')\n",
       " 177      19295.415129     release        177  ('second offense', 'white')\n",
       " 178      19352.690411     release        178  ('second offense', 'white')\n",
       " 179      19409.917706     release        179  ('second offense', 'white')\n",
       "\n",
       "[6516 rows x 4 columns]"
      ]
     },
     "execution_count": 9,
     "metadata": {},
     "output_type": "execute_result"
    }
   ],
   "source": [
    "test_sim.pop_simulations['policy'].population_projections"
   ]
  },
  {
   "cell_type": "code",
   "execution_count": 7,
   "metadata": {},
   "outputs": [],
   "source": [
    "a,b = test_results\n",
    "a.to_csv('VA_mm_results_savings.csv')\n",
    "b.to_csv('VA_mm_results_life_years.csv')"
   ]
  },
  {
   "cell_type": "code",
   "execution_count": null,
   "metadata": {},
   "outputs": [],
   "source": []
  }
 ],
 "metadata": {
  "kernelspec": {
   "display_name": "Python 3",
   "language": "python",
   "name": "python3"
  },
  "language_info": {
   "codemirror_mode": {
    "name": "ipython",
    "version": 3
   },
   "file_extension": ".py",
   "mimetype": "text/x-python",
   "name": "python",
   "nbconvert_exporter": "python",
   "pygments_lexer": "ipython3",
   "version": "3.7.6"
  }
 },
 "nbformat": 4,
 "nbformat_minor": 4
}
