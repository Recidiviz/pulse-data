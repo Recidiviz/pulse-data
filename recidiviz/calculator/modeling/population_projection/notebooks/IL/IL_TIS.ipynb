{
 "cells": [
  {
   "cell_type": "code",
   "execution_count": 1,
   "metadata": {},
   "outputs": [],
   "source": [
    "import os\n",
    "import sys\n",
    "sys.path.insert(0, os.path.relpath('../../../../../../'))\n",
    "\n",
    "from importlib import reload\n",
    "from functools import partial\n",
    "import matplotlib.pyplot as plt\n",
    "import numpy as np\n",
    "import pandas as pd\n",
    "import seaborn as sns\n",
    "\n",
    "from recidiviz.calculator.modeling.population_projection.simulations.super_simulation_factory import SuperSimulationFactory\n",
    "from recidiviz.calculator.modeling.population_projection.shell_compartment import ShellCompartment\n",
    "from recidiviz.calculator.modeling.population_projection.spark_policy import SparkPolicy\n",
    "from recidiviz.calculator.modeling.population_projection.compartment_transitions import CompartmentTransitions\n"
   ]
  },
  {
   "cell_type": "code",
   "execution_count": 2,
   "metadata": {},
   "outputs": [],
   "source": [
    "%load_ext autoreload"
   ]
  },
  {
   "cell_type": "code",
   "execution_count": 3,
   "metadata": {},
   "outputs": [],
   "source": [
    "%autoreload 2"
   ]
  },
  {
   "cell_type": "code",
   "execution_count": 6,
   "metadata": {},
   "outputs": [
    {
     "name": "stderr",
     "output_type": "stream",
     "text": [
      "/Users/justine/.local/share/virtualenvs/pulse-data-xK3VhzVV/lib/python3.7/site-packages/google/cloud/bigquery/table.py:1728: UserWarning: A progress bar was requested, but there was an error loading the tqdm library. Please install tqdm to use the progress bar functionality.\n",
      "  create_bqstorage_client=create_bqstorage_client,\n"
     ]
    },
    {
     "name": "stdout",
     "output_type": "stream",
     "text": [
      "outflows_data returned 648 results\n",
      "transitions_data returned 416 results\n",
      "total_population_data returned 648 results\n"
     ]
    }
   ],
   "source": [
    "test_sim = SuperSimulationFactory.build_super_simulation('../../state/IL/IL_prison_TIS_model_inputs.yaml')\n",
    "# test_sim.simulate_baseline('pretrial', 'prison')"
   ]
  },
  {
   "cell_type": "code",
   "execution_count": 7,
   "metadata": {
    "scrolled": false
   },
   "outputs": [
    {
     "name": "stdout",
     "output_type": "stream",
     "text": [
      "initialization time:  106.48469519615173\n",
      "simulation_time:  92.79696679115295\n",
      "initialization time:  99.59653782844543\n",
      "simulation_time:  90.95325112342834\n"
     ]
    },
    {
     "data": {
      "image/png": "[encoded data removed]",
      "text/plain": [
       "<Figure size 432x288 with 1 Axes>"
      ]
     },
     "metadata": {
      "needs_background": "light"
     },
     "output_type": "display_data"
    }
   ],
   "source": [
    "races = ['white', 'non-white']\n",
    "tis_percentages = {\n",
    "    '100%': 1, \n",
    "    '85%': 0.85, \n",
    "    '75%': 0.75, \n",
    "}\n",
    "\n",
    "icjsrc_percentages = {\n",
    "    '100%': 0.9,\n",
    "    '85%': 0.75,\n",
    "    '75%': 0.6\n",
    "}\n",
    "\n",
    "aclu_percentages = {\n",
    "    '100%': 0.75,\n",
    "    '85%': 0.72,\n",
    "    '75%': 0.5\n",
    "}\n",
    "\n",
    "\n",
    "# Policy Option Methods\n",
    "def reduce_tis_percentage_aclu(tis_percentage, retroactive=False):\n",
    "    reduction_size = 1 - aclu_percentages[tis_percentage] / tis_percentages[tis_percentage]\n",
    "    return partial(CompartmentTransitions.apply_reduction, \n",
    "                   reduction_dict=pd.DataFrame({'outflow': ['probation'],\n",
    "                                                'reduction_size': [reduction_size],\n",
    "                                                'affected_fraction': [1]}), \n",
    "                   reduction_type='*',\n",
    "                   retroactive=retroactive\n",
    "                  )\n",
    "\n",
    "def reduce_tis_percentage_icjsrc(tis_percentage, retroactive=False):\n",
    "    reduction_size = 1 - icjsrc_percentages[tis_percentage] / tis_percentages[tis_percentage]\n",
    "    return partial(CompartmentTransitions.apply_reduction, \n",
    "                   reduction_df=pd.DataFrame({'outflow': ['probation'], \n",
    "                                              'affected_fraction': [1],\n",
    "                                              'reduction_size': [reduction_size]}),\n",
    "                   reduction_type='*',\n",
    "                   retroactive=retroactive\n",
    "                  )\n",
    "\n",
    "policy_list_non_retroactive_aclu = list()\n",
    "policy_list_non_retroactive_icjsrc = list()\n",
    "\n",
    "for tis_percentage in tis_percentages:\n",
    "    for race in races:\n",
    "        policy_list_non_retroactive_aclu.append(SparkPolicy(\n",
    "            policy_fn=reduce_tis_percentage_aclu(tis_percentage),\n",
    "            spark_compartment='prison',\n",
    "            sub_population={'tis_percentage': tis_percentage, 'race': race},\n",
    "            apply_retroactive=False)\n",
    "        )\n",
    "        \n",
    "        policy_list_non_retroactive_icjsrc.append(SparkPolicy(\n",
    "            policy_fn=reduce_tis_percentage_icjsrc(tis_percentage),\n",
    "            spark_compartment='prison',\n",
    "            sub_population={'tis_percentage': tis_percentage, 'race': race},\n",
    "            apply_retroactive=False)\n",
    "        )\n",
    "    \n",
    "test_results = test_sim.simulate_policy(policy_list_non_retroactive_aclu, 'prison')"
   ]
  },
  {
   "cell_type": "code",
   "execution_count": 6,
   "metadata": {},
   "outputs": [],
   "source": [
    "simulation_tag = 'IL_truth_in_sentencing_aclu'\n",
    "test_sim.upload_simulation_results_to_bq('recidiviz-staging', simulation_tag)"
   ]
  },
  {
   "cell_type": "code",
   "execution_count": 5,
   "metadata": {},
   "outputs": [
    {
     "name": "stdout",
     "output_type": "stream",
     "text": [
      "initialization time:  0.04230976104736328\n",
      "simulation_time:  67.88764500617981\n",
      "initialization time:  0.03793907165527344\n",
      "simulation_time:  64.47102904319763\n"
     ]
    },
    {
     "data": {
      "text/plain": [
       "(                   prison  release      probation\n",
       " year                                             \n",
       " 2018.000000  0.000000e+00      0.0       0.000000\n",
       " 2018.083333  0.000000e+00      0.0       0.000000\n",
       " 2018.166667  0.000000e+00      0.0       0.000000\n",
       " 2018.250000  0.000000e+00      0.0       0.000000\n",
       " 2018.333333  0.000000e+00      0.0       0.000000\n",
       " ...                   ...      ...            ...\n",
       " 2027.583333  2.655502e+06     -0.0 -158555.991654\n",
       " 2027.666667  2.750810e+06     -0.0 -163367.659809\n",
       " 2027.750000  2.848146e+06     -0.0 -168152.408868\n",
       " 2027.833333  2.947415e+06     -0.0 -172905.606368\n",
       " 2027.916667  3.048604e+06     -0.0 -177626.746207\n",
       " \n",
       " [120 rows x 3 columns],\n",
       "                  prison     release   probation\n",
       " year                                           \n",
       " 2018.000000    0.000000    0.000000    0.000000\n",
       " 2018.083333    0.000000    0.000000    0.000000\n",
       " 2018.166667    0.000000    0.000000    0.000000\n",
       " 2018.250000    0.000000    0.000000    0.000000\n",
       " 2018.333333    0.000000    0.000000    0.000000\n",
       " ...                 ...         ...         ...\n",
       " 2027.583333  838.578762  -77.497789 -761.080937\n",
       " 2027.666667  868.675944  -84.498593 -784.177314\n",
       " 2027.750000  899.413612  -92.269096 -807.144477\n",
       " 2027.833333  930.761681 -100.801449 -829.960190\n",
       " 2027.916667  962.716143 -110.094074 -852.622024\n",
       " \n",
       " [120 rows x 3 columns])"
      ]
     },
     "execution_count": 5,
     "metadata": {},
     "output_type": "execute_result"
    },
    {
     "data": {
      "image/png": "[encoded data removed]",
      "text/plain": [
       "<Figure size 432x288 with 1 Axes>"
      ]
     },
     "metadata": {
      "needs_background": "light"
     },
     "output_type": "display_data"
    }
   ],
   "source": [
    "test_sim.simulate_policy(policy_list_non_retroactive_icjsrc, 'prison')"
   ]
  },
  {
   "cell_type": "code",
   "execution_count": 6,
   "metadata": {},
   "outputs": [
    {
     "name": "stdout",
     "output_type": "stream",
     "text": [
      "     year compartment     total_cost  month  day\n",
      "0    2017      prison       0.000000     12    1\n",
      "1    2018      prison       0.000000      1    1\n",
      "2    2018      prison       0.000000      2    1\n",
      "3    2018      prison       0.000000      3    1\n",
      "4    2018      prison       0.000000      4    1\n",
      "..    ...         ...            ...    ...  ...\n",
      "355  2027   probation -158555.991654      7    1\n",
      "356  2027   probation -163367.659809      8    1\n",
      "357  2027   probation -168152.408868      9    1\n",
      "358  2027   probation -172905.606368     10    1\n",
      "359  2027   probation -177626.746207     11    1\n",
      "\n",
      "[360 rows x 5 columns]\n",
      "\n",
      "     year compartment  life_years  month  day\n",
      "0    2017      prison    0.000000     12    1\n",
      "1    2018      prison    0.000000      1    1\n",
      "2    2018      prison    0.000000      2    1\n",
      "3    2018      prison    0.000000      3    1\n",
      "4    2018      prison    0.000000      4    1\n",
      "..    ...         ...         ...    ...  ...\n",
      "355  2027   probation -761.080937      7    1\n",
      "356  2027   probation -784.177314      8    1\n",
      "357  2027   probation -807.144477      9    1\n",
      "358  2027   probation -829.960190     10    1\n",
      "359  2027   probation -852.622024     11    1\n",
      "\n",
      "[360 rows x 5 columns]\n",
      "\n",
      "     year compartment                  scenario    population  month  day\n",
      "0    2017      prison   policy_total_population  13894.681501     12    1\n",
      "1    2018      prison   policy_total_population  13954.359881      1    1\n",
      "2    2018      prison   policy_total_population  14014.035160      2    1\n",
      "3    2018      prison   policy_total_population  14073.707582      3    1\n",
      "4    2018      prison   policy_total_population  14133.377147      4    1\n",
      "..    ...         ...                       ...           ...    ...  ...\n",
      "715  2027     release  control_total_population  14807.697373      7    1\n",
      "716  2027     release  control_total_population  14877.955409      8    1\n",
      "717  2027     release  control_total_population  14948.206994      9    1\n",
      "718  2027     release  control_total_population  15019.631061     10    1\n",
      "719  2027     release  control_total_population  15091.048296     11    1\n",
      "\n",
      "[720 rows x 6 columns]\n",
      "\n"
     ]
    }
   ],
   "source": [
    "simulation_tag = 'IL_truth_in_sentencing_icjsrc'\n",
    "test_sim.upload_simulation_results_to_bq('recidiviz-staging', simulation_tag)"
   ]
  },
  {
   "cell_type": "code",
   "execution_count": null,
   "metadata": {},
   "outputs": [],
   "source": []
  }
 ],
 "metadata": {
  "kernelspec": {
   "display_name": "Python 3",
   "language": "python",
   "name": "python3"
  },
  "language_info": {
   "codemirror_mode": {
    "name": "ipython",
    "version": 3
   },
   "file_extension": ".py",
   "mimetype": "text/x-python",
   "name": "python",
   "nbconvert_exporter": "python",
   "pygments_lexer": "ipython3",
   "version": "3.7.6"
  }
 },
 "nbformat": 4,
 "nbformat_minor": 4
}
