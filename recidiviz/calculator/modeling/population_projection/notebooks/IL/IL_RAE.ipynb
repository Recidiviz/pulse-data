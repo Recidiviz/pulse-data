{
 "cells": [
  {
   "cell_type": "code",
   "execution_count": 1,
   "metadata": {},
   "outputs": [],
   "source": [
    "import os\n",
    "import sys\n",
    "sys.path.insert(0, os.path.relpath('../../..'))\n",
    "\n",
    "from importlib import reload\n",
    "from functools import partial\n",
    "import matplotlib.pyplot as plt\n",
    "import numpy as np\n",
    "import pandas as pd\n",
    "import seaborn as sns\n",
    "\n",
    "from spark.super_simulation import SuperSimulation\n",
    "from spark.incarceration_transitions import IncarceratedTransitions\n",
    "from spark.release_transitions import ReleasedTransitions\n",
    "from spark.compartment_transitions import CompartmentTransitions\n",
    "from spark.spark_policy import SparkPolicy\n"
   ]
  },
  {
   "cell_type": "code",
   "execution_count": 2,
   "metadata": {},
   "outputs": [
    {
     "name": "stderr",
     "output_type": "stream",
     "text": [
      "/Users/pacopoler/.local/share/virtualenvs/recidiviz-research-LWZgHH0n/lib/python3.7/site-packages/pandas/core/indexing.py:966: SettingWithCopyWarning: \n",
      "A value is trying to be set on a copy of a slice from a DataFrame.\n",
      "Try using .loc[row_indexer,col_indexer] = value instead\n",
      "\n",
      "See the caveats in the documentation: https://pandas.pydata.org/pandas-docs/stable/user_guide/indexing.html#returning-a-view-versus-a-copy\n",
      "  self.obj[item] = s\n"
     ]
    }
   ],
   "source": [
    "test = open('../../state/IL/IL_prison_RAE_model_inputs.yaml')\n",
    "test_sim = SuperSimulation(test)\n",
    "# test_sim.simulate_baseline('pretrial', 'prison')"
   ]
  },
  {
   "cell_type": "code",
   "execution_count": 3,
   "metadata": {},
   "outputs": [
    {
     "ename": "KeyError",
     "evalue": "'baseline'",
     "output_type": "error",
     "traceback": [
      "\u001b[0;31m---------------------------------------------------------------------------\u001b[0m",
      "\u001b[0;31mKeyError\u001b[0m                                  Traceback (most recent call last)",
      "\u001b[0;32m<ipython-input-3-dd35cd0e80cc>\u001b[0m in \u001b[0;36m<module>\u001b[0;34m\u001b[0m\n\u001b[0;32m----> 1\u001b[0;31m \u001b[0mdata\u001b[0m \u001b[0;34m=\u001b[0m \u001b[0mtest_sim\u001b[0m\u001b[0;34m.\u001b[0m\u001b[0mpop_simulations\u001b[0m\u001b[0;34m[\u001b[0m\u001b[0;34m'baseline'\u001b[0m\u001b[0;34m]\u001b[0m\u001b[0;34m.\u001b[0m\u001b[0msub_simulations\u001b[0m\u001b[0;34m[\u001b[0m\u001b[0;34m'50%'\u001b[0m\u001b[0;34m]\u001b[0m\u001b[0;34m.\u001b[0m\u001b[0mtotal_population_data\u001b[0m\u001b[0;34m\u001b[0m\u001b[0;34m\u001b[0m\u001b[0m\n\u001b[0m\u001b[1;32m      2\u001b[0m \u001b[0mdata\u001b[0m\u001b[0;34m.\u001b[0m\u001b[0mindex\u001b[0m \u001b[0;34m=\u001b[0m \u001b[0mdata\u001b[0m\u001b[0;34m.\u001b[0m\u001b[0mtime_step\u001b[0m\u001b[0;34m\u001b[0m\u001b[0;34m\u001b[0m\u001b[0m\n\u001b[1;32m      3\u001b[0m \u001b[0mdata\u001b[0m\u001b[0;34m.\u001b[0m\u001b[0mtotal_population\u001b[0m\u001b[0;34m.\u001b[0m\u001b[0mplot\u001b[0m\u001b[0;34m(\u001b[0m\u001b[0;34m)\u001b[0m\u001b[0;34m\u001b[0m\u001b[0;34m\u001b[0m\u001b[0m\n",
      "\u001b[0;31mKeyError\u001b[0m: 'baseline'"
     ]
    }
   ],
   "source": [
    "data = test_sim.pop_simulations['baseline'].sub_simulations['50%'].total_population_data\n",
    "data.index = data.time_step\n",
    "data.total_population.plot()"
   ]
  },
  {
   "cell_type": "code",
   "execution_count": 6,
   "metadata": {
    "scrolled": true
   },
   "outputs": [
    {
     "name": "stdout",
     "output_type": "stream",
     "text": [
      "initialization time:  0.0331110954284668\n",
      "simulation_time:  33.605844020843506\n",
      "initialization time:  0.01784205436706543\n",
      "simulation_time:  32.31694316864014\n"
     ]
    },
    {
     "data": {
      "image/png": "[encoded data removed]",
      "text/plain": [
       "<Figure size 432x288 with 1 Axes>"
      ]
     },
     "metadata": {
      "needs_background": "light"
     },
     "output_type": "display_data"
    }
   ],
   "source": [
    "tis_percentages = {\n",
    "    '100%': 1, \n",
    "    '85%': 0.85, \n",
    "    '50%': 0.5, \n",
    "}\n",
    "\n",
    "\n",
    "# Policy Option Methods\n",
    "def remove_automatic_enhancement(tis_percentage, retroactive=False):\n",
    "    return partial(CompartmentTransitions.apply_reduction, \n",
    "                   reduction_dict={'probation': 15 * 12 * tis_percentages[tis_percentage]}, \n",
    "                   reduction_type='+',\n",
    "                   retroactive=retroactive\n",
    "                  )\n",
    "\n",
    "\n",
    "policy_list_non_retroactive = [\n",
    "    SparkPolicy(policy_fn=remove_automatic_enhancement(tis_percentage),\n",
    "                spark_compartment='prison',\n",
    "                sub_population={'tis_percentage': tis_percentage},\n",
    "                apply_retroactive=False)\n",
    "    for tis_percentage in tis_percentages\n",
    "]\n",
    "    \n",
    "test_results = test_sim.simulate_policy(policy_list_non_retroactive, 'prison')"
   ]
  },
  {
   "cell_type": "code",
   "execution_count": 7,
   "metadata": {},
   "outputs": [
    {
     "name": "stdout",
     "output_type": "stream",
     "text": [
      "     year compartment     total_cost  month  day\n",
      "0    2015      prison       0.000000     12    1\n",
      "1    2016      prison       0.000000      1    1\n",
      "2    2016      prison       0.000000      2    1\n",
      "3    2016      prison       0.000000      3    1\n",
      "4    2016      prison       0.000000      4    1\n",
      "..    ...         ...            ...    ...  ...\n",
      "355  2025   probation -139893.670168      7    1\n",
      "356  2025   probation -145148.417666      8    1\n",
      "357  2025   probation -150469.455218      9    1\n",
      "358  2025   probation -155856.955561     10    1\n",
      "359  2025   probation -161310.778070     11    1\n",
      "\n",
      "[360 rows x 5 columns]\n"
     ]
    },
    {
     "name": "stderr",
     "output_type": "stream",
     "text": [
      "/Users/pacopoler/.local/share/virtualenvs/recidiviz-research-LWZgHH0n/lib/python3.7/site-packages/google/auth/_default.py:69: UserWarning: Your application has authenticated using end user credentials from Google Cloud SDK. We recommend that most server applications use service accounts instead. If your application continues to use end user credentials from Cloud SDK, you might receive a \"quota exceeded\" or \"API not enabled\" error. For more information about service accounts, see https://cloud.google.com/docs/authentication/\n",
      "  warnings.warn(_CLOUD_SDK_CREDENTIALS_WARNING)\n"
     ]
    },
    {
     "name": "stdout",
     "output_type": "stream",
     "text": [
      "     year compartment  life_years  month  day\n",
      "0    2015      prison    0.000000     12    1\n",
      "1    2016      prison    0.000000      1    1\n",
      "2    2016      prison    0.000000      2    1\n",
      "3    2016      prison    0.000000      3    1\n",
      "4    2016      prison    0.000000      4    1\n",
      "..    ...         ...         ...    ...  ...\n",
      "355  2025   probation -671.500361      7    1\n",
      "356  2025   probation -696.723552      8    1\n",
      "357  2025   probation -722.264941      9    1\n",
      "358  2025   probation -748.125357     10    1\n",
      "359  2025   probation -774.304124     11    1\n",
      "\n",
      "[360 rows x 5 columns]\n",
      "     year compartment                  scenario   population  month  day\n",
      "0    2015      prison   policy_total_population  6528.789423     12    1\n",
      "1    2016      prison   policy_total_population  6535.627355      1    1\n",
      "2    2016      prison   policy_total_population  6542.513796      2    1\n",
      "3    2016      prison   policy_total_population  6549.448745      3    1\n",
      "4    2016      prison   policy_total_population  6556.432203      4    1\n",
      "..    ...         ...                       ...          ...    ...  ...\n",
      "715  2025     release  control_total_population  2565.908877      7    1\n",
      "716  2025     release  control_total_population  2580.840082      8    1\n",
      "717  2025     release  control_total_population  2595.737789      9    1\n",
      "718  2025     release  control_total_population  2611.230645     10    1\n",
      "719  2025     release  control_total_population  2626.688763     11    1\n",
      "\n",
      "[720 rows x 6 columns]\n"
     ]
    }
   ],
   "source": [
    "simulation_tag = 'IL_remove_automatic_enhancements'\n",
    "test_sim.upload_simulation_results_to_bq('recidiviz-staging', simulation_tag)"
   ]
  },
  {
   "cell_type": "code",
   "execution_count": null,
   "metadata": {},
   "outputs": [],
   "source": []
  }
 ],
 "metadata": {
  "kernelspec": {
   "display_name": "Python 3",
   "language": "python",
   "name": "python3"
  },
  "language_info": {
   "codemirror_mode": {
    "name": "ipython",
    "version": 3
   },
   "file_extension": ".py",
   "mimetype": "text/x-python",
   "name": "python",
   "nbconvert_exporter": "python",
   "pygments_lexer": "ipython3",
   "version": "3.7.3"
  }
 },
 "nbformat": 4,
 "nbformat_minor": 4
}
