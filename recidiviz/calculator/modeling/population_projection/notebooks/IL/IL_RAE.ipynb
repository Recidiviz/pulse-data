{
 "cells": [
  {
   "cell_type": "code",
   "execution_count": 1,
   "metadata": {},
   "outputs": [],
   "source": [
    "import os\n",
    "import sys\n",
    "\n",
    "sys.path.insert(0, os.path.relpath(\"../../../../../..\"))\n",
    "\n",
    "from importlib import reload\n",
    "from functools import partial\n",
    "import matplotlib.pyplot as plt\n",
    "import numpy as np\n",
    "import pandas as pd\n",
    "import seaborn as sns\n",
    "\n",
    "from recidiviz.calculator.modeling.population_projection.simulations.super_simulation_factory import (\n",
    "    SuperSimulationFactory,\n",
    ")\n",
    "from recidiviz.calculator.modeling.population_projection.shell_compartment import (\n",
    "    ShellCompartment,\n",
    ")\n",
    "from recidiviz.calculator.modeling.population_projection.spark_policy import SparkPolicy\n",
    "from recidiviz.calculator.modeling.population_projection.compartment_transitions import (\n",
    "    CompartmentTransitions,\n",
    ")"
   ]
  },
  {
   "cell_type": "code",
   "execution_count": 2,
   "metadata": {},
   "outputs": [
    {
     "name": "stderr",
     "output_type": "stream",
     "text": [
      "/Users/justine/.local/share/virtualenvs/pulse-data-xK3VhzVV/lib/python3.7/site-packages/google/cloud/bigquery/table.py:1728: UserWarning: A progress bar was requested, but there was an error loading the tqdm library. Please install tqdm to use the progress bar functionality.\n",
      "  create_bqstorage_client=create_bqstorage_client,\n"
     ]
    },
    {
     "name": "stdout",
     "output_type": "stream",
     "text": [
      "outflows_data returned 252 results\n",
      "transitions_data returned 237 results\n",
      "total_population_data returned 252 results\n"
     ]
    }
   ],
   "source": [
    "test_sim = SuperSimulationFactory.build_super_simulation(\n",
    "    \"../../state/IL/IL_prison_RAE_model_inputs.yaml\"\n",
    ")\n",
    "# test_sim.simulate_baseline('pretrial', 'prison')"
   ]
  },
  {
   "cell_type": "code",
   "execution_count": 3,
   "metadata": {
    "scrolled": false
   },
   "outputs": [
    {
     "name": "stdout",
     "output_type": "stream",
     "text": [
      "initialization time:  54.312472105026245\n",
      "simulation_time:  40.890960931777954\n",
      "initialization time:  48.504374980926514\n",
      "simulation_time:  40.720621824264526\n"
     ]
    },
    {
     "data": {
      "image/png": "[encoded data removed]",
      "text/plain": [
       "<Figure size 432x288 with 1 Axes>"
      ]
     },
     "metadata": {
      "needs_background": "light"
     },
     "output_type": "display_data"
    }
   ],
   "source": [
    "tis_percentages = {\n",
    "    \"100%\": 1,\n",
    "    \"85%\": 0.85,\n",
    "    \"50%\": 0.5,\n",
    "}\n",
    "\n",
    "\n",
    "# Policy Option Methods\n",
    "def remove_automatic_enhancement(tis_percentage, retroactive=False):\n",
    "    return partial(\n",
    "        CompartmentTransitions.apply_reduction,\n",
    "        reduction_dict={\n",
    "            \"probation\": {\n",
    "                \"reduction_size\": 15 * 12 * tis_percentages[tis_percentage],\n",
    "                \"affected_fraction\": 1,\n",
    "            }\n",
    "        },\n",
    "        reduction_type=\"+\",\n",
    "        retroactive=retroactive,\n",
    "    )\n",
    "\n",
    "\n",
    "policy_list_non_retroactive = [\n",
    "    SparkPolicy(\n",
    "        policy_fn=remove_automatic_enhancement(tis_percentage),\n",
    "        spark_compartment=\"prison\",\n",
    "        sub_population={\"tis_percentage\": tis_percentage},\n",
    "        apply_retroactive=False,\n",
    "    )\n",
    "    for tis_percentage in tis_percentages\n",
    "]\n",
    "\n",
    "test_results = test_sim.simulate_policy(policy_list_non_retroactive, \"prison\")"
   ]
  },
  {
   "cell_type": "code",
   "execution_count": 3,
   "metadata": {},
   "outputs": [
    {
     "ename": "KeyError",
     "evalue": "'baseline'",
     "output_type": "error",
     "traceback": [
      "\u001b[0;31m---------------------------------------------------------------------------\u001b[0m",
      "\u001b[0;31mKeyError\u001b[0m                                  Traceback (most recent call last)",
      "\u001b[0;32m<ipython-input-3-dd35cd0e80cc>\u001b[0m in \u001b[0;36m<module>\u001b[0;34m\u001b[0m\n\u001b[0;32m----> 1\u001b[0;31m \u001b[0mdata\u001b[0m \u001b[0;34m=\u001b[0m \u001b[0mtest_sim\u001b[0m\u001b[0;34m.\u001b[0m\u001b[0mpop_simulations\u001b[0m\u001b[0;34m[\u001b[0m\u001b[0;34m'baseline'\u001b[0m\u001b[0;34m]\u001b[0m\u001b[0;34m.\u001b[0m\u001b[0msub_simulations\u001b[0m\u001b[0;34m[\u001b[0m\u001b[0;34m'50%'\u001b[0m\u001b[0;34m]\u001b[0m\u001b[0;34m.\u001b[0m\u001b[0mtotal_population_data\u001b[0m\u001b[0;34m\u001b[0m\u001b[0;34m\u001b[0m\u001b[0m\n\u001b[0m\u001b[1;32m      2\u001b[0m \u001b[0mdata\u001b[0m\u001b[0;34m.\u001b[0m\u001b[0mindex\u001b[0m \u001b[0;34m=\u001b[0m \u001b[0mdata\u001b[0m\u001b[0;34m.\u001b[0m\u001b[0mtime_step\u001b[0m\u001b[0;34m\u001b[0m\u001b[0;34m\u001b[0m\u001b[0m\n\u001b[1;32m      3\u001b[0m \u001b[0mdata\u001b[0m\u001b[0;34m.\u001b[0m\u001b[0mtotal_population\u001b[0m\u001b[0;34m.\u001b[0m\u001b[0mplot\u001b[0m\u001b[0;34m(\u001b[0m\u001b[0;34m)\u001b[0m\u001b[0;34m\u001b[0m\u001b[0;34m\u001b[0m\u001b[0m\n",
      "\u001b[0;31mKeyError\u001b[0m: 'baseline'"
     ]
    }
   ],
   "source": [
    "data = test_sim.pop_simulations[\"baseline\"].sub_simulations[\"50%\"].total_population_data\n",
    "data.index = data.time_step\n",
    "data.total_population.plot()"
   ]
  },
  {
   "cell_type": "code",
   "execution_count": 14,
   "metadata": {},
   "outputs": [],
   "source": [
    "simulation_tag = \"IL_remove_automatic_enhancements\"\n",
    "test_sim.upload_simulation_results_to_bq(\"recidiviz-staging\", simulation_tag)"
   ]
  },
  {
   "cell_type": "code",
   "execution_count": null,
   "metadata": {},
   "outputs": [],
   "source": []
  }
 ],
 "metadata": {
  "kernelspec": {
   "display_name": "Python 3",
   "language": "python",
   "name": "python3"
  },
  "language_info": {
   "codemirror_mode": {
    "name": "ipython",
    "version": 3
   },
   "file_extension": ".py",
   "mimetype": "text/x-python",
   "name": "python",
   "nbconvert_exporter": "python",
   "pygments_lexer": "ipython3",
   "version": "3.7.6"
  }
 },
 "nbformat": 4,
 "nbformat_minor": 4
}
