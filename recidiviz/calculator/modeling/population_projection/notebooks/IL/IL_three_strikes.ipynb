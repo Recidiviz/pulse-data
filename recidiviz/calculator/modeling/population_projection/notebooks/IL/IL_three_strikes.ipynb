{
 "cells": [
  {
   "cell_type": "code",
   "execution_count": 5,
   "metadata": {},
   "outputs": [],
   "source": [
    "import os\n",
    "import sys\n",
    "sys.path.insert(0, os.path.relpath('../../..'))\n",
    "\n",
    "from importlib import reload\n",
    "from functools import partial\n",
    "import matplotlib.pyplot as plt\n",
    "import numpy as np\n",
    "import pandas as pd\n",
    "import seaborn as sns\n",
    "\n",
    "from spark.super_simulation import SuperSimulation\n",
    "from spark.incarceration_transitions import IncarceratedTransitions\n",
    "from spark.release_transitions import ReleasedTransitions\n",
    "from spark.compartment_transitions import CompartmentTransitions\n",
    "from spark.spark_policy import SparkPolicy\n"
   ]
  },
  {
   "cell_type": "code",
   "execution_count": 6,
   "metadata": {},
   "outputs": [],
   "source": [
    "test = open('../../state/IL/IL_prison_three_strikes_model_inputs.yaml')\n",
    "test_sim = SuperSimulation(test)\n",
    "# test_sim.simulate_baseline('pretrial', 'prison')"
   ]
  },
  {
   "cell_type": "code",
   "execution_count": 7,
   "metadata": {},
   "outputs": [],
   "source": [
    "policy_data = pd.read_csv('../../state/IL/preprocessed_policy_data_prison_three_strikes.csv')"
   ]
  },
  {
   "cell_type": "code",
   "execution_count": 8,
   "metadata": {},
   "outputs": [],
   "source": [
    "races = ['white', 'non-white']\n",
    "race_data = dict()\n",
    "for race in races:\n",
    "    race_data[race] = policy_data[policy_data.race == race]\n"
   ]
  },
  {
   "cell_type": "code",
   "execution_count": 9,
   "metadata": {
    "scrolled": true
   },
   "outputs": [
    {
     "name": "stdout",
     "output_type": "stream",
     "text": [
      "initialization time:  0.01951885223388672\n",
      "simulation_time:  22.479644060134888\n",
      "initialization time:  0.014055967330932617\n",
      "simulation_time:  23.11092495918274\n"
     ]
    },
    {
     "data": {
      "image/png": "[encoded data removed]",
      "text/plain": [
       "<Figure size 432x288 with 1 Axes>"
      ]
     },
     "metadata": {
      "needs_background": "light"
     },
     "output_type": "display_data"
    }
   ],
   "source": [
    "# Policy Option Methods\n",
    "def remove_three_strikes(race, retroactive=False):\n",
    "    return partial(CompartmentTransitions.use_alternate_transitions_data,\n",
    "                   alternate_historical_transitions=race_data[race], \n",
    "                   retroactive=retroactive\n",
    "                  )\n",
    "\n",
    "policy_list_non_retroactive = [SparkPolicy(\n",
    "            policy_fn=remove_three_strikes(race),\n",
    "            spark_compartment='prison',\n",
    "            sub_population={'race': race},\n",
    "            apply_retroactive=False\n",
    "            ) for race in races]\n",
    "        \n",
    "test_results = test_sim.simulate_policy(policy_list_non_retroactive, 'prison')"
   ]
  },
  {
   "cell_type": "code",
   "execution_count": 10,
   "metadata": {},
   "outputs": [
    {
     "name": "stdout",
     "output_type": "stream",
     "text": [
      "     year compartment     total_cost  month  day\n",
      "0    2017      prison       0.000000     12    1\n",
      "1    2018      prison       0.000000      1    1\n",
      "2    2018      prison       0.000000      2    1\n",
      "3    2018      prison       0.000000      3    1\n",
      "4    2018      prison       0.000000      4    1\n",
      "..    ...         ...            ...    ...  ...\n",
      "355  2027   probation -604639.051365      7    1\n",
      "356  2027   probation -616326.666080      8    1\n",
      "357  2027   probation -627949.822289      9    1\n",
      "358  2027   probation -639508.018903     10    1\n",
      "359  2027   probation -651001.918225     11    1\n",
      "\n",
      "[360 rows x 5 columns]\n",
      "\n"
     ]
    },
    {
     "name": "stderr",
     "output_type": "stream",
     "text": [
      "/Users/pacopoler/.local/share/virtualenvs/recidiviz-research-LWZgHH0n/lib/python3.7/site-packages/google/auth/_default.py:69: UserWarning: Your application has authenticated using end user credentials from Google Cloud SDK. We recommend that most server applications use service accounts instead. If your application continues to use end user credentials from Cloud SDK, you might receive a \"quota exceeded\" or \"API not enabled\" error. For more information about service accounts, see https://cloud.google.com/docs/authentication/\n",
      "  warnings.warn(_CLOUD_SDK_CREDENTIALS_WARNING)\n"
     ]
    },
    {
     "name": "stdout",
     "output_type": "stream",
     "text": [
      "     year compartment   life_years  month  day\n",
      "0    2017      prison     0.000000     12    1\n",
      "1    2018      prison     0.000000      1    1\n",
      "2    2018      prison     0.000000      2    1\n",
      "3    2018      prison     0.000000      3    1\n",
      "4    2018      prison     0.000000      4    1\n",
      "..    ...         ...          ...    ...  ...\n",
      "355  2027   probation -2902.313884      7    1\n",
      "356  2027   probation -2958.415332      8    1\n",
      "357  2027   probation -3014.207374      9    1\n",
      "358  2027   probation -3069.687606     10    1\n",
      "359  2027   probation -3124.859205     11    1\n",
      "\n",
      "[360 rows x 5 columns]\n",
      "\n",
      "     year compartment                  scenario   population  month  day\n",
      "0    2017      prison   policy_total_population  4774.707028     12    1\n",
      "1    2018      prison   policy_total_population  4769.366026      1    1\n",
      "2    2018      prison   policy_total_population  4764.064725      2    1\n",
      "3    2018      prison   policy_total_population  4758.803124      3    1\n",
      "4    2018      prison   policy_total_population  4753.581224      4    1\n",
      "..    ...         ...                       ...          ...    ...  ...\n",
      "715  2027     release  control_total_population  7523.409968      7    1\n",
      "716  2027     release  control_total_population  7550.426937      8    1\n",
      "717  2027     release  control_total_population  7577.386576      9    1\n",
      "718  2027     release  control_total_population  7604.855682     10    1\n",
      "719  2027     release  control_total_population  7632.266619     11    1\n",
      "\n",
      "[720 rows x 6 columns]\n",
      "\n"
     ]
    }
   ],
   "source": [
    "simulation_tag = 'IL_three_strikes'\n",
    "test_sim.upload_simulation_results_to_bq('recidiviz-staging', simulation_tag)"
   ]
  },
  {
   "cell_type": "code",
   "execution_count": null,
   "metadata": {},
   "outputs": [],
   "source": []
  }
 ],
 "metadata": {
  "kernelspec": {
   "display_name": "Python 3",
   "language": "python",
   "name": "python3"
  },
  "language_info": {
   "codemirror_mode": {
    "name": "ipython",
    "version": 3
   },
   "file_extension": ".py",
   "mimetype": "text/x-python",
   "name": "python",
   "nbconvert_exporter": "python",
   "pygments_lexer": "ipython3",
   "version": "3.7.3"
  }
 },
 "nbformat": 4,
 "nbformat_minor": 4
}
