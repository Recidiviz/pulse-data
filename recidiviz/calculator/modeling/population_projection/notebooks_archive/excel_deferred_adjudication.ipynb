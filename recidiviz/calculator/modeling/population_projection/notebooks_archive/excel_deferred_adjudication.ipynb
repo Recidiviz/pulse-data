{
 "cells": [
  {
   "cell_type": "code",
   "execution_count": 1,
   "metadata": {
    "ExecuteTime": {
     "end_time": "2020-09-15T18:09:18.486438Z",
     "start_time": "2020-09-15T18:09:16.720849Z"
    }
   },
   "outputs": [
    {
     "name": "stdout",
     "output_type": "stream",
     "text": [
      "52291\n"
     ]
    }
   ],
   "source": [
    "%run ./VA_sentencing_reform_v1_utils.ipynb"
   ]
  },
  {
   "cell_type": "code",
   "execution_count": 2,
   "metadata": {
    "ExecuteTime": {
     "end_time": "2020-09-15T18:09:18.494907Z",
     "start_time": "2020-09-15T18:09:18.488192Z"
    }
   },
   "outputs": [
    {
     "data": {
      "text/plain": [
       "<module 'spark.sentencing_policy_impact_v1.population_simulation' from '../../spark/sentencing_policy_impact_v1/population_simulation.py'>"
      ]
     },
     "execution_count": 2,
     "metadata": {},
     "output_type": "execute_result"
    }
   ],
   "source": [
    "reload(incarceration_transitions)\n",
    "reload(population_simulation)"
   ]
  },
  {
   "cell_type": "code",
   "execution_count": 3,
   "metadata": {
    "ExecuteTime": {
     "end_time": "2020-09-15T18:09:18.512147Z",
     "start_time": "2020-09-15T18:09:18.497568Z"
    }
   },
   "outputs": [],
   "source": [
    "from spark.E2E_v2.super_simulation import SuperSimulation\n",
    "from spark.E2E_v2.incarceration_transitions import IncarceratedTransitions\n",
    "from spark.E2E_v2.release_transitions import ReleasedTransitions"
   ]
  },
  {
   "cell_type": "code",
   "execution_count": 12,
   "metadata": {
    "ExecuteTime": {
     "end_time": "2020-09-15T18:33:53.569999Z",
     "start_time": "2020-09-15T18:33:53.556356Z"
    }
   },
   "outputs": [
    {
     "data": {
      "text/html": [
       "<div>\n",
       "<style scoped>\n",
       "    .dataframe tbody tr th:only-of-type {\n",
       "        vertical-align: middle;\n",
       "    }\n",
       "\n",
       "    .dataframe tbody tr th {\n",
       "        vertical-align: top;\n",
       "    }\n",
       "\n",
       "    .dataframe thead th {\n",
       "        text-align: right;\n",
       "    }\n",
       "</style>\n",
       "<table border=\"1\" class=\"dataframe\">\n",
       "  <thead>\n",
       "    <tr style=\"text-align: right;\">\n",
       "      <th></th>\n",
       "      <th>year</th>\n",
       "      <th>total_population</th>\n",
       "      <th>subgroup</th>\n",
       "      <th>compartment</th>\n",
       "      <th>outflow_to</th>\n",
       "    </tr>\n",
       "  </thead>\n",
       "  <tbody>\n",
       "    <tr>\n",
       "      <th>0</th>\n",
       "      <td>2020</td>\n",
       "      <td>100</td>\n",
       "      <td>affected_population</td>\n",
       "      <td>pretrial</td>\n",
       "      <td>supervision</td>\n",
       "    </tr>\n",
       "    <tr>\n",
       "      <th>1</th>\n",
       "      <td>2021</td>\n",
       "      <td>100</td>\n",
       "      <td>affected_population</td>\n",
       "      <td>pretrial</td>\n",
       "      <td>supervision</td>\n",
       "    </tr>\n",
       "    <tr>\n",
       "      <th>2</th>\n",
       "      <td>2022</td>\n",
       "      <td>100</td>\n",
       "      <td>affected_population</td>\n",
       "      <td>pretrial</td>\n",
       "      <td>supervision</td>\n",
       "    </tr>\n",
       "    <tr>\n",
       "      <th>3</th>\n",
       "      <td>2023</td>\n",
       "      <td>100</td>\n",
       "      <td>affected_population</td>\n",
       "      <td>pretrial</td>\n",
       "      <td>supervision</td>\n",
       "    </tr>\n",
       "    <tr>\n",
       "      <th>4</th>\n",
       "      <td>2024</td>\n",
       "      <td>100</td>\n",
       "      <td>affected_population</td>\n",
       "      <td>pretrial</td>\n",
       "      <td>supervision</td>\n",
       "    </tr>\n",
       "  </tbody>\n",
       "</table>\n",
       "</div>"
      ],
      "text/plain": [
       "   year  total_population             subgroup compartment   outflow_to\n",
       "0  2020               100  affected_population    pretrial  supervision\n",
       "1  2021               100  affected_population    pretrial  supervision\n",
       "2  2022               100  affected_population    pretrial  supervision\n",
       "3  2023               100  affected_population    pretrial  supervision\n",
       "4  2024               100  affected_population    pretrial  supervision"
      ]
     },
     "execution_count": 12,
     "metadata": {},
     "output_type": "execute_result"
    }
   ],
   "source": [
    "years = range(2020, 2025)\n",
    "deferred_pop = [210, 280, 350, 420, 490]\n",
    "# deferred_pop = [100,100,100,100,100]\n",
    "\n",
    "outflows_data = pd.DataFrame(data={\"year\": years, \"total_population\": deferred_pop})\n",
    "outflows_data[\"subgroup\"] = \"affected_population\"\n",
    "outflows_data[\"compartment\"] = \"pretrial\"\n",
    "outflows_data[\"outflow_to\"] = \"supervision\"\n",
    "outflows_data"
   ]
  },
  {
   "cell_type": "code",
   "execution_count": 13,
   "metadata": {
    "ExecuteTime": {
     "end_time": "2020-09-15T18:33:55.437680Z",
     "start_time": "2020-09-15T18:33:55.425660Z"
    }
   },
   "outputs": [
    {
     "data": {
      "text/html": [
       "<div>\n",
       "<style scoped>\n",
       "    .dataframe tbody tr th:only-of-type {\n",
       "        vertical-align: middle;\n",
       "    }\n",
       "\n",
       "    .dataframe tbody tr th {\n",
       "        vertical-align: top;\n",
       "    }\n",
       "\n",
       "    .dataframe thead th {\n",
       "        text-align: right;\n",
       "    }\n",
       "</style>\n",
       "<table border=\"1\" class=\"dataframe\">\n",
       "  <thead>\n",
       "    <tr style=\"text-align: right;\">\n",
       "      <th></th>\n",
       "      <th>compartment</th>\n",
       "      <th>outflow_to</th>\n",
       "      <th>total_population</th>\n",
       "      <th>compartment_duration</th>\n",
       "      <th>subgroup</th>\n",
       "    </tr>\n",
       "  </thead>\n",
       "  <tbody>\n",
       "    <tr>\n",
       "      <th>0</th>\n",
       "      <td>supervision</td>\n",
       "      <td>release</td>\n",
       "      <td>77</td>\n",
       "      <td>2</td>\n",
       "      <td>affected_population</td>\n",
       "    </tr>\n",
       "    <tr>\n",
       "      <th>1</th>\n",
       "      <td>supervision</td>\n",
       "      <td>prison</td>\n",
       "      <td>11</td>\n",
       "      <td>1</td>\n",
       "      <td>affected_population</td>\n",
       "    </tr>\n",
       "    <tr>\n",
       "      <th>2</th>\n",
       "      <td>supervision</td>\n",
       "      <td>prison</td>\n",
       "      <td>12</td>\n",
       "      <td>2</td>\n",
       "      <td>affected_population</td>\n",
       "    </tr>\n",
       "    <tr>\n",
       "      <th>3</th>\n",
       "      <td>release</td>\n",
       "      <td>release</td>\n",
       "      <td>1</td>\n",
       "      <td>1</td>\n",
       "      <td>affected_population</td>\n",
       "    </tr>\n",
       "    <tr>\n",
       "      <th>4</th>\n",
       "      <td>prison</td>\n",
       "      <td>prison</td>\n",
       "      <td>1</td>\n",
       "      <td>1</td>\n",
       "      <td>affected_population</td>\n",
       "    </tr>\n",
       "  </tbody>\n",
       "</table>\n",
       "</div>"
      ],
      "text/plain": [
       "   compartment outflow_to  total_population  compartment_duration  \\\n",
       "0  supervision    release                77                     2   \n",
       "1  supervision     prison                11                     1   \n",
       "2  supervision     prison                12                     2   \n",
       "3      release    release                 1                     1   \n",
       "4       prison     prison                 1                     1   \n",
       "\n",
       "              subgroup  \n",
       "0  affected_population  \n",
       "1  affected_population  \n",
       "2  affected_population  \n",
       "3  affected_population  \n",
       "4  affected_population  "
      ]
     },
     "execution_count": 13,
     "metadata": {},
     "output_type": "execute_result"
    }
   ],
   "source": [
    "transition_data = pd.DataFrame(\n",
    "    {\n",
    "        \"compartment\": [\n",
    "            \"supervision\",\n",
    "            \"supervision\",\n",
    "            \"supervision\",\n",
    "            \"release\",\n",
    "            \"prison\",\n",
    "        ],\n",
    "        \"outflow_to\": [\"release\", \"prison\", \"prison\", \"release\", \"prison\"],\n",
    "        \"total_population\": [77, 11, 12, 1, 1],\n",
    "        \"compartment_duration\": [2, 1, 2, 1, 1],\n",
    "    }\n",
    ")\n",
    "transition_data[\"subgroup\"] = \"affected_population\"\n",
    "transition_data"
   ]
  },
  {
   "cell_type": "code",
   "execution_count": 18,
   "metadata": {
    "ExecuteTime": {
     "end_time": "2020-09-15T18:34:30.547588Z",
     "start_time": "2020-09-15T18:34:30.384256Z"
    }
   },
   "outputs": [
    {
     "name": "stdout",
     "output_type": "stream",
     "text": [
      "initialization time:  0.006174802780151367\n",
      "simulation_time:  0.1240699291229248\n"
     ]
    },
    {
     "name": "stderr",
     "output_type": "stream",
     "text": [
      "../../spark/E2E_v2/compartment_transitions.py:45: UserWarning: Boolean Series key will be reindexed to match DataFrame index.\n",
      "  self.historical_outflows[transitions_below_threshold_slice['total_population']]\n"
     ]
    },
    {
     "ename": "KeyError",
     "evalue": "'release'",
     "output_type": "error",
     "traceback": [
      "\u001b[0;31m---------------------------------------------------------------------------\u001b[0m",
      "\u001b[0;31mKeyError\u001b[0m                                  Traceback (most recent call last)",
      "\u001b[0;32m~/.local/share/virtualenvs/recidiviz-research-FjDe2rWA/lib/python3.7/site-packages/pandas/core/indexes/base.py\u001b[0m in \u001b[0;36mget_loc\u001b[0;34m(self, key, method, tolerance)\u001b[0m\n\u001b[1;32m   2645\u001b[0m             \u001b[0;32mtry\u001b[0m\u001b[0;34m:\u001b[0m\u001b[0;34m\u001b[0m\u001b[0;34m\u001b[0m\u001b[0m\n\u001b[0;32m-> 2646\u001b[0;31m                 \u001b[0;32mreturn\u001b[0m \u001b[0mself\u001b[0m\u001b[0;34m.\u001b[0m\u001b[0m_engine\u001b[0m\u001b[0;34m.\u001b[0m\u001b[0mget_loc\u001b[0m\u001b[0;34m(\u001b[0m\u001b[0mkey\u001b[0m\u001b[0;34m)\u001b[0m\u001b[0;34m\u001b[0m\u001b[0;34m\u001b[0m\u001b[0m\n\u001b[0m\u001b[1;32m   2647\u001b[0m             \u001b[0;32mexcept\u001b[0m \u001b[0mKeyError\u001b[0m\u001b[0;34m:\u001b[0m\u001b[0;34m\u001b[0m\u001b[0;34m\u001b[0m\u001b[0m\n",
      "\u001b[0;32mpandas/_libs/index.pyx\u001b[0m in \u001b[0;36mpandas._libs.index.IndexEngine.get_loc\u001b[0;34m()\u001b[0m\n",
      "\u001b[0;32mpandas/_libs/index.pyx\u001b[0m in \u001b[0;36mpandas._libs.index.IndexEngine.get_loc\u001b[0;34m()\u001b[0m\n",
      "\u001b[0;32mpandas/_libs/hashtable_class_helper.pxi\u001b[0m in \u001b[0;36mpandas._libs.hashtable.PyObjectHashTable.get_item\u001b[0;34m()\u001b[0m\n",
      "\u001b[0;32mpandas/_libs/hashtable_class_helper.pxi\u001b[0m in \u001b[0;36mpandas._libs.hashtable.PyObjectHashTable.get_item\u001b[0;34m()\u001b[0m\n",
      "\u001b[0;31mKeyError\u001b[0m: 'release'",
      "\nDuring handling of the above exception, another exception occurred:\n",
      "\u001b[0;31mKeyError\u001b[0m                                  Traceback (most recent call last)",
      "\u001b[0;32m<ipython-input-18-c99b667a02fd>\u001b[0m in \u001b[0;36m<module>\u001b[0;34m\u001b[0m\n\u001b[1;32m     14\u001b[0m \u001b[0mpolicy_projection\u001b[0m\u001b[0;34m.\u001b[0m\u001b[0minitialize_data\u001b[0m\u001b[0;34m(\u001b[0m\u001b[0moutflows_data\u001b[0m\u001b[0;34m,\u001b[0m \u001b[0mtransition_data\u001b[0m\u001b[0;34m,\u001b[0m \u001b[0mcompartments_architecture\u001b[0m\u001b[0;34m,\u001b[0m \u001b[0mdisaggregation_axes\u001b[0m\u001b[0;34m)\u001b[0m\u001b[0;34m\u001b[0m\u001b[0;34m\u001b[0m\u001b[0m\n\u001b[1;32m     15\u001b[0m \u001b[0mpolicy_projection\u001b[0m\u001b[0;34m.\u001b[0m\u001b[0mset_user_inputs\u001b[0m\u001b[0;34m(\u001b[0m\u001b[0muser_inputs\u001b[0m\u001b[0;34m)\u001b[0m\u001b[0;34m\u001b[0m\u001b[0;34m\u001b[0m\u001b[0m\n\u001b[0;32m---> 16\u001b[0;31m \u001b[0mprojection_results\u001b[0m \u001b[0;34m=\u001b[0m \u001b[0mpolicy_projection\u001b[0m\u001b[0;34m.\u001b[0m\u001b[0msimulate_baseline\u001b[0m\u001b[0;34m(\u001b[0m\u001b[0moutput_compartment\u001b[0m \u001b[0;34m=\u001b[0m \u001b[0;34m'prison'\u001b[0m\u001b[0;34m,\u001b[0m \u001b[0moutflow_to\u001b[0m \u001b[0;34m=\u001b[0m \u001b[0;34m'release'\u001b[0m\u001b[0;34m,\u001b[0m \u001b[0minitialization_period\u001b[0m \u001b[0;34m=\u001b[0m \u001b[0;36m0\u001b[0m\u001b[0;34m)\u001b[0m\u001b[0;34m\u001b[0m\u001b[0;34m\u001b[0m\u001b[0m\n\u001b[0m",
      "\u001b[0;32m~/recidiviz-research/spark/E2E_v2/super_simulation.py\u001b[0m in \u001b[0;36msimulate_baseline\u001b[0;34m(self, output_compartment, outflow_to, initialization_period)\u001b[0m\n\u001b[1;32m    113\u001b[0m         \u001b[0;32mfor\u001b[0m \u001b[0msub_group\u001b[0m \u001b[0;32min\u001b[0m \u001b[0mself\u001b[0m\u001b[0;34m.\u001b[0m\u001b[0mpop_simulations\u001b[0m\u001b[0;34m[\u001b[0m\u001b[0;34m'baseline'\u001b[0m\u001b[0;34m]\u001b[0m\u001b[0;34m.\u001b[0m\u001b[0msub_simulations\u001b[0m\u001b[0;34m:\u001b[0m\u001b[0;34m\u001b[0m\u001b[0;34m\u001b[0m\u001b[0m\n\u001b[1;32m    114\u001b[0m             \u001b[0mself\u001b[0m\u001b[0;34m.\u001b[0m\u001b[0moutput_data\u001b[0m\u001b[0;34m[\u001b[0m\u001b[0;34m'baseline_error'\u001b[0m\u001b[0;34m]\u001b[0m\u001b[0;34m[\u001b[0m\u001b[0msub_group\u001b[0m\u001b[0;34m]\u001b[0m \u001b[0;34m=\u001b[0m\u001b[0;31m \u001b[0m\u001b[0;31m\\\u001b[0m\u001b[0;34m\u001b[0m\u001b[0;34m\u001b[0m\u001b[0m\n\u001b[0;32m--> 115\u001b[0;31m                 \u001b[0mself\u001b[0m\u001b[0;34m.\u001b[0m\u001b[0mpop_simulations\u001b[0m\u001b[0;34m[\u001b[0m\u001b[0;34m'baseline'\u001b[0m\u001b[0;34m]\u001b[0m\u001b[0;34m.\u001b[0m\u001b[0msub_simulations\u001b[0m\u001b[0;34m[\u001b[0m\u001b[0msub_group\u001b[0m\u001b[0;34m]\u001b[0m\u001b[0;34m.\u001b[0m\u001b[0mget_error\u001b[0m\u001b[0;34m(\u001b[0m\u001b[0moutput_compartment\u001b[0m\u001b[0;34m)\u001b[0m\u001b[0;34m[\u001b[0m\u001b[0moutflow_to\u001b[0m\u001b[0;34m]\u001b[0m\u001b[0;34m\u001b[0m\u001b[0;34m\u001b[0m\u001b[0m\n\u001b[0m\u001b[1;32m    116\u001b[0m \u001b[0;34m\u001b[0m\u001b[0m\n\u001b[1;32m    117\u001b[0m         \u001b[0;32mreturn\u001b[0m \u001b[0mself\u001b[0m\u001b[0;34m.\u001b[0m\u001b[0moutput_data\u001b[0m\u001b[0;34m[\u001b[0m\u001b[0;34m'baseline_error'\u001b[0m\u001b[0;34m]\u001b[0m\u001b[0;34m\u001b[0m\u001b[0;34m\u001b[0m\u001b[0m\n",
      "\u001b[0;32m~/.local/share/virtualenvs/recidiviz-research-FjDe2rWA/lib/python3.7/site-packages/pandas/core/frame.py\u001b[0m in \u001b[0;36m__getitem__\u001b[0;34m(self, key)\u001b[0m\n\u001b[1;32m   2798\u001b[0m             \u001b[0;32mif\u001b[0m \u001b[0mself\u001b[0m\u001b[0;34m.\u001b[0m\u001b[0mcolumns\u001b[0m\u001b[0;34m.\u001b[0m\u001b[0mnlevels\u001b[0m \u001b[0;34m>\u001b[0m \u001b[0;36m1\u001b[0m\u001b[0;34m:\u001b[0m\u001b[0;34m\u001b[0m\u001b[0;34m\u001b[0m\u001b[0m\n\u001b[1;32m   2799\u001b[0m                 \u001b[0;32mreturn\u001b[0m \u001b[0mself\u001b[0m\u001b[0;34m.\u001b[0m\u001b[0m_getitem_multilevel\u001b[0m\u001b[0;34m(\u001b[0m\u001b[0mkey\u001b[0m\u001b[0;34m)\u001b[0m\u001b[0;34m\u001b[0m\u001b[0;34m\u001b[0m\u001b[0m\n\u001b[0;32m-> 2800\u001b[0;31m             \u001b[0mindexer\u001b[0m \u001b[0;34m=\u001b[0m \u001b[0mself\u001b[0m\u001b[0;34m.\u001b[0m\u001b[0mcolumns\u001b[0m\u001b[0;34m.\u001b[0m\u001b[0mget_loc\u001b[0m\u001b[0;34m(\u001b[0m\u001b[0mkey\u001b[0m\u001b[0;34m)\u001b[0m\u001b[0;34m\u001b[0m\u001b[0;34m\u001b[0m\u001b[0m\n\u001b[0m\u001b[1;32m   2801\u001b[0m             \u001b[0;32mif\u001b[0m \u001b[0mis_integer\u001b[0m\u001b[0;34m(\u001b[0m\u001b[0mindexer\u001b[0m\u001b[0;34m)\u001b[0m\u001b[0;34m:\u001b[0m\u001b[0;34m\u001b[0m\u001b[0;34m\u001b[0m\u001b[0m\n\u001b[1;32m   2802\u001b[0m                 \u001b[0mindexer\u001b[0m \u001b[0;34m=\u001b[0m \u001b[0;34m[\u001b[0m\u001b[0mindexer\u001b[0m\u001b[0;34m]\u001b[0m\u001b[0;34m\u001b[0m\u001b[0;34m\u001b[0m\u001b[0m\n",
      "\u001b[0;32m~/.local/share/virtualenvs/recidiviz-research-FjDe2rWA/lib/python3.7/site-packages/pandas/core/indexes/base.py\u001b[0m in \u001b[0;36mget_loc\u001b[0;34m(self, key, method, tolerance)\u001b[0m\n\u001b[1;32m   2646\u001b[0m                 \u001b[0;32mreturn\u001b[0m \u001b[0mself\u001b[0m\u001b[0;34m.\u001b[0m\u001b[0m_engine\u001b[0m\u001b[0;34m.\u001b[0m\u001b[0mget_loc\u001b[0m\u001b[0;34m(\u001b[0m\u001b[0mkey\u001b[0m\u001b[0;34m)\u001b[0m\u001b[0;34m\u001b[0m\u001b[0;34m\u001b[0m\u001b[0m\n\u001b[1;32m   2647\u001b[0m             \u001b[0;32mexcept\u001b[0m \u001b[0mKeyError\u001b[0m\u001b[0;34m:\u001b[0m\u001b[0;34m\u001b[0m\u001b[0;34m\u001b[0m\u001b[0m\n\u001b[0;32m-> 2648\u001b[0;31m                 \u001b[0;32mreturn\u001b[0m \u001b[0mself\u001b[0m\u001b[0;34m.\u001b[0m\u001b[0m_engine\u001b[0m\u001b[0;34m.\u001b[0m\u001b[0mget_loc\u001b[0m\u001b[0;34m(\u001b[0m\u001b[0mself\u001b[0m\u001b[0;34m.\u001b[0m\u001b[0m_maybe_cast_indexer\u001b[0m\u001b[0;34m(\u001b[0m\u001b[0mkey\u001b[0m\u001b[0;34m)\u001b[0m\u001b[0;34m)\u001b[0m\u001b[0;34m\u001b[0m\u001b[0;34m\u001b[0m\u001b[0m\n\u001b[0m\u001b[1;32m   2649\u001b[0m         \u001b[0mindexer\u001b[0m \u001b[0;34m=\u001b[0m \u001b[0mself\u001b[0m\u001b[0;34m.\u001b[0m\u001b[0mget_indexer\u001b[0m\u001b[0;34m(\u001b[0m\u001b[0;34m[\u001b[0m\u001b[0mkey\u001b[0m\u001b[0;34m]\u001b[0m\u001b[0;34m,\u001b[0m \u001b[0mmethod\u001b[0m\u001b[0;34m=\u001b[0m\u001b[0mmethod\u001b[0m\u001b[0;34m,\u001b[0m \u001b[0mtolerance\u001b[0m\u001b[0;34m=\u001b[0m\u001b[0mtolerance\u001b[0m\u001b[0;34m)\u001b[0m\u001b[0;34m\u001b[0m\u001b[0;34m\u001b[0m\u001b[0m\n\u001b[1;32m   2650\u001b[0m         \u001b[0;32mif\u001b[0m \u001b[0mindexer\u001b[0m\u001b[0;34m.\u001b[0m\u001b[0mndim\u001b[0m \u001b[0;34m>\u001b[0m \u001b[0;36m1\u001b[0m \u001b[0;32mor\u001b[0m \u001b[0mindexer\u001b[0m\u001b[0;34m.\u001b[0m\u001b[0msize\u001b[0m \u001b[0;34m>\u001b[0m \u001b[0;36m1\u001b[0m\u001b[0;34m:\u001b[0m\u001b[0;34m\u001b[0m\u001b[0;34m\u001b[0m\u001b[0m\n",
      "\u001b[0;32mpandas/_libs/index.pyx\u001b[0m in \u001b[0;36mpandas._libs.index.IndexEngine.get_loc\u001b[0;34m()\u001b[0m\n",
      "\u001b[0;32mpandas/_libs/index.pyx\u001b[0m in \u001b[0;36mpandas._libs.index.IndexEngine.get_loc\u001b[0;34m()\u001b[0m\n",
      "\u001b[0;32mpandas/_libs/hashtable_class_helper.pxi\u001b[0m in \u001b[0;36mpandas._libs.hashtable.PyObjectHashTable.get_item\u001b[0;34m()\u001b[0m\n",
      "\u001b[0;32mpandas/_libs/hashtable_class_helper.pxi\u001b[0m in \u001b[0;36mpandas._libs.hashtable.PyObjectHashTable.get_item\u001b[0;34m()\u001b[0m\n",
      "\u001b[0;31mKeyError\u001b[0m: 'release'"
     ]
    }
   ],
   "source": [
    "user_inputs = {\"projection_years\": 5, \"policy_year\": 2020, \"start_year\": 2020}\n",
    "compartments_architecture = {\n",
    "    \"prison\": IncarceratedTransitions,\n",
    "    \"release\": ReleasedTransitions,\n",
    "    \"prison_shell\": None,\n",
    "    \"supervision\": IncarceratedTransitions,\n",
    "}\n",
    "\n",
    "compartments_architecture = {\n",
    "    \"prison\": IncarceratedTransitions,\n",
    "    \"release\": ReleasedTransitions,\n",
    "    \"supervision\": IncarceratedTransitions,\n",
    "    \"pretrial\": None,\n",
    "}\n",
    "\n",
    "\n",
    "disaggregation_axes = [\"subgroup\"]\n",
    "policy_projection = SuperSimulation()\n",
    "policy_projection.initialize_data(\n",
    "    outflows_data, transition_data, compartments_architecture, disaggregation_axes\n",
    ")\n",
    "policy_projection.set_user_inputs(user_inputs)\n",
    "projection_results = policy_projection.simulate_baseline(\n",
    "    output_compartment=\"prison\", outflow_to=\"release\", initialization_period=0\n",
    ")"
   ]
  },
  {
   "cell_type": "code",
   "execution_count": 19,
   "metadata": {
    "ExecuteTime": {
     "end_time": "2020-09-15T18:34:33.796375Z",
     "start_time": "2020-09-15T18:34:33.785103Z"
    }
   },
   "outputs": [
    {
     "data": {
      "text/html": [
       "<div>\n",
       "<style scoped>\n",
       "    .dataframe tbody tr th:only-of-type {\n",
       "        vertical-align: middle;\n",
       "    }\n",
       "\n",
       "    .dataframe tbody tr th {\n",
       "        vertical-align: top;\n",
       "    }\n",
       "\n",
       "    .dataframe thead th {\n",
       "        text-align: right;\n",
       "    }\n",
       "</style>\n",
       "<table border=\"1\" class=\"dataframe\">\n",
       "  <thead>\n",
       "    <tr style=\"text-align: right;\">\n",
       "      <th></th>\n",
       "      <th>total_population</th>\n",
       "      <th>compartment</th>\n",
       "      <th>year</th>\n",
       "      <th>simulation_group</th>\n",
       "    </tr>\n",
       "  </thead>\n",
       "  <tbody>\n",
       "    <tr>\n",
       "      <th>2020</th>\n",
       "      <td>0.0</td>\n",
       "      <td>prison</td>\n",
       "      <td>2020</td>\n",
       "      <td>affected_population</td>\n",
       "    </tr>\n",
       "    <tr>\n",
       "      <th>2021</th>\n",
       "      <td>11.0</td>\n",
       "      <td>prison</td>\n",
       "      <td>2021</td>\n",
       "      <td>affected_population</td>\n",
       "    </tr>\n",
       "    <tr>\n",
       "      <th>2022</th>\n",
       "      <td>34.0</td>\n",
       "      <td>prison</td>\n",
       "      <td>2022</td>\n",
       "      <td>affected_population</td>\n",
       "    </tr>\n",
       "    <tr>\n",
       "      <th>2023</th>\n",
       "      <td>57.0</td>\n",
       "      <td>prison</td>\n",
       "      <td>2023</td>\n",
       "      <td>affected_population</td>\n",
       "    </tr>\n",
       "    <tr>\n",
       "      <th>2024</th>\n",
       "      <td>80.0</td>\n",
       "      <td>prison</td>\n",
       "      <td>2024</td>\n",
       "      <td>affected_population</td>\n",
       "    </tr>\n",
       "    <tr>\n",
       "      <th>2020</th>\n",
       "      <td>0.0</td>\n",
       "      <td>release</td>\n",
       "      <td>2020</td>\n",
       "      <td>affected_population</td>\n",
       "    </tr>\n",
       "    <tr>\n",
       "      <th>2021</th>\n",
       "      <td>0.0</td>\n",
       "      <td>release</td>\n",
       "      <td>2021</td>\n",
       "      <td>affected_population</td>\n",
       "    </tr>\n",
       "    <tr>\n",
       "      <th>2022</th>\n",
       "      <td>77.0</td>\n",
       "      <td>release</td>\n",
       "      <td>2022</td>\n",
       "      <td>affected_population</td>\n",
       "    </tr>\n",
       "    <tr>\n",
       "      <th>2023</th>\n",
       "      <td>154.0</td>\n",
       "      <td>release</td>\n",
       "      <td>2023</td>\n",
       "      <td>affected_population</td>\n",
       "    </tr>\n",
       "    <tr>\n",
       "      <th>2024</th>\n",
       "      <td>231.0</td>\n",
       "      <td>release</td>\n",
       "      <td>2024</td>\n",
       "      <td>affected_population</td>\n",
       "    </tr>\n",
       "    <tr>\n",
       "      <th>2020</th>\n",
       "      <td>100.0</td>\n",
       "      <td>supervision</td>\n",
       "      <td>2020</td>\n",
       "      <td>affected_population</td>\n",
       "    </tr>\n",
       "    <tr>\n",
       "      <th>2021</th>\n",
       "      <td>189.0</td>\n",
       "      <td>supervision</td>\n",
       "      <td>2021</td>\n",
       "      <td>affected_population</td>\n",
       "    </tr>\n",
       "    <tr>\n",
       "      <th>2022</th>\n",
       "      <td>189.0</td>\n",
       "      <td>supervision</td>\n",
       "      <td>2022</td>\n",
       "      <td>affected_population</td>\n",
       "    </tr>\n",
       "    <tr>\n",
       "      <th>2023</th>\n",
       "      <td>189.0</td>\n",
       "      <td>supervision</td>\n",
       "      <td>2023</td>\n",
       "      <td>affected_population</td>\n",
       "    </tr>\n",
       "    <tr>\n",
       "      <th>2024</th>\n",
       "      <td>189.0</td>\n",
       "      <td>supervision</td>\n",
       "      <td>2024</td>\n",
       "      <td>affected_population</td>\n",
       "    </tr>\n",
       "  </tbody>\n",
       "</table>\n",
       "</div>"
      ],
      "text/plain": [
       "      total_population  compartment  year     simulation_group\n",
       "2020               0.0       prison  2020  affected_population\n",
       "2021              11.0       prison  2021  affected_population\n",
       "2022              34.0       prison  2022  affected_population\n",
       "2023              57.0       prison  2023  affected_population\n",
       "2024              80.0       prison  2024  affected_population\n",
       "2020               0.0      release  2020  affected_population\n",
       "2021               0.0      release  2021  affected_population\n",
       "2022              77.0      release  2022  affected_population\n",
       "2023             154.0      release  2023  affected_population\n",
       "2024             231.0      release  2024  affected_population\n",
       "2020             100.0  supervision  2020  affected_population\n",
       "2021             189.0  supervision  2021  affected_population\n",
       "2022             189.0  supervision  2022  affected_population\n",
       "2023             189.0  supervision  2023  affected_population\n",
       "2024             189.0  supervision  2024  affected_population"
      ]
     },
     "execution_count": 19,
     "metadata": {},
     "output_type": "execute_result"
    }
   ],
   "source": [
    "results = policy_projection.pop_simulations[\"baseline\"].population_projections\n",
    "results"
   ]
  }
 ],
 "metadata": {
  "kernelspec": {
   "display_name": "Python 3",
   "language": "python",
   "name": "python3"
  },
  "language_info": {
   "codemirror_mode": {
    "name": "ipython",
    "version": 3
   },
   "file_extension": ".py",
   "mimetype": "text/x-python",
   "name": "python",
   "nbconvert_exporter": "python",
   "pygments_lexer": "ipython3",
   "version": "3.7.9"
  }
 },
 "nbformat": 4,
 "nbformat_minor": 4
}
