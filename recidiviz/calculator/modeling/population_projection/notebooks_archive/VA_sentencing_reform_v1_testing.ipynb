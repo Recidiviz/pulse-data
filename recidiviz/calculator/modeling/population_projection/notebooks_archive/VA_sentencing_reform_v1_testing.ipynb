{
 "cells": [
  {
   "cell_type": "code",
   "execution_count": 1,
   "metadata": {},
   "outputs": [
    {
     "name": "stdout",
     "output_type": "stream",
     "text": [
      "52291\n"
     ]
    }
   ],
   "source": [
    "%run ./VA_sentencing_reform_v1_utils.ipynb"
   ]
  },
  {
   "cell_type": "code",
   "execution_count": 2,
   "metadata": {},
   "outputs": [
    {
     "data": {
      "text/plain": [
       "<module 'spark.sentencing_policy_impact_v1.population_simulation' from '../../spark/sentencing_policy_impact_v1/population_simulation.py'>"
      ]
     },
     "execution_count": 2,
     "metadata": {},
     "output_type": "execute_result"
    }
   ],
   "source": [
    "reload(incarceration_transitions)\n",
    "reload(population_simulation)"
   ]
  },
  {
   "cell_type": "code",
   "execution_count": 4,
   "metadata": {},
   "outputs": [],
   "source": [
    "mm_reduction_5y = partial(\n",
    "    incarceration_transitions.IncarceratedTransitions.apply_mandatory_minimum_reduction,\n",
    "    sentence_reduction_years=5,\n",
    ")\n",
    "abolish_mm = partial(\n",
    "    incarceration_transitions.IncarceratedTransitions.apply_mandatory_minimum_reduction,\n",
    "    sentence_reduction_years=None,\n",
    ")\n",
    "\n",
    "user_inputs = {\"projection_years\": 10}\n",
    "\n",
    "policy_df = pd.DataFrame(\n",
    "    [\n",
    "        {\n",
    "            \"simulation_group_name\": \"DRUG/SCHEDULE I/II_0\",\n",
    "            \"year\": 2020,\n",
    "            \"compartment\": \"prison\",\n",
    "            \"policies\": [abolish_mm],\n",
    "        },\n",
    "        {\n",
    "            \"simulation_group_name\": \"DRUG/SCHEDULE I/II_0\",\n",
    "            \"year\": 2020,\n",
    "            \"compartment\": \"jail\",\n",
    "            \"policies\": [abolish_mm],\n",
    "        },\n",
    "        {\n",
    "            \"simulation_group_name\": \"DRUG/SCHEDULE I/II_1\",\n",
    "            \"year\": 2020,\n",
    "            \"compartment\": \"prison\",\n",
    "            \"policies\": [mm_reduction_5y],\n",
    "        },\n",
    "    ]\n",
    ")\n",
    "\n",
    "policy_df = pd.DataFrame(\n",
    "    columns=[\"simulation_group_name\", \"year\", \"compartment\", \"policies\"]\n",
    ")\n",
    "no_policy_df = pd.DataFrame(\n",
    "    columns=[\"simulation_group_name\", \"year\", \"compartment\", \"policies\"]\n",
    ")"
   ]
  },
  {
   "cell_type": "code",
   "execution_count": 5,
   "metadata": {},
   "outputs": [
    {
     "name": "stdout",
     "output_type": "stream",
     "text": [
      "initialization time:  0.0385127067565918\n",
      "simulation_time:  18.431827068328857\n",
      "initialization time:  0.028604984283447266\n",
      "simulation_time:  18.69565486907959\n"
     ]
    }
   ],
   "source": [
    "test_data = jail_prison_admissions[\n",
    "    jail_prison_admissions[\"offense_group\"] == \"DRUG/SCHEDULE I/II\"\n",
    "]\n",
    "test_sim = population_simulation.PopulationSimulation()\n",
    "counterfactual_sim = population_simulation.PopulationSimulation()\n",
    "test_results = test_sim.simulate_sentencing_policies(test_data, user_inputs, policy_df)\n",
    "counterfactual_results = counterfactual_sim.simulate_sentencing_policies(\n",
    "    test_data, user_inputs, no_policy_df\n",
    ")"
   ]
  },
  {
   "cell_type": "code",
   "execution_count": 6,
   "metadata": {},
   "outputs": [
    {
     "data": {
      "text/plain": [
       "1998         2.000000\n",
       "1999         4.000000\n",
       "2000      5344.000000\n",
       "2001     10684.000000\n",
       "2002     15945.595568\n",
       "2003     21017.143962\n",
       "2004     25899.669025\n",
       "2005     30646.224461\n",
       "2006     35268.778353\n",
       "2007     39772.987594\n",
       "2008     44163.544163\n",
       "2009     48444.540930\n",
       "2010     52619.287486\n",
       "2011     56688.475960\n",
       "2012     60654.257923\n",
       "2013     64519.809926\n",
       "2014     68288.375282\n",
       "2015     71962.448345\n",
       "2016     75544.443899\n",
       "2017     79036.704592\n",
       "2018     82706.506034\n",
       "2019     86590.060601\n",
       "2020     90382.722711\n",
       "2021     94072.263059\n",
       "2022     97657.663675\n",
       "2023    101148.880821\n",
       "2024    104552.427450\n",
       "2025    107870.841422\n",
       "2026    111106.198676\n",
       "2027    114260.586491\n",
       "2028    117290.563440\n",
       "2029    120288.233499\n",
       "Name: total_population, dtype: float64"
      ]
     },
     "execution_count": 6,
     "metadata": {},
     "output_type": "execute_result"
    }
   ],
   "source": [
    "test_results.groupby(level=0).sum()[\"total_population\"]"
   ]
  },
  {
   "cell_type": "code",
   "execution_count": 7,
   "metadata": {},
   "outputs": [
    {
     "data": {
      "text/plain": [
       "<matplotlib.axes._subplots.AxesSubplot at 0x7ffad68f6f10>"
      ]
     },
     "execution_count": 7,
     "metadata": {},
     "output_type": "execute_result"
    },
    {
     "data": {
      "image/png": "[encoded data removed]",
      "text/plain": [
       "<Figure size 432x288 with 1 Axes>"
      ]
     },
     "metadata": {
      "needs_background": "light"
     },
     "output_type": "display_data"
    }
   ],
   "source": [
    "from spark.sentencing_policy_impact_v1.historical_data import (\n",
    "    total_state_responsible_adult_population,\n",
    ")\n",
    "\n",
    "population_change = (\n",
    "    test_results.groupby(level=0).sum()[\"total_population\"]\n",
    "    - counterfactual_results.groupby(level=0).sum()[\"total_population\"]\n",
    ")\n",
    "policy_projection = total_state_responsible_adult_population + population_change\n",
    "policy_projection.plot()"
   ]
  },
  {
   "cell_type": "code",
   "execution_count": 10,
   "metadata": {},
   "outputs": [
    {
     "data": {
      "text/plain": [
       "<matplotlib.axes._subplots.AxesSubplot at 0x7ffad7c92510>"
      ]
     },
     "execution_count": 10,
     "metadata": {},
     "output_type": "execute_result"
    },
    {
     "data": {
      "image/png": "[encoded data removed]",
      "text/plain": [
       "<Figure size 432x288 with 1 Axes>"
      ]
     },
     "metadata": {
      "needs_background": "light"
     },
     "output_type": "display_data"
    }
   ],
   "source": [
    "total_state_responsible_adult_population.plot(ylim=[35000, 40000])"
   ]
  },
  {
   "cell_type": "code",
   "execution_count": 12,
   "metadata": {},
   "outputs": [
    {
     "name": "stderr",
     "output_type": "stream",
     "text": [
      "/Users/justine/.local/share/virtualenvs/recidiviz-research--v7DE6HN/lib/python3.7/site-packages/pandas/core/generic.py:3936: PerformanceWarning: dropping on a non-lexsorted multi-index without a level parameter may impact performance.\n",
      "  obj = obj._drop_axis(labels, axis, level=level, errors=errors)\n"
     ]
    },
    {
     "data": {
      "text/plain": [
       "<matplotlib.axes._subplots.AxesSubplot at 0x7fe67a511050>"
      ]
     },
     "execution_count": 12,
     "metadata": {},
     "output_type": "execute_result"
    },
    {
     "data": {
      "image/png": "[encoded data removed]",
      "text/plain": [
       "<Figure size 432x288 with 1 Axes>"
      ]
     },
     "metadata": {
      "needs_background": "light"
     },
     "output_type": "display_data"
    }
   ],
   "source": [
    "simulation_results = format_simulation_results(test_results, \"no_policy\")\n",
    "# simulation_results = simulation_results.merge(format_simulation_results(no_policy_results, 'no_policies'),\n",
    "#                                               on=['compartment', 'year'])\n",
    "simulation_results = simulation_results[\n",
    "    (simulation_results[\"compartment\"] != \"pretrial\")\n",
    "]\n",
    "simulation_results_plot = simulation_results[(simulation_results[\"year\"] > 2000)]\n",
    "simulation_results_plot[simulation_results_plot[\"compartment\"] != \"release\"].groupby(\n",
    "    \"year\"\n",
    ").sum().plot()"
   ]
  },
  {
   "cell_type": "code",
   "execution_count": 13,
   "metadata": {},
   "outputs": [
    {
     "data": {
      "text/plain": [
       "[2000    816.000000\n",
       " 2001    407.110465\n",
       " 2002    136.395349\n",
       " 2003     55.447674\n",
       " 2004     26.686047\n",
       " 2005     12.453488\n",
       " 2006      6.523256\n",
       " 2007      3.558140\n",
       " 2008      2.372093\n",
       " 2009      2.075581\n",
       " 2010      1.482558\n",
       " 2011      0.704215\n",
       " 2012      0.334502\n",
       " 2013      0.158889\n",
       " 2014      0.075472\n",
       " 2015      0.035849\n",
       " 2016      0.017028\n",
       " 2017      0.008088\n",
       " 2018      0.003842\n",
       " 2019      0.001825\n",
       " 2020      0.000867\n",
       " 2021      0.000412\n",
       " 2022      0.000196\n",
       " 2023      0.000093\n",
       " 2024      0.000044\n",
       " 2025      0.000021\n",
       " 2026      0.000010\n",
       " 2027      0.000005\n",
       " 2028      0.000002\n",
       " 2029      0.000001\n",
       " dtype: float64,\n",
       " 2000    61.000000\n",
       " 2001    38.039326\n",
       " 2002    11.651685\n",
       " 2003     2.741573\n",
       " 2004     0.342697\n",
       " 2005     0.342697\n",
       " 2006     0.342697\n",
       " 2007     0.000000\n",
       " dtype: float64,\n",
       " 2000    245.000000\n",
       " 2001    243.244986\n",
       " 2002    238.330946\n",
       " 2003    176.905444\n",
       " 2004    139.699140\n",
       " 2005    105.300860\n",
       " 2006     70.902579\n",
       " 2007     58.266476\n",
       " 2008     41.418338\n",
       " 2009     29.133238\n",
       " 2010     16.497135\n",
       " 2011     12.893902\n",
       " 2012     10.077673\n",
       " 2013      7.876551\n",
       " 2014      6.156189\n",
       " 2015      4.811581\n",
       " 2016      3.760657\n",
       " 2017      2.939270\n",
       " 2018      2.297288\n",
       " 2019      1.795524\n",
       " 2020      1.403354\n",
       " 2021      1.096839\n",
       " 2022      0.857272\n",
       " 2023      0.670031\n",
       " 2024      0.523686\n",
       " 2025      0.409304\n",
       " 2026      0.319906\n",
       " 2027      0.250033\n",
       " 2028      0.195422\n",
       " 2029      0.152739\n",
       " dtype: float64,\n",
       " 2000    675.000000\n",
       " 2001    413.374690\n",
       " 2002    209.367246\n",
       " 2003    127.630273\n",
       " 2004     73.362283\n",
       " 2005     39.528536\n",
       " 2006     24.454094\n",
       " 2007     14.069479\n",
       " 2008      9.379653\n",
       " 2009      6.699752\n",
       " 2010      4.019851\n",
       " 2011      3.455526\n",
       " 2012      2.970423\n",
       " 2013      2.553421\n",
       " 2014      2.194960\n",
       " 2015      1.886822\n",
       " 2016      1.621941\n",
       " 2017      1.394245\n",
       " 2018      1.198515\n",
       " 2019      1.030262\n",
       " 2020      0.885629\n",
       " 2021      0.761300\n",
       " 2022      0.654425\n",
       " 2023      0.562554\n",
       " 2024      0.483580\n",
       " 2025      0.415693\n",
       " 2026      0.357336\n",
       " 2027      0.307172\n",
       " 2028      0.264049\n",
       " 2029      0.226981\n",
       " dtype: float64,\n",
       " 2000    644.000000\n",
       " 2001    431.227451\n",
       " 2002    254.127451\n",
       " 2003    165.419608\n",
       " 2004    111.752941\n",
       " 2005     64.400000\n",
       " 2006     41.670588\n",
       " 2007     23.360784\n",
       " 2008     15.152941\n",
       " 2009     12.627451\n",
       " 2010      7.260784\n",
       " 2011      6.235840\n",
       " 2012      5.355579\n",
       " 2013      4.599577\n",
       " 2014      3.950293\n",
       " 2015      3.392663\n",
       " 2016      2.913749\n",
       " 2017      2.502440\n",
       " 2018      2.149191\n",
       " 2019      1.845808\n",
       " 2020      1.585251\n",
       " 2021      1.361474\n",
       " 2022      1.169286\n",
       " 2023      1.004228\n",
       " 2024      0.862470\n",
       " 2025      0.740722\n",
       " 2026      0.636160\n",
       " 2027      0.546359\n",
       " 2028      0.469234\n",
       " 2029      0.402996\n",
       " dtype: float64,\n",
       " 2000    8.000000\n",
       " 2001    6.666667\n",
       " 2002    4.444444\n",
       " 2003    3.555556\n",
       " 2004    2.222222\n",
       " 2005    0.444444\n",
       " 2006    0.444444\n",
       " 2007    0.444444\n",
       " 2008    0.444444\n",
       " 2009    0.444444\n",
       " 2010    0.000000\n",
       " dtype: float64,\n",
       " 2000    471.000000\n",
       " 2001    286.976390\n",
       " 2002    146.716679\n",
       " 2003     92.908606\n",
       " 2004     54.884235\n",
       " 2005     27.262757\n",
       " 2006     18.653465\n",
       " 2007     12.196497\n",
       " 2008      8.609292\n",
       " 2009      6.456969\n",
       " 2010      3.945925\n",
       " 2011      3.208966\n",
       " 2012      2.609644\n",
       " 2013      2.122255\n",
       " 2014      1.725892\n",
       " 2015      1.403557\n",
       " 2016      1.141422\n",
       " 2017      0.928245\n",
       " 2018      0.754881\n",
       " 2019      0.613896\n",
       " 2020      0.499242\n",
       " 2021      0.406001\n",
       " 2022      0.330174\n",
       " 2023      0.268510\n",
       " 2024      0.218361\n",
       " 2025      0.177579\n",
       " 2026      0.144414\n",
       " 2027      0.117442\n",
       " 2028      0.095508\n",
       " 2029      0.077671\n",
       " dtype: float64,\n",
       " 2000    22.000000\n",
       " 2001     7.206897\n",
       " 2002     1.137931\n",
       " 2003     0.000000\n",
       " dtype: float64,\n",
       " 2000    11.000000\n",
       " 2001     2.588235\n",
       " 2002     0.647059\n",
       " 2003     0.000000\n",
       " dtype: float64,\n",
       " 2000    58.000000\n",
       " 2001    57.684783\n",
       " 2002    56.739130\n",
       " 2003    54.847826\n",
       " 2004    52.326087\n",
       " 2005    51.380435\n",
       " 2006    50.119565\n",
       " 2007    48.543478\n",
       " 2008    46.652174\n",
       " 2009    45.706522\n",
       " 2010    24.586957\n",
       " 2011    21.721364\n",
       " 2012    19.189754\n",
       " 2013    16.953202\n",
       " 2014    14.977318\n",
       " 2015    13.231722\n",
       " 2016    11.689574\n",
       " 2017    10.327163\n",
       " 2018     9.123539\n",
       " 2019     8.060197\n",
       " 2020     7.120787\n",
       " 2021     6.290864\n",
       " 2022     5.557668\n",
       " 2023     4.909926\n",
       " 2024     4.337678\n",
       " 2025     3.832124\n",
       " 2026     3.385493\n",
       " 2027     2.990916\n",
       " 2028     2.642327\n",
       " 2029     2.334366\n",
       " dtype: float64,\n",
       " 2000    1.000000\n",
       " 2001    1.000000\n",
       " 2002    1.000000\n",
       " 2003    1.000000\n",
       " 2004    1.000000\n",
       " 2005    1.000000\n",
       " 2006    1.000000\n",
       " 2007    1.000000\n",
       " 2008    1.000000\n",
       " 2009    1.000000\n",
       " 2010    1.000000\n",
       " 2011    0.775000\n",
       " 2012    0.600625\n",
       " 2013    0.465484\n",
       " 2014    0.360750\n",
       " 2015    0.279582\n",
       " 2016    0.216676\n",
       " 2017    0.167924\n",
       " 2018    0.130141\n",
       " 2019    0.100859\n",
       " 2020    0.078166\n",
       " 2021    0.060579\n",
       " 2022    0.046948\n",
       " 2023    0.036385\n",
       " 2024    0.028198\n",
       " 2025    0.021854\n",
       " 2026    0.016937\n",
       " 2027    0.013126\n",
       " 2028    0.010173\n",
       " 2029    0.007884\n",
       " dtype: float64,\n",
       " 2000    158.000000\n",
       " 2001    137.669118\n",
       " 2002     89.455882\n",
       " 2003     51.117647\n",
       " 2004     30.786765\n",
       " 2005     21.492647\n",
       " 2006     16.845588\n",
       " 2007     10.455882\n",
       " 2008      8.713235\n",
       " 2009      7.551471\n",
       " 2010      4.066176\n",
       " 2011      3.075046\n",
       " 2012      2.325504\n",
       " 2013      1.758662\n",
       " 2014      1.329988\n",
       " 2015      1.005804\n",
       " 2016      0.760639\n",
       " 2017      0.575233\n",
       " 2018      0.435020\n",
       " 2019      0.328984\n",
       " 2020      0.248794\n",
       " 2021      0.188151\n",
       " 2022      0.142289\n",
       " 2023      0.107606\n",
       " 2024      0.081377\n",
       " 2025      0.061541\n",
       " 2026      0.046541\n",
       " 2027      0.035196\n",
       " 2028      0.026617\n",
       " 2029      0.020129\n",
       " dtype: float64,\n",
       " 1998    2.0\n",
       " 1999    2.0\n",
       " 2000    2.0\n",
       " 2001    1.0\n",
       " 2002    0.0\n",
       " dtype: float64]"
      ]
     },
     "execution_count": 13,
     "metadata": {},
     "output_type": "execute_result"
    }
   ],
   "source": [
    "test_data[\"year\"].value_counts(dropna=False)"
   ]
  },
  {
   "cell_type": "code",
   "execution_count": 26,
   "metadata": {},
   "outputs": [
    {
     "data": {
      "text/plain": [
       "2019.0    3924\n",
       "2018.0    3619\n",
       "2017.0    3258\n",
       "Name: year, dtype: int64"
      ]
     },
     "execution_count": 26,
     "metadata": {},
     "output_type": "execute_result"
    }
   ],
   "source": [
    "test_data[test_data[\"effective_sentence_years\"] <= 1][\"year\"].value_counts(dropna=False)"
   ]
  },
  {
   "cell_type": "code",
   "execution_count": 5,
   "metadata": {
    "scrolled": true
   },
   "outputs": [
    {
     "name": "stdout",
     "output_type": "stream",
     "text": [
      "initialization time:  0.005460023880004883\n",
      "simulation_time:  1.8137788772583008\n"
     ]
    },
    {
     "data": {
      "text/html": [
       "<div>\n",
       "<style scoped>\n",
       "    .dataframe tbody tr th:only-of-type {\n",
       "        vertical-align: middle;\n",
       "    }\n",
       "\n",
       "    .dataframe tbody tr th {\n",
       "        vertical-align: top;\n",
       "    }\n",
       "\n",
       "    .dataframe thead th {\n",
       "        text-align: right;\n",
       "    }\n",
       "</style>\n",
       "<table border=\"1\" class=\"dataframe\">\n",
       "  <thead>\n",
       "    <tr style=\"text-align: right;\">\n",
       "      <th></th>\n",
       "      <th>total_population</th>\n",
       "      <th>compartment</th>\n",
       "      <th>year</th>\n",
       "      <th>simulation_group</th>\n",
       "    </tr>\n",
       "  </thead>\n",
       "  <tbody>\n",
       "    <tr>\n",
       "      <th>2000</th>\n",
       "      <td>245.000000</td>\n",
       "      <td>prison</td>\n",
       "      <td>2000</td>\n",
       "      <td>NAR3038</td>\n",
       "    </tr>\n",
       "    <tr>\n",
       "      <th>2001</th>\n",
       "      <td>488.244986</td>\n",
       "      <td>prison</td>\n",
       "      <td>2001</td>\n",
       "      <td>NAR3038</td>\n",
       "    </tr>\n",
       "    <tr>\n",
       "      <th>2002</th>\n",
       "      <td>726.575931</td>\n",
       "      <td>prison</td>\n",
       "      <td>2002</td>\n",
       "      <td>NAR3038</td>\n",
       "    </tr>\n",
       "    <tr>\n",
       "      <th>2003</th>\n",
       "      <td>903.481375</td>\n",
       "      <td>prison</td>\n",
       "      <td>2003</td>\n",
       "      <td>NAR3038</td>\n",
       "    </tr>\n",
       "    <tr>\n",
       "      <th>2004</th>\n",
       "      <td>1043.180516</td>\n",
       "      <td>prison</td>\n",
       "      <td>2004</td>\n",
       "      <td>NAR3038</td>\n",
       "    </tr>\n",
       "    <tr>\n",
       "      <th>...</th>\n",
       "      <td>...</td>\n",
       "      <td>...</td>\n",
       "      <td>...</td>\n",
       "      <td>...</td>\n",
       "    </tr>\n",
       "    <tr>\n",
       "      <th>2025</th>\n",
       "      <td>0.000000</td>\n",
       "      <td>pretrial</td>\n",
       "      <td>2025</td>\n",
       "      <td>NAR3038</td>\n",
       "    </tr>\n",
       "    <tr>\n",
       "      <th>2026</th>\n",
       "      <td>0.000000</td>\n",
       "      <td>pretrial</td>\n",
       "      <td>2026</td>\n",
       "      <td>NAR3038</td>\n",
       "    </tr>\n",
       "    <tr>\n",
       "      <th>2027</th>\n",
       "      <td>0.000000</td>\n",
       "      <td>pretrial</td>\n",
       "      <td>2027</td>\n",
       "      <td>NAR3038</td>\n",
       "    </tr>\n",
       "    <tr>\n",
       "      <th>2028</th>\n",
       "      <td>0.000000</td>\n",
       "      <td>pretrial</td>\n",
       "      <td>2028</td>\n",
       "      <td>NAR3038</td>\n",
       "    </tr>\n",
       "    <tr>\n",
       "      <th>2029</th>\n",
       "      <td>0.000000</td>\n",
       "      <td>pretrial</td>\n",
       "      <td>2029</td>\n",
       "      <td>NAR3038</td>\n",
       "    </tr>\n",
       "  </tbody>\n",
       "</table>\n",
       "<p>120 rows × 4 columns</p>\n",
       "</div>"
      ],
      "text/plain": [
       "      total_population compartment  year simulation_group\n",
       "2000        245.000000      prison  2000          NAR3038\n",
       "2001        488.244986      prison  2001          NAR3038\n",
       "2002        726.575931      prison  2002          NAR3038\n",
       "2003        903.481375      prison  2003          NAR3038\n",
       "2004       1043.180516      prison  2004          NAR3038\n",
       "...                ...         ...   ...              ...\n",
       "2025          0.000000    pretrial  2025          NAR3038\n",
       "2026          0.000000    pretrial  2026          NAR3038\n",
       "2027          0.000000    pretrial  2027          NAR3038\n",
       "2028          0.000000    pretrial  2028          NAR3038\n",
       "2029          0.000000    pretrial  2029          NAR3038\n",
       "\n",
       "[120 rows x 4 columns]"
      ]
     },
     "execution_count": 5,
     "metadata": {},
     "output_type": "execute_result"
    }
   ],
   "source": [
    "test_data = jail_prison_admissions[\n",
    "    jail_prison_admissions[\"simulation_group_name\"] == \"NAR3038\"\n",
    "]\n",
    "test_sim = population_simulation.PopulationSimulation()\n",
    "test_results = test_sim.simulate_sentencing_policies(test_data, user_inputs, policy_df)\n",
    "test_results"
   ]
  },
  {
   "cell_type": "code",
   "execution_count": 6,
   "metadata": {},
   "outputs": [
    {
     "data": {
      "text/plain": [
       "Text(0.5, 1.0, 'Total Population for Group NAR3038')"
      ]
     },
     "execution_count": 6,
     "metadata": {},
     "output_type": "execute_result"
    },
    {
     "data": {
      "image/png": "[encoded data removed]",
      "text/plain": [
       "<Figure size 432x288 with 1 Axes>"
      ]
     },
     "metadata": {
      "needs_background": "light"
     },
     "output_type": "display_data"
    }
   ],
   "source": [
    "test_results[test_results[\"compartment\"] == \"prison\"].plot(\n",
    "    x=\"year\", y=\"total_population\"\n",
    ")\n",
    "plt.title(\n",
    "    f\"Total Population for Group {', '.join(test_results['simulation_group'].unique())}\"\n",
    ")"
   ]
  },
  {
   "cell_type": "code",
   "execution_count": 12,
   "metadata": {
    "scrolled": true
   },
   "outputs": [
    {
     "data": {
      "text/html": [
       "<div>\n",
       "<style scoped>\n",
       "    .dataframe tbody tr th:only-of-type {\n",
       "        vertical-align: middle;\n",
       "    }\n",
       "\n",
       "    .dataframe tbody tr th {\n",
       "        vertical-align: top;\n",
       "    }\n",
       "\n",
       "    .dataframe thead th {\n",
       "        text-align: right;\n",
       "    }\n",
       "</style>\n",
       "<table border=\"1\" class=\"dataframe\">\n",
       "  <thead>\n",
       "    <tr style=\"text-align: right;\">\n",
       "      <th></th>\n",
       "      <th>2015</th>\n",
       "      <th>2016</th>\n",
       "      <th>2017</th>\n",
       "      <th>2018</th>\n",
       "      <th>2019</th>\n",
       "      <th>2020</th>\n",
       "      <th>2021</th>\n",
       "    </tr>\n",
       "  </thead>\n",
       "  <tbody>\n",
       "    <tr>\n",
       "      <th>2000</th>\n",
       "      <td>4.811581</td>\n",
       "      <td>3.760657</td>\n",
       "      <td>2.939270</td>\n",
       "      <td>2.297288</td>\n",
       "      <td>1.795524</td>\n",
       "      <td>1.403354</td>\n",
       "      <td>1.096839</td>\n",
       "    </tr>\n",
       "    <tr>\n",
       "      <th>2001</th>\n",
       "      <td>6.156189</td>\n",
       "      <td>4.811581</td>\n",
       "      <td>3.760657</td>\n",
       "      <td>2.939270</td>\n",
       "      <td>2.297288</td>\n",
       "      <td>1.795524</td>\n",
       "      <td>1.403354</td>\n",
       "    </tr>\n",
       "    <tr>\n",
       "      <th>2002</th>\n",
       "      <td>7.876551</td>\n",
       "      <td>6.156189</td>\n",
       "      <td>4.811581</td>\n",
       "      <td>3.760657</td>\n",
       "      <td>2.939270</td>\n",
       "      <td>2.297288</td>\n",
       "      <td>1.795524</td>\n",
       "    </tr>\n",
       "    <tr>\n",
       "      <th>2003</th>\n",
       "      <td>10.077673</td>\n",
       "      <td>7.876551</td>\n",
       "      <td>6.156189</td>\n",
       "      <td>4.811581</td>\n",
       "      <td>3.760657</td>\n",
       "      <td>2.939270</td>\n",
       "      <td>2.297288</td>\n",
       "    </tr>\n",
       "    <tr>\n",
       "      <th>2004</th>\n",
       "      <td>12.893902</td>\n",
       "      <td>10.077673</td>\n",
       "      <td>7.876551</td>\n",
       "      <td>6.156189</td>\n",
       "      <td>4.811581</td>\n",
       "      <td>3.760657</td>\n",
       "      <td>2.939270</td>\n",
       "    </tr>\n",
       "    <tr>\n",
       "      <th>2005</th>\n",
       "      <td>16.497135</td>\n",
       "      <td>12.893902</td>\n",
       "      <td>10.077673</td>\n",
       "      <td>7.876551</td>\n",
       "      <td>6.156189</td>\n",
       "      <td>4.811581</td>\n",
       "      <td>3.760657</td>\n",
       "    </tr>\n",
       "    <tr>\n",
       "      <th>2006</th>\n",
       "      <td>29.133238</td>\n",
       "      <td>16.497135</td>\n",
       "      <td>12.893902</td>\n",
       "      <td>10.077673</td>\n",
       "      <td>7.876551</td>\n",
       "      <td>6.156189</td>\n",
       "      <td>4.811581</td>\n",
       "    </tr>\n",
       "    <tr>\n",
       "      <th>2007</th>\n",
       "      <td>41.418338</td>\n",
       "      <td>29.133238</td>\n",
       "      <td>16.497135</td>\n",
       "      <td>12.893902</td>\n",
       "      <td>10.077673</td>\n",
       "      <td>7.876551</td>\n",
       "      <td>6.156189</td>\n",
       "    </tr>\n",
       "    <tr>\n",
       "      <th>2008</th>\n",
       "      <td>58.266476</td>\n",
       "      <td>41.418338</td>\n",
       "      <td>29.133238</td>\n",
       "      <td>16.497135</td>\n",
       "      <td>12.893902</td>\n",
       "      <td>10.077673</td>\n",
       "      <td>7.876551</td>\n",
       "    </tr>\n",
       "    <tr>\n",
       "      <th>2009</th>\n",
       "      <td>70.902579</td>\n",
       "      <td>58.266476</td>\n",
       "      <td>41.418338</td>\n",
       "      <td>29.133238</td>\n",
       "      <td>16.497135</td>\n",
       "      <td>12.893902</td>\n",
       "      <td>10.077673</td>\n",
       "    </tr>\n",
       "    <tr>\n",
       "      <th>2010</th>\n",
       "      <td>105.300860</td>\n",
       "      <td>70.902579</td>\n",
       "      <td>58.266476</td>\n",
       "      <td>41.418338</td>\n",
       "      <td>29.133238</td>\n",
       "      <td>16.497135</td>\n",
       "      <td>12.893902</td>\n",
       "    </tr>\n",
       "    <tr>\n",
       "      <th>2011</th>\n",
       "      <td>139.699140</td>\n",
       "      <td>105.300860</td>\n",
       "      <td>70.902579</td>\n",
       "      <td>58.266476</td>\n",
       "      <td>41.418338</td>\n",
       "      <td>29.133238</td>\n",
       "      <td>16.497135</td>\n",
       "    </tr>\n",
       "    <tr>\n",
       "      <th>2012</th>\n",
       "      <td>176.905444</td>\n",
       "      <td>139.699140</td>\n",
       "      <td>105.300860</td>\n",
       "      <td>70.902579</td>\n",
       "      <td>58.266476</td>\n",
       "      <td>41.418338</td>\n",
       "      <td>29.133238</td>\n",
       "    </tr>\n",
       "    <tr>\n",
       "      <th>2013</th>\n",
       "      <td>238.330946</td>\n",
       "      <td>176.905444</td>\n",
       "      <td>139.699140</td>\n",
       "      <td>105.300860</td>\n",
       "      <td>70.902579</td>\n",
       "      <td>58.266476</td>\n",
       "      <td>41.418338</td>\n",
       "    </tr>\n",
       "    <tr>\n",
       "      <th>2014</th>\n",
       "      <td>243.244986</td>\n",
       "      <td>238.330946</td>\n",
       "      <td>176.905444</td>\n",
       "      <td>139.699140</td>\n",
       "      <td>105.300860</td>\n",
       "      <td>70.902579</td>\n",
       "      <td>58.266476</td>\n",
       "    </tr>\n",
       "    <tr>\n",
       "      <th>2015</th>\n",
       "      <td>245.000000</td>\n",
       "      <td>243.244986</td>\n",
       "      <td>238.330946</td>\n",
       "      <td>176.905444</td>\n",
       "      <td>139.699140</td>\n",
       "      <td>105.300860</td>\n",
       "      <td>70.902579</td>\n",
       "    </tr>\n",
       "    <tr>\n",
       "      <th>2016</th>\n",
       "      <td>NaN</td>\n",
       "      <td>245.000000</td>\n",
       "      <td>243.244986</td>\n",
       "      <td>238.330946</td>\n",
       "      <td>176.905444</td>\n",
       "      <td>139.699140</td>\n",
       "      <td>105.300860</td>\n",
       "    </tr>\n",
       "    <tr>\n",
       "      <th>2017</th>\n",
       "      <td>NaN</td>\n",
       "      <td>NaN</td>\n",
       "      <td>245.000000</td>\n",
       "      <td>243.244986</td>\n",
       "      <td>238.330946</td>\n",
       "      <td>176.905444</td>\n",
       "      <td>139.699140</td>\n",
       "    </tr>\n",
       "    <tr>\n",
       "      <th>2018</th>\n",
       "      <td>NaN</td>\n",
       "      <td>NaN</td>\n",
       "      <td>NaN</td>\n",
       "      <td>223.000000</td>\n",
       "      <td>221.402579</td>\n",
       "      <td>216.929799</td>\n",
       "      <td>161.020057</td>\n",
       "    </tr>\n",
       "    <tr>\n",
       "      <th>2019</th>\n",
       "      <td>NaN</td>\n",
       "      <td>NaN</td>\n",
       "      <td>NaN</td>\n",
       "      <td>NaN</td>\n",
       "      <td>230.000000</td>\n",
       "      <td>228.352436</td>\n",
       "      <td>223.739255</td>\n",
       "    </tr>\n",
       "    <tr>\n",
       "      <th>2020</th>\n",
       "      <td>NaN</td>\n",
       "      <td>NaN</td>\n",
       "      <td>NaN</td>\n",
       "      <td>NaN</td>\n",
       "      <td>NaN</td>\n",
       "      <td>219.880942</td>\n",
       "      <td>218.305864</td>\n",
       "    </tr>\n",
       "    <tr>\n",
       "      <th>2021</th>\n",
       "      <td>NaN</td>\n",
       "      <td>NaN</td>\n",
       "      <td>NaN</td>\n",
       "      <td>NaN</td>\n",
       "      <td>NaN</td>\n",
       "      <td>NaN</td>\n",
       "      <td>219.842898</td>\n",
       "    </tr>\n",
       "    <tr>\n",
       "      <th>2022</th>\n",
       "      <td>NaN</td>\n",
       "      <td>NaN</td>\n",
       "      <td>NaN</td>\n",
       "      <td>NaN</td>\n",
       "      <td>NaN</td>\n",
       "      <td>NaN</td>\n",
       "      <td>NaN</td>\n",
       "    </tr>\n",
       "    <tr>\n",
       "      <th>2023</th>\n",
       "      <td>NaN</td>\n",
       "      <td>NaN</td>\n",
       "      <td>NaN</td>\n",
       "      <td>NaN</td>\n",
       "      <td>NaN</td>\n",
       "      <td>NaN</td>\n",
       "      <td>NaN</td>\n",
       "    </tr>\n",
       "    <tr>\n",
       "      <th>2024</th>\n",
       "      <td>NaN</td>\n",
       "      <td>NaN</td>\n",
       "      <td>NaN</td>\n",
       "      <td>NaN</td>\n",
       "      <td>NaN</td>\n",
       "      <td>NaN</td>\n",
       "      <td>NaN</td>\n",
       "    </tr>\n",
       "    <tr>\n",
       "      <th>2025</th>\n",
       "      <td>NaN</td>\n",
       "      <td>NaN</td>\n",
       "      <td>NaN</td>\n",
       "      <td>NaN</td>\n",
       "      <td>NaN</td>\n",
       "      <td>NaN</td>\n",
       "      <td>NaN</td>\n",
       "    </tr>\n",
       "    <tr>\n",
       "      <th>2026</th>\n",
       "      <td>NaN</td>\n",
       "      <td>NaN</td>\n",
       "      <td>NaN</td>\n",
       "      <td>NaN</td>\n",
       "      <td>NaN</td>\n",
       "      <td>NaN</td>\n",
       "      <td>NaN</td>\n",
       "    </tr>\n",
       "    <tr>\n",
       "      <th>2027</th>\n",
       "      <td>NaN</td>\n",
       "      <td>NaN</td>\n",
       "      <td>NaN</td>\n",
       "      <td>NaN</td>\n",
       "      <td>NaN</td>\n",
       "      <td>NaN</td>\n",
       "      <td>NaN</td>\n",
       "    </tr>\n",
       "    <tr>\n",
       "      <th>2028</th>\n",
       "      <td>NaN</td>\n",
       "      <td>NaN</td>\n",
       "      <td>NaN</td>\n",
       "      <td>NaN</td>\n",
       "      <td>NaN</td>\n",
       "      <td>NaN</td>\n",
       "      <td>NaN</td>\n",
       "    </tr>\n",
       "    <tr>\n",
       "      <th>2029</th>\n",
       "      <td>NaN</td>\n",
       "      <td>NaN</td>\n",
       "      <td>NaN</td>\n",
       "      <td>NaN</td>\n",
       "      <td>NaN</td>\n",
       "      <td>NaN</td>\n",
       "      <td>NaN</td>\n",
       "    </tr>\n",
       "  </tbody>\n",
       "</table>\n",
       "</div>"
      ],
      "text/plain": [
       "            2015        2016        2017        2018        2019        2020  \\\n",
       "2000    4.811581    3.760657    2.939270    2.297288    1.795524    1.403354   \n",
       "2001    6.156189    4.811581    3.760657    2.939270    2.297288    1.795524   \n",
       "2002    7.876551    6.156189    4.811581    3.760657    2.939270    2.297288   \n",
       "2003   10.077673    7.876551    6.156189    4.811581    3.760657    2.939270   \n",
       "2004   12.893902   10.077673    7.876551    6.156189    4.811581    3.760657   \n",
       "2005   16.497135   12.893902   10.077673    7.876551    6.156189    4.811581   \n",
       "2006   29.133238   16.497135   12.893902   10.077673    7.876551    6.156189   \n",
       "2007   41.418338   29.133238   16.497135   12.893902   10.077673    7.876551   \n",
       "2008   58.266476   41.418338   29.133238   16.497135   12.893902   10.077673   \n",
       "2009   70.902579   58.266476   41.418338   29.133238   16.497135   12.893902   \n",
       "2010  105.300860   70.902579   58.266476   41.418338   29.133238   16.497135   \n",
       "2011  139.699140  105.300860   70.902579   58.266476   41.418338   29.133238   \n",
       "2012  176.905444  139.699140  105.300860   70.902579   58.266476   41.418338   \n",
       "2013  238.330946  176.905444  139.699140  105.300860   70.902579   58.266476   \n",
       "2014  243.244986  238.330946  176.905444  139.699140  105.300860   70.902579   \n",
       "2015  245.000000  243.244986  238.330946  176.905444  139.699140  105.300860   \n",
       "2016         NaN  245.000000  243.244986  238.330946  176.905444  139.699140   \n",
       "2017         NaN         NaN  245.000000  243.244986  238.330946  176.905444   \n",
       "2018         NaN         NaN         NaN  223.000000  221.402579  216.929799   \n",
       "2019         NaN         NaN         NaN         NaN  230.000000  228.352436   \n",
       "2020         NaN         NaN         NaN         NaN         NaN  219.880942   \n",
       "2021         NaN         NaN         NaN         NaN         NaN         NaN   \n",
       "2022         NaN         NaN         NaN         NaN         NaN         NaN   \n",
       "2023         NaN         NaN         NaN         NaN         NaN         NaN   \n",
       "2024         NaN         NaN         NaN         NaN         NaN         NaN   \n",
       "2025         NaN         NaN         NaN         NaN         NaN         NaN   \n",
       "2026         NaN         NaN         NaN         NaN         NaN         NaN   \n",
       "2027         NaN         NaN         NaN         NaN         NaN         NaN   \n",
       "2028         NaN         NaN         NaN         NaN         NaN         NaN   \n",
       "2029         NaN         NaN         NaN         NaN         NaN         NaN   \n",
       "\n",
       "            2021  \n",
       "2000    1.096839  \n",
       "2001    1.403354  \n",
       "2002    1.795524  \n",
       "2003    2.297288  \n",
       "2004    2.939270  \n",
       "2005    3.760657  \n",
       "2006    4.811581  \n",
       "2007    6.156189  \n",
       "2008    7.876551  \n",
       "2009   10.077673  \n",
       "2010   12.893902  \n",
       "2011   16.497135  \n",
       "2012   29.133238  \n",
       "2013   41.418338  \n",
       "2014   58.266476  \n",
       "2015   70.902579  \n",
       "2016  105.300860  \n",
       "2017  139.699140  \n",
       "2018  161.020057  \n",
       "2019  223.739255  \n",
       "2020  218.305864  \n",
       "2021  219.842898  \n",
       "2022         NaN  \n",
       "2023         NaN  \n",
       "2024         NaN  \n",
       "2025         NaN  \n",
       "2026         NaN  \n",
       "2027         NaN  \n",
       "2028         NaN  \n",
       "2029         NaN  "
      ]
     },
     "execution_count": 12,
     "metadata": {},
     "output_type": "execute_result"
    }
   ],
   "source": [
    "test_sim_cohorts = (\n",
    "    test_sim.sub_simulations[\"NAR3038\"]\n",
    "    .simulation_compartments[\"prison\"]\n",
    "    .get_cohort_table()\n",
    ")\n",
    "test_sim_cohorts[range(2015, 2022)]"
   ]
  },
  {
   "cell_type": "code",
   "execution_count": 16,
   "metadata": {},
   "outputs": [
    {
     "data": {
      "text/plain": [
       "Text(0.5, 1.0, 'Total Population per Cohort for NAR3038')"
      ]
     },
     "execution_count": 16,
     "metadata": {},
     "output_type": "execute_result"
    },
    {
     "data": {
      "image/png": "[encoded data removed]",
      "text/plain": [
       "<Figure size 432x288 with 1 Axes>"
      ]
     },
     "metadata": {
      "needs_background": "light"
     },
     "output_type": "display_data"
    }
   ],
   "source": [
    "test_sim_cohorts.loc[range(2016, 2022)].transpose().plot()\n",
    "plt.title(\n",
    "    f\"Total Population per Cohort for {', '.join(test_results['simulation_group'].unique())}\"\n",
    ")"
   ]
  },
  {
   "cell_type": "code",
   "execution_count": 14,
   "metadata": {},
   "outputs": [
    {
     "data": {
      "text/html": [
       "<div>\n",
       "<style scoped>\n",
       "    .dataframe tbody tr th:only-of-type {\n",
       "        vertical-align: middle;\n",
       "    }\n",
       "\n",
       "    .dataframe tbody tr th {\n",
       "        vertical-align: top;\n",
       "    }\n",
       "\n",
       "    .dataframe thead th {\n",
       "        text-align: right;\n",
       "    }\n",
       "</style>\n",
       "<table border=\"1\" class=\"dataframe\">\n",
       "  <thead>\n",
       "    <tr style=\"text-align: right;\">\n",
       "      <th></th>\n",
       "      <th>2017.0</th>\n",
       "      <th>2018.0</th>\n",
       "      <th>2019.0</th>\n",
       "    </tr>\n",
       "  </thead>\n",
       "  <tbody>\n",
       "    <tr>\n",
       "      <th>prison</th>\n",
       "      <td>205</td>\n",
       "      <td>186</td>\n",
       "      <td>192</td>\n",
       "    </tr>\n",
       "    <tr>\n",
       "      <th>jail</th>\n",
       "      <td>2</td>\n",
       "      <td>1</td>\n",
       "      <td>0</td>\n",
       "    </tr>\n",
       "  </tbody>\n",
       "</table>\n",
       "</div>"
      ],
      "text/plain": [
       "        2017.0  2018.0  2019.0\n",
       "prison     205     186     192\n",
       "jail         2       1       0"
      ]
     },
     "execution_count": 14,
     "metadata": {},
     "output_type": "execute_result"
    }
   ],
   "source": [
    "test_sim.sub_simulations[\"NAR3038\"].simulation_compartments[\"pretrial\"].historical_data"
   ]
  },
  {
   "cell_type": "code",
   "execution_count": 19,
   "metadata": {},
   "outputs": [
    {
     "data": {
      "text/plain": [
       "2017.0    247\n",
       "2019.0    230\n",
       "2018.0    224\n",
       "Name: year, dtype: int64"
      ]
     },
     "execution_count": 19,
     "metadata": {},
     "output_type": "execute_result"
    }
   ],
   "source": [
    "test_data[\"year\"].value_counts(dropna=False)"
   ]
  },
  {
   "cell_type": "code",
   "execution_count": 56,
   "metadata": {},
   "outputs": [
    {
     "data": {
      "text/plain": [
       "5308.31112389623"
      ]
     },
     "execution_count": 10,
     "metadata": {},
     "output_type": "execute_result"
    }
   ],
   "source": [
    "releases_2015 = 0\n",
    "for i in [\n",
    "    test_sim.sub_simulations[i].simulation_compartments[\"release\"].cohorts\n",
    "    for i in test_sim.sub_simulations\n",
    "]:\n",
    "    for j in i:\n",
    "        try:\n",
    "            j.get_all_year_end_projections()[2014]\n",
    "\n",
    "        except:\n",
    "            try:\n",
    "                releases_2015 += j.get_all_year_end_projections()[2015]\n",
    "            except:\n",
    "                pass\n",
    "releases_2015"
   ]
  },
  {
   "cell_type": "code",
   "execution_count": 9,
   "metadata": {},
   "outputs": [
    {
     "data": {
      "text/plain": [
       "3339.394482298573"
      ]
     },
     "execution_count": 9,
     "metadata": {},
     "output_type": "execute_result"
    }
   ],
   "source": [
    "3 / 4 * releases_2015"
   ]
  },
  {
   "cell_type": "code",
   "execution_count": 10,
   "metadata": {},
   "outputs": [
    {
     "data": {
      "text/plain": [
       "<matplotlib.axes._subplots.AxesSubplot at 0x7fa0552c5ad0>"
      ]
     },
     "execution_count": 10,
     "metadata": {},
     "output_type": "execute_result"
    },
    {
     "data": {
      "image/png": "[encoded data removed]",
      "text/plain": [
       "<Figure size 432x288 with 1 Axes>"
      ]
     },
     "metadata": {
      "needs_background": "light"
     },
     "output_type": "display_data"
    }
   ],
   "source": [
    "simulation_results = format_simulation_results(test_results, \"no_policy\")\n",
    "# simulation_results = simulation_results.merge(format_simulation_results(no_policy_results, 'no_policies'),\n",
    "#                                               on=['compartment', 'year'])\n",
    "simulation_results = simulation_results[\n",
    "    (simulation_results[\"compartment\"] != \"pretrial\")\n",
    "]\n",
    "simulation_results_plot = simulation_results[(simulation_results[\"year\"] > 2010)]\n",
    "simulation_results_plot[simulation_results_plot[\"compartment\"] != \"release\"].groupby(\n",
    "    \"year\"\n",
    ").sum().plot()"
   ]
  },
  {
   "cell_type": "code",
   "execution_count": null,
   "metadata": {},
   "outputs": [],
   "source": [
    "# FULL SYSTEM SIM BELOW: TAKES 10 MINS TO LOAD SO TRY NOT TO RE-RUN"
   ]
  },
  {
   "cell_type": "code",
   "execution_count": 18,
   "metadata": {},
   "outputs": [
    {
     "data": {
      "text/plain": [
       "<matplotlib.axes._subplots.AxesSubplot at 0x7ffd338a5a90>"
      ]
     },
     "execution_count": 18,
     "metadata": {},
     "output_type": "execute_result"
    },
    {
     "data": {
      "image/png": "[encoded data removed]",
      "text/plain": [
       "<Figure size 432x288 with 1 Axes>"
      ]
     },
     "metadata": {
      "needs_background": "light"
     },
     "output_type": "display_data"
    }
   ],
   "source": [
    "simulation_results = format_simulation_results(test_results, \"abolish_drug_mm\")\n",
    "# simulation_results = simulation_results.merge(format_simulation_results(no_policy_results, 'no_policies'),\n",
    "#                                               on=['compartment', 'year'])\n",
    "simulation_results = simulation_results[\n",
    "    (simulation_results[\"compartment\"] != \"pretrial\")\n",
    "]\n",
    "simulation_results = simulation_results[(simulation_results[\"year\"] >= 2010)]\n",
    "simulation_results[simulation_results[\"compartment\"] != \"release\"].groupby(\n",
    "    \"year\"\n",
    ").sum().plot()"
   ]
  },
  {
   "cell_type": "code",
   "execution_count": 20,
   "metadata": {},
   "outputs": [
    {
     "data": {
      "text/html": [
       "<div>\n",
       "<style scoped>\n",
       "    .dataframe tbody tr th:only-of-type {\n",
       "        vertical-align: middle;\n",
       "    }\n",
       "\n",
       "    .dataframe tbody tr th {\n",
       "        vertical-align: top;\n",
       "    }\n",
       "\n",
       "    .dataframe thead th {\n",
       "        text-align: right;\n",
       "    }\n",
       "</style>\n",
       "<table border=\"1\" class=\"dataframe\">\n",
       "  <thead>\n",
       "    <tr style=\"text-align: right;\">\n",
       "      <th></th>\n",
       "      <th>total_population</th>\n",
       "      <th>year</th>\n",
       "    </tr>\n",
       "    <tr>\n",
       "      <th>compartment</th>\n",
       "      <th></th>\n",
       "      <th></th>\n",
       "    </tr>\n",
       "  </thead>\n",
       "  <tbody>\n",
       "    <tr>\n",
       "      <th>jail</th>\n",
       "      <td>353.769623</td>\n",
       "      <td>-1482</td>\n",
       "    </tr>\n",
       "    <tr>\n",
       "      <th>pretrial</th>\n",
       "      <td>0.000000</td>\n",
       "      <td>-1482</td>\n",
       "    </tr>\n",
       "    <tr>\n",
       "      <th>prison</th>\n",
       "      <td>1042.811534</td>\n",
       "      <td>-1482</td>\n",
       "    </tr>\n",
       "    <tr>\n",
       "      <th>release</th>\n",
       "      <td>-54269.100162</td>\n",
       "      <td>-1482</td>\n",
       "    </tr>\n",
       "  </tbody>\n",
       "</table>\n",
       "</div>"
      ],
      "text/plain": [
       "             total_population  year\n",
       "compartment                        \n",
       "jail               353.769623 -1482\n",
       "pretrial             0.000000 -1482\n",
       "prison            1042.811534 -1482\n",
       "release         -54269.100162 -1482"
      ]
     },
     "execution_count": 20,
     "metadata": {},
     "output_type": "execute_result"
    }
   ],
   "source": [
    "# all\n",
    "(\n",
    "    test_results.loc[2019].groupby(\"compartment\").sum()\n",
    "    - test_results.loc[2025].groupby(\"compartment\").sum()\n",
    ")"
   ]
  },
  {
   "cell_type": "code",
   "execution_count": 21,
   "metadata": {},
   "outputs": [
    {
     "data": {
      "text/plain": [
       "17526.263385529048"
      ]
     },
     "execution_count": 21,
     "metadata": {},
     "output_type": "execute_result"
    }
   ],
   "source": [
    "releases_2015 = 0\n",
    "for i in [\n",
    "    test_sim.sub_simulations[i].simulation_compartments[\"release\"].cohorts\n",
    "    for i in test_sim.sub_simulations\n",
    "]:\n",
    "    for j in i:\n",
    "        try:\n",
    "            j.get_all_year_end_projections()[2015]\n",
    "\n",
    "        except:\n",
    "            try:\n",
    "                releases_2015 += j.get_all_year_end_projections()[2016]\n",
    "            except:\n",
    "                pass\n",
    "releases_2015"
   ]
  },
  {
   "cell_type": "code",
   "execution_count": null,
   "metadata": {},
   "outputs": [],
   "source": [
    "count = 0\n",
    "l = 0\n",
    "for id, offense in historical_admissions.sort_values(\n",
    "    \"effective_sentence_years\"\n",
    ").iterrows():\n",
    "    if count < 0.95 * len(historical_admissions):\n",
    "        l = offense[\"effective_sentence_years\"]\n",
    "        count += 1\n",
    "    else:\n",
    "        break\n",
    "count = 0\n",
    "for id, offense in historical_admissions.iterrows():\n",
    "    print(offense[\"effective_sentence_years\"])\n",
    "    if 10 == offense[\"effective_sentence_years\"]:\n",
    "        count += 1\n",
    "    else:\n",
    "        break\n",
    "count"
   ]
  },
  {
   "cell_type": "code",
   "execution_count": null,
   "metadata": {},
   "outputs": [],
   "source": []
  },
  {
   "cell_type": "code",
   "execution_count": null,
   "metadata": {},
   "outputs": [],
   "source": [
    "prison_type_1_assault = historical_admissions[\n",
    "    (historical_admissions[\"sentence_type\"] == \"prison\")\n",
    "    & (historical_admissions[\"offense_group\"] == \"ASSAULT\")\n",
    "    & (historical_admissions[\"offense_category_code\"] == 1)\n",
    "]\n",
    "print(len(prison_type_1_assault))\n",
    "\n",
    "prison_type_0_assault = historical_admissions[\n",
    "    (historical_admissions[\"sentence_type\"] == \"prison\")\n",
    "    & (historical_admissions[\"offense_group\"] == \"ASSAULT\")\n",
    "    & (historical_admissions[\"offense_category_code\"] == 0.0)\n",
    "]\n",
    "print(len(prison_type_0_assault))\n",
    "\n",
    "prison_type_1_assault_transitions = incarceration_transitions.IncarceratedTransitions(\n",
    "    [\"prison\", \"release\", \"jail\"]\n",
    ")\n",
    "prison_type_1_assault_transitions.generate_transition_tables(prison_type_1_assault)\n",
    "prison_type_1_assault_transitions.normalize_transitions()\n",
    "\n",
    "prison_type_0_assault_transitions = incarceration_transitions.IncarceratedTransitions(\n",
    "    [\"prison\", \"release\", \"jail\"]\n",
    ")\n",
    "prison_type_0_assault_transitions.generate_transition_tables(prison_type_0_assault)\n",
    "prison_type_0_assault_transitions.normalize_transitions()"
   ]
  },
  {
   "cell_type": "code",
   "execution_count": null,
   "metadata": {},
   "outputs": [],
   "source": [
    "prison_type_1_assault_transitions.transition_df.plot()\n",
    "plt.title(\"transition probabilities vs time in prison for type-1 assault\")\n",
    "prison_type_0_assault_transitions.transition_df.plot()\n",
    "plt.title(\"transition probabilities vs time in prison for type-0 assault\")"
   ]
  },
  {
   "cell_type": "code",
   "execution_count": null,
   "metadata": {},
   "outputs": [],
   "source": []
  },
  {
   "cell_type": "code",
   "execution_count": null,
   "metadata": {},
   "outputs": [],
   "source": [
    "default_transition_class = incarceration_transitions.IncarceratedTransitions(\n",
    "    [\"release\"]\n",
    ")\n",
    "default_transition_class.generate_transition_tables(prison_type_1_assault)\n",
    "default_transition_class.normalize_transitions()"
   ]
  },
  {
   "cell_type": "code",
   "execution_count": null,
   "metadata": {},
   "outputs": [],
   "source": [
    "mm_reduction_5y = partial(\n",
    "    incarceration_transitions.IncarceratedTransitions.apply_mandatory_minimum_reduction,\n",
    "    sentence_reduction_years=5,\n",
    ")\n",
    "\n",
    "mm_reduction_5y_transition_class = incarceration_transitions.IncarceratedTransitions(\n",
    "    [\"release\"]\n",
    ")\n",
    "mm_reduction_5y_transition_class.generate_transition_tables(prison_type_1_assault)\n",
    "mm_reduction_5y(mm_reduction_5y_transition_class)\n",
    "mm_reduction_5y_transition_class.normalize_transitions()"
   ]
  },
  {
   "cell_type": "code",
   "execution_count": null,
   "metadata": {},
   "outputs": [],
   "source": [
    "mm_reduction_5y_transition_class.transition_df.plot()\n",
    "default_transition_class.transition_df.plot()"
   ]
  },
  {
   "cell_type": "code",
   "execution_count": null,
   "metadata": {},
   "outputs": [],
   "source": [
    "abolish_mm_transition_class = incarceration_transitions.IncarceratedTransitions(\n",
    "    [\"release\"]\n",
    ")\n",
    "abolish_mm_transition_class.generate_transition_tables(prison_type_1_assault)\n",
    "abolish_mm_transition_class.apply_mandatory_minimum_reduction()\n",
    "abolish_mm_transition_class.normalize_transitions()\n",
    "abolish_mm_transition_class.transition_df.plot()"
   ]
  },
  {
   "cell_type": "code",
   "execution_count": null,
   "metadata": {},
   "outputs": [],
   "source": [
    "prison_type_1_assault[\"effective_sentence_years\"].describe()"
   ]
  },
  {
   "cell_type": "code",
   "execution_count": null,
   "metadata": {},
   "outputs": [],
   "source": []
  }
 ],
 "metadata": {
  "kernelspec": {
   "display_name": "Python 3",
   "language": "python",
   "name": "python3"
  },
  "language_info": {
   "codemirror_mode": {
    "name": "ipython",
    "version": 3
   },
   "file_extension": ".py",
   "mimetype": "text/x-python",
   "name": "python",
   "nbconvert_exporter": "python",
   "pygments_lexer": "ipython3",
   "version": "3.7.6"
  }
 },
 "nbformat": 4,
 "nbformat_minor": 4
}
