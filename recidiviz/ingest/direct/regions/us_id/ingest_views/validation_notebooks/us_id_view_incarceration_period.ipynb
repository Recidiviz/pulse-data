{
 "cells": [
  {
   "cell_type": "code",
   "execution_count": null,
   "metadata": {},
   "outputs": [],
   "source": [
    "# Allows us to use the BigQuery \"magic\" (%%bigquery)\n",
    "%load_ext google.cloud.bigquery\n",
    "\n",
    "# Required so python actually gets re-executed every time\n",
    "%load_ext autoreload\n",
    "%autoreload 2"
   ]
  },
  {
   "cell_type": "code",
   "execution_count": null,
   "metadata": {},
   "outputs": [],
   "source": [
    "import os\n",
    "import sys\n",
    "\n",
    "parts = os.path.normpath(os.getcwd()).split(os.path.sep)\n",
    "relative_path_parts = parts[:parts.index('pulse-data') + 1]\n",
    "abs_path = os.path.join('/', *relative_path_parts)\n",
    "\n",
    "if sys.path[0] != abs_path:\n",
    "    sys.path.insert(0, abs_path)\n",
    "\n",
    "from datetime import datetime\n",
    "from google.cloud import bigquery\n",
    "from typing import Optional\n",
    "\n",
    "from recidiviz.big_query.big_query_client import BigQueryClientImpl\n",
    "from recidiviz.big_query.view_update_manager import TEMP_DATASET_DEFAULT_TABLE_EXPIRATION_MS\n",
    "from recidiviz.ingest.direct.controllers.direct_ingest_view_collector import DirectIngestPreProcessedIngestViewCollector\n",
    "from recidiviz.ingest.direct.views.direct_ingest_big_query_view_types import (\n",
    "    DirectIngestPreProcessedIngestView,\n",
    "    DirectIngestPreProcessedIngestViewBuilder,\n",
    "    RawTableViewType,\n",
    ")\n",
    "from recidiviz.utils import regions\n",
    "from recidiviz.utils.environment import GCP_PROJECT_STAGING\n",
    "from recidiviz.utils.metadata import local_project_id_override, project_id\n",
    "from google.cloud.bigquery import magics\n",
    "magics.context.progress_bar_type = None\n",
    "\n",
    "region_code = 'US_ID'\n",
    "view_tag = 'movement_facility_location_offstat_incarceration_periods'\n",
    "lower_bound_dt = datetime.fromisoformat('2020-06-11')\n",
    "upper_bound_dt = datetime.fromisoformat('2020-09-21')\n",
    "dataset_prefix = 'nbhargava'\n"
   ]
  },
  {
   "cell_type": "code",
   "execution_count": null,
   "metadata": {},
   "outputs": [],
   "source": [
    "# Get the view\n",
    "with local_project_id_override(GCP_PROJECT_STAGING):\n",
    "    region = regions.get_region(region_code, is_direct_ingest=True)\n",
    "    collector = DirectIngestPreProcessedIngestViewCollector(region, [])\n",
    "\n",
    "    views_by_tag = {\n",
    "        builder.file_tag: builder.build()\n",
    "        for builder in collector.collect_view_builders()}\n",
    "\n",
    "    view = views_by_tag[view_tag]"
   ]
  },
  {
   "cell_type": "code",
   "execution_count": null,
   "metadata": {},
   "outputs": [],
   "source": [
    "# Create a dataset for materialized tables\n",
    "validation_sandbox_dataset_id = f'{dataset_prefix}_{view_tag}_validation'\n",
    "\n",
    "with local_project_id_override(GCP_PROJECT_STAGING):\n",
    "    bq_client = BigQueryClientImpl()\n",
    "\n",
    "    validation_dataset = bq_client.dataset_ref_for_id(validation_sandbox_dataset_id)\n",
    "\n",
    "    print(f'Creating dataset [{validation_dataset.project}.{validation_dataset.dataset_id}] ...')\n",
    "    bq_client.create_dataset_if_necessary(\n",
    "        validation_dataset,\n",
    "        default_table_expiration_ms=TEMP_DATASET_DEFAULT_TABLE_EXPIRATION_MS\n",
    "    )\n",
    "    print(f'Done creating dataset [{validation_dataset.project}.{validation_dataset.dataset_id}] ...')"
   ]
  },
  {
   "cell_type": "code",
   "execution_count": null,
   "metadata": {},
   "outputs": [],
   "source": [
    "# Defines a function that can be used to materialize a table for use in later queries\n",
    "def materialize_query_with_name(\n",
    "    dataset_ref: bigquery.DatasetReference,\n",
    "    view_tag: str,\n",
    "    query_name: str,\n",
    "    query: str,\n",
    "    query_dt: Optional[datetime] = None\n",
    "):\n",
    "    table_id = f'{view_tag}_{query_name}'\n",
    "    print(f'Writing {query_name} query to [{dataset_ref.project}.{dataset_ref.dataset_id}.{table_id}]...')\n",
    "    \n",
    "    parameters = [bigquery.ScalarQueryParameter('update_timestamp', 'DATETIME', query_dt)] if query_dt else None\n",
    "    create_job = bq_client.create_table_from_query_async(\n",
    "        dataset_id=dataset_ref.dataset_id,\n",
    "        table_id=table_id,\n",
    "        query=query,\n",
    "        query_parameters=parameters,\n",
    "        overwrite=True\n",
    "    )\n",
    "    create_job.result()\n",
    "    print(f'Finished writing {query_name} query.')"
   ]
  },
  {
   "cell_type": "code",
   "execution_count": null,
   "metadata": {},
   "outputs": [],
   "source": [
    "# Query the view two times and materialize the results to tables so we can analyze query determinism \n",
    "with local_project_id_override(GCP_PROJECT_STAGING):\n",
    "    latest_query = view.expanded_view_query(\n",
    "        config=DirectIngestPreProcessedIngestView.QueryStructureConfig(\n",
    "            raw_table_view_type=RawTableViewType.PARAMETERIZED,\n",
    "            param_name_override='update_timestamp'\n",
    "        )\n",
    "    )\n",
    "    latest_query = latest_query.replace('@update_timestamp', 'CURRENT_DATE()')\n",
    "    \n",
    "    materialize_query_with_name(\n",
    "        dataset_ref=validation_dataset,\n",
    "        view_tag=view_tag,\n",
    "        query_name='latest',\n",
    "        query=latest_query,\n",
    "    )\n",
    "    \n",
    "    materialize_query_with_name(\n",
    "        dataset_ref=validation_dataset,\n",
    "        view_tag=view_tag,\n",
    "        query_name='latest_duplicate',\n",
    "        query=latest_query,\n",
    "    )\n",
    "\n",
    "    print('Load complete')"
   ]
  },
  {
   "cell_type": "code",
   "execution_count": null,
   "metadata": {},
   "outputs": [],
   "source": [
    "%%bigquery\n",
    "SELECT COUNT(*)\n",
    "FROM `recidiviz-staging.nbhargava_movement_facility_location_offstat_incarceration_periods_validation.movement_facility_location_offstat_incarceration_periods_latest`"
   ]
  },
  {
   "cell_type": "code",
   "execution_count": null,
   "metadata": {},
   "outputs": [],
   "source": [
    "%%bigquery\n",
    "SELECT COUNT(*)\n",
    "FROM `recidiviz-staging.nbhargava_movement_facility_location_offstat_incarceration_periods_validation.movement_facility_location_offstat_incarceration_periods_latest_duplicate`"
   ]
  },
  {
   "cell_type": "code",
   "execution_count": null,
   "metadata": {},
   "outputs": [],
   "source": [
    "%%bigquery\n",
    "# Checks that two executions of the query are deterministic (should return 0 rows)\n",
    "SELECT * EXCEPT (prev_fac_cd, prev_fac_typ, next_fac_cd, next_fac_typ)\n",
    "FROM `recidiviz-staging.nbhargava_movement_facility_location_offstat_incarceration_periods_validation.movement_facility_location_offstat_incarceration_periods_latest`\n",
    "EXCEPT DISTINCT\n",
    "SELECT * EXCEPT (prev_fac_cd, prev_fac_typ, next_fac_cd, next_fac_typ)\n",
    "FROM `recidiviz-staging.nbhargava_movement_facility_location_offstat_incarceration_periods_validation.movement_facility_location_offstat_incarceration_periods_latest_duplicate`\n"
   ]
  },
  {
   "cell_type": "code",
   "execution_count": null,
   "metadata": {
    "scrolled": false
   },
   "outputs": [],
   "source": [
    "%%bigquery --params {\"docno\": \"64474\"}\n",
    "# This query can be used to debug what has changed between two runs of the query\n",
    "SELECT\n",
    "    *\n",
    "FROM (\n",
    "    SELECT '2NEW' AS t, *\n",
    "    FROM `recidiviz-staging.nbhargava_movement_facility_location_offstat_incarceration_periods_validation.movement_facility_location_offstat_incarceration_periods_latest`\n",
    "    UNION ALL\n",
    "    SELECT '1OLD' AS t, *\n",
    "    FROM `recidiviz-staging.nbhargava_movement_facility_location_offstat_incarceration_periods_validation.movement_facility_location_offstat_incarceration_periods_latest_duplicate`\n",
    ")\n",
    "WHERE docno = @docno\n",
    "ORDER BY incrno, period_id, start_date, end_date"
   ]
  },
  {
   "cell_type": "code",
   "execution_count": null,
   "metadata": {},
   "outputs": [],
   "source": [
    "# Query the and materialize the view with two different date bounds so we can analyze view stability over time \n",
    "with local_project_id_override(GCP_PROJECT_STAGING):\n",
    "    parameterized_query = view.expanded_view_query(\n",
    "        config=DirectIngestPreProcessedIngestView.QueryStructureConfig(\n",
    "            raw_table_view_type=RawTableViewType.PARAMETERIZED,\n",
    "        )\n",
    "    )\n",
    "\n",
    "    materialize_query_with_name(\n",
    "        dataset_ref=validation_dataset,\n",
    "        view_tag=view_tag,\n",
    "        query_name='lower_bound',\n",
    "        query=parameterized_query,\n",
    "        query_dt=lower_bound_dt\n",
    "    )\n",
    "    \n",
    "    materialize_query_with_name(\n",
    "        dataset_ref=validation_dataset,\n",
    "        view_tag=view_tag,\n",
    "        query_name='upper_bound',\n",
    "        query=parameterized_query,\n",
    "        query_dt=upper_bound_dt\n",
    "    )\n",
    "\n",
    "    print('Load complete')"
   ]
  },
  {
   "cell_type": "code",
   "execution_count": null,
   "metadata": {},
   "outputs": [],
   "source": [
    "%%bigquery\n",
    "SELECT COUNT(*)\n",
    "FROM `recidiviz-staging.nbhargava_movement_facility_location_offstat_incarceration_periods_validation.movement_facility_location_offstat_incarceration_periods_lower_bound`"
   ]
  },
  {
   "cell_type": "code",
   "execution_count": null,
   "metadata": {},
   "outputs": [],
   "source": [
    "%%bigquery\n",
    "SELECT COUNT(*)\n",
    "FROM `recidiviz-staging.nbhargava_movement_facility_location_offstat_incarceration_periods_validation.movement_facility_location_offstat_incarceration_periods_upper_bound`"
   ]
  },
  {
   "cell_type": "code",
   "execution_count": null,
   "metadata": {},
   "outputs": [],
   "source": [
    "%%bigquery\n",
    "# Returns rows that changed between two date bounded queries that we don't expect to change (dates are in the past)\n",
    "SELECT\n",
    "    *\n",
    "    # COUNT(*) AS num_unexpected_changes,\n",
    "    # COUNT(DISTINCT docno) AS num_people_unexpected_changes, \n",
    "FROM (\n",
    "    SELECT * #EXCEPT (statuses)\n",
    "    FROM `recidiviz-staging.nbhargava_movement_facility_location_offstat_incarceration_periods_validation.movement_facility_location_offstat_incarceration_periods_upper_bound`\n",
    "    EXCEPT DISTINCT\n",
    "    SELECT * #EXCEPT (statuses)\n",
    "    FROM `recidiviz-staging.nbhargava_movement_facility_location_offstat_incarceration_periods_validation.movement_facility_location_offstat_incarceration_periods_lower_bound`\n",
    ")\n",
    "WHERE start_date < '2019-01-01' AND end_date < '2019-01-01'\n",
    "# , county_of_residence, condition_codes"
   ]
  },
  {
   "cell_type": "code",
   "execution_count": null,
   "metadata": {
    "scrolled": true
   },
   "outputs": [],
   "source": [
    "%%bigquery --params {\"docno\": \"66498\"}\n",
    "# This query can be used to debug what has changed between two runs of the query\n",
    "SELECT *\n",
    "FROM (\n",
    "    SELECT '2NEW' AS t, *\n",
    "    FROM `recidiviz-staging.nbhargava_movement_facility_location_offstat_incarceration_periods_validation.movement_facility_location_offstat_incarceration_periods_upper_bound`\n",
    "    UNION ALL\n",
    "    SELECT '1OLD' AS t, *\n",
    "    FROM `recidiviz-staging.nbhargava_movement_facility_location_offstat_incarceration_periods_validation.movement_facility_location_offstat_incarceration_periods_lower_bound`\n",
    ")\n",
    "WHERE docno = @docno\n",
    "AND period_id > 30\n",
    "ORDER BY incrno, period_id, start_date, end_date\n"
   ]
  }
 ],
 "metadata": {
  "kernelspec": {
   "display_name": "Python 3",
   "language": "python",
   "name": "python3"
  },
  "language_info": {
   "codemirror_mode": {
    "name": "ipython",
    "version": 3
   },
   "file_extension": ".py",
   "mimetype": "text/x-python",
   "name": "python",
   "nbconvert_exporter": "python",
   "pygments_lexer": "ipython3",
   "version": "3.7.9"
  }
 },
 "nbformat": 4,
 "nbformat_minor": 4
}