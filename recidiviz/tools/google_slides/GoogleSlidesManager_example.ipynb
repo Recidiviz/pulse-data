{
 "cells": [
  {
   "cell_type": "markdown",
   "metadata": {
    "toc": true
   },
   "source": [
    "<h1>Table of Contents<span class=\"tocSkip\"></span></h1>\n",
    "<div class=\"toc\"><ul class=\"toc-item\"><li><span><a href=\"#Setup\" data-toc-modified-id=\"Setup-1\"><span class=\"toc-item-num\">1&nbsp;&nbsp;</span>Setup</a></span></li><li><span><a href=\"#Make-a-copy-of-the-source-Slides-deck\" data-toc-modified-id=\"Make-a-copy-of-the-source-Slides-deck-2\"><span class=\"toc-item-num\">2&nbsp;&nbsp;</span>Make a copy of the source Slides deck</a></span></li><li><span><a href=\"#Examining-existing-slide-objects\" data-toc-modified-id=\"Examining-existing-slide-objects-3\"><span class=\"toc-item-num\">3&nbsp;&nbsp;</span>Examining existing slide objects</a></span></li><li><span><a href=\"#Replacing-content\" data-toc-modified-id=\"Replacing-content-4\"><span class=\"toc-item-num\">4&nbsp;&nbsp;</span>Replacing content</a></span><ul class=\"toc-item\"><li><span><a href=\"#Replacing-text\" data-toc-modified-id=\"Replacing-text-4.1\"><span class=\"toc-item-num\">4.1&nbsp;&nbsp;</span>Replacing text</a></span></li><li><span><a href=\"#Replacing-images\" data-toc-modified-id=\"Replacing-images-4.2\"><span class=\"toc-item-num\">4.2&nbsp;&nbsp;</span>Replacing images</a></span><ul class=\"toc-item\"><li><span><a href=\"#Option-1:-using-integer-keys\" data-toc-modified-id=\"Option-1:-using-integer-keys-4.2.1\"><span class=\"toc-item-num\">4.2.1&nbsp;&nbsp;</span>Option 1: using integer keys</a></span></li><li><span><a href=\"#Option-2:-using-object-ID-(string)-keys\" data-toc-modified-id=\"Option-2:-using-object-ID-(string)-keys-4.2.2\"><span class=\"toc-item-num\">4.2.2&nbsp;&nbsp;</span>Option 2: using object ID (string) keys</a></span></li></ul></li></ul></li><li><span><a href=\"#Upload-figure-to-Drive\" data-toc-modified-id=\"Upload-figure-to-Drive-5\"><span class=\"toc-item-num\">5&nbsp;&nbsp;</span>Upload figure to Drive</a></span></li></ul></div>"
   ]
  },
  {
   "cell_type": "markdown",
   "metadata": {},
   "source": [
    "## Setup\n",
    "\n",
    "This notebook demonstates the use of GoogleSlidesManager class, which can help update content in a Slides deck from a Jupyter Notebook including replacing figures and text content."
   ]
  },
  {
   "cell_type": "code",
   "execution_count": 1,
   "metadata": {},
   "outputs": [],
   "source": [
    "# functions for referencing most recent code\n",
    "%load_ext autoreload\n",
    "%autoreload 2\n",
    "\n",
    "# add pulse-data to path\n",
    "import sys\n",
    "sys.path.append(\"../../../\")\n",
    "\n",
    "# import GoogleSlidesManager\n",
    "from slides import GoogleSlidesManager"
   ]
  },
  {
   "cell_type": "markdown",
   "metadata": {},
   "source": [
    "Initialize a GoogleSlidesManager object. You'll need to specify:\n",
    "1. `credentials_path`: local path to your credentials.json file to allow editing Google Drive files. Download this from https://console.developers.google.com/apis/credentials\n",
    "2. `slides_id`: Google Drive-provided ID for the Google Slides presentation you want to manage, which can be found in the presentation's URL"
   ]
  },
  {
   "cell_type": "code",
   "execution_count": 2,
   "metadata": {},
   "outputs": [
    {
     "name": "stdout",
     "output_type": "stream",
     "text": [
      "\n",
      "Managing this presentation:\n",
      "https://docs.google.com/presentation/d/1VH2uoIbcqPldYtaSSff93of47TFXZ13uNn0N6sKQ6z0\n",
      "\n",
      "in this folder:\n",
      "https://drive.google.com/drive/folders/1Ttjlrn-Kk4cYLkzFl5e2-M1dSlfdZXAP\n",
      "\n"
     ]
    },
    {
     "data": {
      "text/plain": [
       "<slides.GoogleSlidesManager at 0x108142c40>"
      ]
     },
     "execution_count": 2,
     "metadata": {},
     "output_type": "execute_result"
    }
   ],
   "source": [
    "# provide a path to your credentials.json file \n",
    "CREDENTIALS_PATH = '/Users/zack/Downloads/' \n",
    "\n",
    "# get this from the URL of the source Slides deck\n",
    "SLIDES_ID = '1VH2uoIbcqPldYtaSSff93of47TFXZ13uNn0N6sKQ6z0'\n",
    "\n",
    "# initialize the class object\n",
    "manager = GoogleSlidesManager(\n",
    "    credentials_path = CREDENTIALS_PATH, \n",
    "    slides_id = SLIDES_ID,\n",
    ")\n",
    "\n",
    "manager"
   ]
  },
  {
   "cell_type": "markdown",
   "metadata": {},
   "source": [
    "## Make a copy of the source Slides deck\n",
    "\n",
    "Use this method in case you want to make a copy of the Slides deck (as opposed to editing it directly). This is useful if you have a template (e.g. State of the State) and want to make copies for each state."
   ]
  },
  {
   "cell_type": "code",
   "execution_count": 3,
   "metadata": {},
   "outputs": [
    {
     "name": "stdout",
     "output_type": "stream",
     "text": [
      "Created directory Zack's folder.\n",
      "\n",
      "Copied template as Zack's copy of template at this address:\n",
      "https://docs.google.com/presentation/d/1hs-Ouplp-j1bNJXD1fHx5ytMvxrW7xIen_vLx1_freY\n",
      "\n",
      "in this folder:\n",
      "https://drive.google.com/drive/folders/1FuKBp5kYMJR2PBmtikshKnCU3a4y3ucY\n",
      "            \n"
     ]
    }
   ],
   "source": [
    "# set function parameters:\n",
    "\n",
    "# name of the new Slides name\n",
    "NEW_SLIDES_NAME = \"Zack's copy of template\"\n",
    "\n",
    "# name of the parent directory where the new copy will live\n",
    "PARENT_DIRECTORY_ID = \"1MWEmESOsgKdMD8TteybDehso00aBXCvP\"\n",
    "\n",
    "# Optional: name of a new folder to place the new copy\n",
    "# If None, then places copy in specified parent directory\n",
    "NEW_DIRECTORY_NAME = None\n",
    "NEW_DIRECTORY_NAME = \"Zack's folder\"\n",
    "\n",
    "\n",
    "# copy the template\n",
    "manager.copy_slides(\n",
    "    new_slides_name = NEW_SLIDES_NAME,\n",
    "    parent_directory_id = PARENT_DIRECTORY_ID,\n",
    "    new_directory_name = NEW_DIRECTORY_NAME,\n",
    "    keep_managing_template = False\n",
    ")"
   ]
  },
  {
   "cell_type": "markdown",
   "metadata": {},
   "source": [
    "## Examining existing slide objects\n",
    "\n",
    "Use these methods to examine objects currently in the managed Slides deck:\n",
    "- `get_image_objects`: for a provided set of slide numbers, returns any image objects found."
   ]
  },
  {
   "cell_type": "code",
   "execution_count": 4,
   "metadata": {},
   "outputs": [
    {
     "name": "stderr",
     "output_type": "stream",
     "text": [
      "Cannot access slide 4. Verify that the slide exists.\n"
     ]
    },
    {
     "name": "stdout",
     "output_type": "stream",
     "text": [
      "{1: [], 3: ['ge2e01250d9_1_0', 'ge4c70a8c53_0_1']}\n"
     ]
    }
   ],
   "source": [
    "image_objects = manager.get_image_objects(\n",
    "    slide_numbers = [1, 3, 4]\n",
    ")\n",
    "\n",
    "print(image_objects)\n",
    "\n",
    "# Notice a warning for slide 4, which doesn't exist.    "
   ]
  },
  {
   "cell_type": "markdown",
   "metadata": {},
   "source": [
    "## Replacing content\n",
    "\n",
    "Using `update_slides`, one can replace text and upload images."
   ]
  },
  {
   "cell_type": "markdown",
   "metadata": {},
   "source": [
    "### Replacing text\n",
    "\n",
    "Set a dictionary like:\n",
    "```\n",
    "text_replace_dict = {\n",
    "    \"old_title\": \"new_title\",\n",
    "}\n",
    "```\n",
    "and the method will replace all exact matches of the dictionary keys with the associated values. Case sensitive!\n",
    "\n",
    "You can include a list of `slide_numbers` to restrict where the search occurs."
   ]
  },
  {
   "cell_type": "code",
   "execution_count": 5,
   "metadata": {},
   "outputs": [
    {
     "name": "stdout",
     "output_type": "stream",
     "text": [
      "Google Slides deck updated!\n"
     ]
    }
   ],
   "source": [
    "# set params\n",
    "SLIDE_NUMBERS = [1, 2]\n",
    "TEXT_REPLACE_DICT = {\n",
    "    \"{{graph1_title}}\": \"This is the first graph\",\n",
    "    \"{{graph2_title}}\": \"This is the second graph\",\n",
    "}\n",
    "\n",
    "# update the slide text\n",
    "manager.update_slides(\n",
    "    slide_numbers = SLIDE_NUMBERS,\n",
    "    text_replace_dict = TEXT_REPLACE_DICT,\n",
    ")\n",
    "\n",
    "# observe that {{graph2_title}} was NOT replaced since it's on slide 3\n",
    "# and slide_numbers does not include slide 3."
   ]
  },
  {
   "cell_type": "markdown",
   "metadata": {},
   "source": [
    "###  Replacing images\n",
    "\n",
    "You can replace images using `update_slides`. First, create a graph and save it locally (somewhere easy to find)."
   ]
  },
  {
   "cell_type": "code",
   "execution_count": 6,
   "metadata": {},
   "outputs": [
    {
     "name": "stdout",
     "output_type": "stream",
     "text": [
      "File saved: /Users/zack/Downloads/figure1.png\n"
     ]
    },
    {
     "data": {
      "text/plain": [
       "<Figure size 576x432 with 0 Axes>"
      ]
     },
     "metadata": {},
     "output_type": "display_data"
    },
    {
     "data": {
      "image/png": "[encoded data removed]",
      "text/plain": [
       "<Figure size 432x288 with 1 Axes>"
      ]
     },
     "metadata": {
      "needs_background": "light"
     },
     "output_type": "display_data"
    },
    {
     "name": "stdout",
     "output_type": "stream",
     "text": [
      "File saved: /Users/zack/Downloads/figure2.png\n"
     ]
    },
    {
     "data": {
      "text/plain": [
       "<Figure size 576x432 with 0 Axes>"
      ]
     },
     "metadata": {},
     "output_type": "display_data"
    },
    {
     "data": {
      "image/png": "[encoded data removed]",
      "text/plain": [
       "<Figure size 432x288 with 1 Axes>"
      ]
     },
     "metadata": {
      "needs_background": "light"
     },
     "output_type": "display_data"
    }
   ],
   "source": [
    "import pandas as pd\n",
    "import numpy as np\n",
    "import matplotlib.pyplot as plt\n",
    "\n",
    "def make_random_graph(graph_name: str,\n",
    "                     file_path:str) -> None:\n",
    "    \"\"\"\n",
    "    Plots random graph and saves file_path/graph_name.png.\n",
    "    \"\"\"\n",
    "    # make sure path ends with /\n",
    "    if file_path[-1] != '/':\n",
    "        file_path += '/'        \n",
    "    \n",
    "    df = pd.DataFrame(np.random.randint(0,100,size=(36,6)), \n",
    "                      columns=range(2015,2021)).cumsum()\n",
    "    fig = plt.figure(figsize=(8,6))\n",
    "    ax = df.plot(alpha = .8)\n",
    "\n",
    "    ax.set_title('Some Interesting ' + graph_name)\n",
    "    ax.set_ylabel('Numbers')\n",
    "    ax.set_xlabel('Months')\n",
    "    ax.legend(loc='center left', \n",
    "                       bbox_to_anchor=(1, 0.5),\n",
    "                       title = 'Year')\n",
    "    file_name = file_path + graph_name + '.png'\n",
    "    plt.savefig(file_name, bbox_inches = 'tight')\n",
    "    print(f\"File saved: {file_name}\")\n",
    "    plt.show()\n",
    "\n",
    "make_random_graph(graph_name='figure1',\n",
    "                  file_path='/Users/zack/Downloads')\n",
    "make_random_graph(graph_name='figure2',\n",
    "                  file_path='/Users/zack/Downloads')"
   ]
  },
  {
   "cell_type": "markdown",
   "metadata": {},
   "source": [
    "#### Option 1: using integer keys\n",
    "\n",
    "Then, you can replace images using `figure_replace_dict`. The keys in this dictionary correspond with the order of images as they appear in `slide_numbers` (starting with 0)."
   ]
  },
  {
   "cell_type": "code",
   "execution_count": 7,
   "metadata": {},
   "outputs": [
    {
     "name": "stdout",
     "output_type": "stream",
     "text": [
      "Uploaded figure figure1.png\n",
      "Google Slides deck updated!\n",
      "All uploaded figures deleted.\n"
     ]
    }
   ],
   "source": [
    "# set params\n",
    "SLIDE_NUMBERS = [1, 2]\n",
    "path = \"/Users/zack/Downloads/\"\n",
    "FIGURE_REPLACE_DICT = {\n",
    "    0: path + \"figure1.png\",\n",
    "}\n",
    "\n",
    "# update the slide figures\n",
    "manager.update_slides(\n",
    "    slide_numbers = SLIDE_NUMBERS,\n",
    "    figure_replace_dict = FIGURE_REPLACE_DICT,\n",
    ")\n",
    "\n",
    "# Notice that in slides 1-2, there is only one figure,\n",
    "# which is replaced with figure1.png."
   ]
  },
  {
   "cell_type": "code",
   "execution_count": 8,
   "metadata": {},
   "outputs": [
    {
     "ename": "ValueError",
     "evalue": "Cannot find image with key: 0. Verify that it exists.",
     "output_type": "error",
     "traceback": [
      "\u001b[0;31m---------------------------------------------------------------------------\u001b[0m",
      "\u001b[0;31mValueError\u001b[0m                                Traceback (most recent call last)",
      "\u001b[0;32m/var/folders/tn/7qj50s3n0mbfh39gwd1dyz180000gn/T/ipykernel_15810/1170851319.py\u001b[0m in \u001b[0;36m<module>\u001b[0;34m\u001b[0m\n\u001b[1;32m      7\u001b[0m \u001b[0;34m\u001b[0m\u001b[0m\n\u001b[1;32m      8\u001b[0m \u001b[0;31m# update the slide figures\u001b[0m\u001b[0;34m\u001b[0m\u001b[0;34m\u001b[0m\u001b[0;34m\u001b[0m\u001b[0m\n\u001b[0;32m----> 9\u001b[0;31m manager.update_slides(\n\u001b[0m\u001b[1;32m     10\u001b[0m     \u001b[0mslide_numbers\u001b[0m \u001b[0;34m=\u001b[0m \u001b[0mSLIDE_NUMBERS\u001b[0m\u001b[0;34m,\u001b[0m\u001b[0;34m\u001b[0m\u001b[0;34m\u001b[0m\u001b[0m\n\u001b[1;32m     11\u001b[0m     \u001b[0mfigure_replace_dict\u001b[0m \u001b[0;34m=\u001b[0m \u001b[0mFIGURE_REPLACE_DICT\u001b[0m\u001b[0;34m,\u001b[0m\u001b[0;34m\u001b[0m\u001b[0;34m\u001b[0m\u001b[0m\n",
      "\u001b[0;32m~/github/recidiviz/pulse-data/recidiviz/tools/google_slides/slides.py\u001b[0m in \u001b[0;36mupdate_slides\u001b[0;34m(self, slide_numbers, text_replace_dict, figure_replace_dict)\u001b[0m\n\u001b[1;32m    334\u001b[0m                 \u001b[0;31m# verify that image_object_id exists\u001b[0m\u001b[0;34m\u001b[0m\u001b[0;34m\u001b[0m\u001b[0;34m\u001b[0m\u001b[0m\n\u001b[1;32m    335\u001b[0m                 \u001b[0;32mif\u001b[0m \u001b[0;34m(\u001b[0m\u001b[0;32mnot\u001b[0m \u001b[0mimage_object_id\u001b[0m\u001b[0;34m)\u001b[0m \u001b[0;32mor\u001b[0m \u001b[0;34m(\u001b[0m\u001b[0mimage_object_id\u001b[0m \u001b[0;32mnot\u001b[0m \u001b[0;32min\u001b[0m \u001b[0mimage_objects\u001b[0m\u001b[0;34m)\u001b[0m\u001b[0;34m:\u001b[0m\u001b[0;34m\u001b[0m\u001b[0;34m\u001b[0m\u001b[0m\n\u001b[0;32m--> 336\u001b[0;31m                     raise ValueError(\n\u001b[0m\u001b[1;32m    337\u001b[0m                         \u001b[0;34mf\"Cannot find image with key: {figure_key}. Verify that it exists.\"\u001b[0m\u001b[0;34m\u001b[0m\u001b[0;34m\u001b[0m\u001b[0m\n\u001b[1;32m    338\u001b[0m                     )\n",
      "\u001b[0;31mValueError\u001b[0m: Cannot find image with key: 0. Verify that it exists."
     ]
    }
   ],
   "source": [
    "# set params\n",
    "SLIDE_NUMBERS = [1]\n",
    "path = \"/Users/zack/Downloads/\"\n",
    "FIGURE_REPLACE_DICT = {\n",
    "    0: path + \"figure2.png\",\n",
    "}\n",
    "\n",
    "# update the slide figures\n",
    "manager.update_slides(\n",
    "    slide_numbers = SLIDE_NUMBERS,\n",
    "    figure_replace_dict = FIGURE_REPLACE_DICT,\n",
    ")\n",
    "\n",
    "# Notice that in slide 1, there is no figure,\n",
    "# so an error is raised."
   ]
  },
  {
   "cell_type": "markdown",
   "metadata": {},
   "source": [
    "#### Option 2: using object ID (string) keys\n",
    "\n",
    "Alternatively, you can use the object IDs for the Slide image as the keys in `figure_replace_dict`. Finding these objects IDs is easy using `get_image_objects`. This may be preferrable since the object ID will remain constant in the Slides deck even if the order of images changes."
   ]
  },
  {
   "cell_type": "code",
   "execution_count": 9,
   "metadata": {
    "scrolled": true
   },
   "outputs": [
    {
     "name": "stdout",
     "output_type": "stream",
     "text": [
      "{2: ['ge4c70a8c53_0_0']}\n",
      "Uploaded figure figure2.png\n",
      "Google Slides deck updated!\n",
      "All uploaded figures deleted.\n"
     ]
    }
   ],
   "source": [
    "# get image object IDs in the slide range provided\n",
    "print(manager.get_image_objects(slide_numbers=[2]))\n",
    "\n",
    "# There's only one image_id, so let's replace that:\n",
    "FIGURE_REPLACE_DICT = {\n",
    "    'ge4c70a8c53_0_0': path + \"figure2.png\",\n",
    "}\n",
    "\n",
    "# replace the provided images\n",
    "manager.update_slides(\n",
    "    figure_replace_dict = FIGURE_REPLACE_DICT,\n",
    ")"
   ]
  },
  {
   "cell_type": "markdown",
   "metadata": {},
   "source": [
    "## Upload figure to Drive\n",
    "\n",
    "Maybe you don't want to upload a figure directly to a presentation, but instead want to upload a figure to a Drive folder. Use `manager.upload_figure()`."
   ]
  },
  {
   "cell_type": "code",
   "execution_count": 10,
   "metadata": {},
   "outputs": [
    {
     "name": "stdout",
     "output_type": "stream",
     "text": [
      "Uploaded figure figure1.png\n"
     ]
    },
    {
     "data": {
      "text/plain": [
       "('1ycAvWpr89Nql2h9PCCzx9asHltZglJwu',\n",
       " 'https://drive.google.com/uc?id=1ycAvWpr89Nql2h9PCCzx9asHltZglJwu&export=download')"
      ]
     },
     "execution_count": 10,
     "metadata": {},
     "output_type": "execute_result"
    }
   ],
   "source": [
    "manager.upload_figure(path + \"figure1.png\")"
   ]
  },
  {
   "cell_type": "markdown",
   "metadata": {},
   "source": [
    "If you want to upload to a different folder, provide the Drive folder ID using parameter `parent_directory_id`:"
   ]
  },
  {
   "cell_type": "code",
   "execution_count": 11,
   "metadata": {},
   "outputs": [
    {
     "name": "stdout",
     "output_type": "stream",
     "text": [
      "\n",
      "Uploaded figure1.png to this folder:\n",
      "https://drive.google.com/drive/folders/1Ttjlrn-Kk4cYLkzFl5e2-M1dSlfdZXAP\n",
      "                \n"
     ]
    },
    {
     "data": {
      "text/plain": [
       "('14Lwes224_9Sz-nPOGtwXCM1GIZA9DJk_',\n",
       " 'https://drive.google.com/uc?id=14Lwes224_9Sz-nPOGtwXCM1GIZA9DJk_&export=download')"
      ]
     },
     "execution_count": 11,
     "metadata": {},
     "output_type": "execute_result"
    }
   ],
   "source": [
    "folder_id = \"1Ttjlrn-Kk4cYLkzFl5e2-M1dSlfdZXAP\"\n",
    "\n",
    "manager.upload_figure(path + \"figure1.png\",\n",
    "                      parent_directory_id=folder_id)"
   ]
  }
 ],
 "metadata": {
  "kernelspec": {
   "display_name": "Python 3 (ipykernel)",
   "language": "python",
   "name": "python3"
  },
  "language_info": {
   "codemirror_mode": {
    "name": "ipython",
    "version": 3
   },
   "file_extension": ".py",
   "mimetype": "text/x-python",
   "name": "python",
   "nbconvert_exporter": "python",
   "pygments_lexer": "ipython3",
   "version": "3.8.8"
  },
  "toc": {
   "base_numbering": 1,
   "nav_menu": {},
   "number_sections": true,
   "sideBar": true,
   "skip_h1_title": false,
   "title_cell": "Table of Contents",
   "title_sidebar": "Contents",
   "toc_cell": true,
   "toc_position": {
    "height": "calc(100% - 180px)",
    "left": "10px",
    "top": "150px",
    "width": "288px"
   },
   "toc_section_display": true,
   "toc_window_display": true
  }
 },
 "nbformat": 4,
 "nbformat_minor": 4
}
