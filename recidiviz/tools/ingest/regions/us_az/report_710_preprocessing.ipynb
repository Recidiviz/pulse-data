{
 "cells": [
  {
   "cell_type": "code",
   "execution_count": 115,
   "id": "e851acf4-ff3b-4e37-9f59-20a78232a15b",
   "metadata": {
    "jupyter": {
     "source_hidden": true
    }
   },
   "outputs": [],
   "source": [
    "import csv\n",
    "import pandas as pd\n",
    "import os\n",
    "import datetime"
   ]
  },
  {
   "cell_type": "markdown",
   "id": "addd9230-0089-4492-b463-3009df9fa7a3",
   "metadata": {},
   "source": [
    "## Report 710 Preprocessing\n",
    "**Input**: A folder that contains the Report 710, in CSV format, for each administrative region in AZ, run on the current date.\n",
    "\n",
    "**Output**: Raw data in the format of `validation_incarceration_population_person_level`. See raw data config for that file [here](https://github.com/Recidiviz/pulse-data/blob/main/recidiviz/ingest/direct/regions/us_az/raw_data/us_az_validation_incarceration_population_person_level.yaml).\n"
   ]
  },
  {
   "cell_type": "markdown",
   "id": "7124511c-12b3-484a-8650-a0b44e2f0e70",
   "metadata": {
    "jp-MarkdownHeadingCollapsed": true
   },
   "source": [
    "### Prework\n",
    "\n",
    "See instructions for how to access and download these reports in the [ACIS Reports Cheat Sheet](https://docs.google.com/document/d/1D_ZsDS7FQMbzychIjRBD6BTi2h31_PLcMNogmz8Ys3Y/edit?usp=sharing) at go/arizona. \n",
    "\n",
    "You should start this process with a folder of 16 CSV files with this structure: "
   ]
  },
  {
   "cell_type": "raw",
   "id": "f6ff9cc2-258e-4b4d-8fc7-2e49b33464be",
   "metadata": {},
   "source": [
    "textBox35,textBox32,textBox31,textBox30,textBox29,textBox28,textBox27,textBox26,textBox25,textBox24,textBox23,textBox22,textBox45,textBox44,textBox43,textBox42,textBox41,textBox40,textBox39,textBox38,textBox37,textBox36,textBox49,textBox47,textBox46,textBox15,textBox16,textBox2,textBox3,textBox4,textBox5,textBox7,textBox8,textBox9,textBox10,textBox11,textBox12,textBox13,textBox14,textBox48\n",
    "ADC#,--INMATE NAME--,CU,IR,MD,MH,ED,WB,WK,SA,SX,DU,,,,,,,,,,,LOC,TOTAL INMATES REPORTED,1274,TOTAL INMATES REPORTED,1274,<real data starts>...\n",
    "ADC#,--INMATE NAME--,CU,IR,MD,MH,ED,WB,WK,SA,SX,DU,,,,,,,,,,,LOC,TOTAL INMATES REPORTED,1274,TOTAL INMATES REPORTED,1274,<real data starts>...\n",
    "ADC#,--INMATE NAME--,CU,IR,MD,MH,ED,WB,WK,SA,SX,DU,,,,,,,,,,,LOC,TOTAL INMATES REPORTED,1274,TOTAL INMATES REPORTED,1274,<real data starts>...\n",
    "ADC#,--INMATE NAME--,CU,IR,MD,MH,ED,WB,WK,SA,SX,DU,,,,,,,,,,,LOC,TOTAL INMATES REPORTED,1274,TOTAL INMATES REPORTED,1274,<real data starts>...\n",
    "ADC#,--INMATE NAME--,CU,IR,MD,MH,ED,WB,WK,SA,SX,DU,,,,,,,,,,,LOC,TOTAL INMATES REPORTED,1274,TOTAL INMATES REPORTED,1274,<real data starts>...\n",
    "ADC#,--INMATE NAME--,CU,IR,MD,MH,ED,WB,WK,SA,SX,DU,,,,,,,,,,,LOC,TOTAL INMATES REPORTED,1274,TOTAL INMATES REPORTED,1274,<real data starts>..."
   ]
  },
  {
   "cell_type": "markdown",
   "id": "e2fe18d7-ce79-408f-af03-68dfc2445416",
   "metadata": {},
   "source": [
    "### Process"
   ]
  },
  {
   "cell_type": "markdown",
   "id": "8966961a-fc77-47d2-9cc1-5337ca4218e9",
   "metadata": {},
   "source": [
    "**Action Required:** Enter the path to the directory where the reports are saved in the `directory_in_str` variable."
   ]
  },
  {
   "cell_type": "code",
   "execution_count": null,
   "id": "c547f9fb-887a-4462-82b3-ebb77f226162",
   "metadata": {},
   "outputs": [],
   "source": [
    "directory_in_str = \"/Users/elisegonzalez/Downloads/Report 710 Downloaded 2024-11-11\""
   ]
  },
  {
   "cell_type": "markdown",
   "id": "17a98ef6-4e36-4b6d-96cc-a8f0c437622e",
   "metadata": {},
   "source": [
    "Combine all CSV files in the input directory into a single DataFrame. Remove unnecessary information and improper formatting."
   ]
  },
  {
   "cell_type": "code",
   "execution_count": null,
   "id": "ff5f02c4-120a-4e27-9576-badfcb6c6f9d",
   "metadata": {
    "jupyter": {
     "source_hidden": true
    }
   },
   "outputs": [],
   "source": [
    "all_rows = []\n",
    "directory = os.fsencode(directory_in_str)\n",
    "\n",
    "for file in os.listdir(directory):\n",
    "    filename = os.fsdecode(file)\n",
    "    if filename.endswith(\".csv\"):\n",
    "        file_path = os.path.join(directory_in_str, filename)\n",
    "        with open(file_path) as f:\n",
    "            # skip first line\n",
    "            reader = csv.reader(f)\n",
    "            next(reader, None)\n",
    "            for row in reader:\n",
    "                all_rows.append(row)\n",
    "    else:\n",
    "        print(\"Skipped processing of \" + filename)\n",
    "        continue"
   ]
  },
  {
   "cell_type": "code",
   "execution_count": null,
   "id": "7684aaee-6856-4ece-be2f-fa4e2aa94d51",
   "metadata": {
    "jupyter": {
     "source_hidden": true
    }
   },
   "outputs": [],
   "source": [
    "processed = pd.DataFrame(all_rows[1:]).iloc[:, 27:40]\n",
    "processed.columns = [\n",
    "    \"ADC_NUMBER\",\n",
    "    \"NAME\",\n",
    "    \"CU\",\n",
    "    \"IR\",\n",
    "    \"MD\",\n",
    "    \"MH\",\n",
    "    \"ED\",\n",
    "    \"WB\",\n",
    "    \"WK\",\n",
    "    \"SA\",\n",
    "    \"SX\",\n",
    "    \"DU\",\n",
    "    \"LOC\",\n",
    "]\n",
    "processed.set_index(\"ADC_NUMBER\", inplace=True)\n",
    "processed[\"REPORT_DATE\"] = datetime.date.today()"
   ]
  },
  {
   "cell_type": "markdown",
   "id": "0e50d8b2-5bf6-43f6-999a-c1ea16eb7535",
   "metadata": {},
   "source": [
    "**Action Required:** Make sure the processed table is formatted as expected."
   ]
  },
  {
   "cell_type": "code",
   "execution_count": null,
   "id": "8f9a71d3-c7e4-4312-ad98-f82e699aacdb",
   "metadata": {},
   "outputs": [],
   "source": [
    "processed.head()"
   ]
  },
  {
   "cell_type": "markdown",
   "id": "dc6d016c-7e60-4a82-917f-3f43ac9f56b1",
   "metadata": {},
   "source": [
    "Export the processed data to a CSV file in the input directory. "
   ]
  },
  {
   "cell_type": "code",
   "execution_count": 97,
   "id": "7ac3f8d7-2560-4b1d-b79c-e97323ad7909",
   "metadata": {},
   "outputs": [],
   "source": [
    "processed.to_csv(\n",
    "    os.path.join(\n",
    "        directory_in_str, \"validation_incarceration_population_person_level.csv\"\n",
    "    )\n",
    ")"
   ]
  },
  {
   "cell_type": "markdown",
   "id": "57b4d430-e709-41f7-8073-a8c05ecfe014",
   "metadata": {},
   "source": [
    "### Test and Upload as Raw Data"
   ]
  },
  {
   "cell_type": "markdown",
   "id": "5fba643f-aef0-4dc6-a68a-ebbfceceace8",
   "metadata": {},
   "source": [
    "**Action Required:** Copy the commands below into a terminal to upload the processed data to a scratch bucket and test import to a sandbox."
   ]
  },
  {
   "cell_type": "code",
   "execution_count": null,
   "id": "af26b86b-0087-4724-88e4-5d177427bcaf",
   "metadata": {},
   "outputs": [],
   "source": [
    "python -m recidiviz.tools.ingest.operations.upload_raw_state_files_to_ingest_bucket_with_date os.path.join(directory_in_str, 'validation_incarceration_population_person_level.csv') --region us_az --project-id recidiviz-staging --date datetime.date.today() --destination-bucket recidiviz-staging-us-az-test --dry-run False"
   ]
  },
  {
   "cell_type": "code",
   "execution_count": null,
   "id": "a3613a9b-e36e-4a50-b83d-5bdfee5c4fbf",
   "metadata": {},
   "outputs": [],
   "source": [
    "python -m recidiviz.tools.ingest.operations.import_raw_files_to_sandbox --state-code US_AZ --sandbox-dataset-prefix arizona --source-bucket recidiviz-staging-us-az-test --file-tag-filter-regex validation_incarceration_population_person_level --infra-type legacy"
   ]
  },
  {
   "cell_type": "markdown",
   "id": "5a0d1e13-0264-47dc-a716-f15e2ebf35c5",
   "metadata": {},
   "source": [
    "**Action Required:** Copy the commands below into a terminal to upload the processed data to the AZ ingest bucket."
   ]
  },
  {
   "cell_type": "markdown",
   "id": "6e8fa009-a4ad-4d7d-83b8-9c754197d102",
   "metadata": {},
   "source": [
    "Staging:"
   ]
  },
  {
   "cell_type": "code",
   "execution_count": null,
   "id": "d56bf493-293b-42ac-8ddc-f2285a319ebb",
   "metadata": {},
   "outputs": [],
   "source": [
    "python -m recidiviz.tools.ingest.operations.upload_raw_state_files_to_ingest_bucket_with_date os.path.join(directory_in_str, 'validation_incarceration_population_person_level.csv') --region us_az --project-id recidiviz-staging --date datetime.date.today() --destination-bucket recidiviz-staging-direct-ingest-state-us-az --dry-run False"
   ]
  },
  {
   "cell_type": "markdown",
   "id": "0d7d6526-554a-4e2c-938f-1e0759ca3785",
   "metadata": {},
   "source": [
    "Production:"
   ]
  },
  {
   "cell_type": "code",
   "execution_count": null,
   "id": "6994fb05-136a-46e6-81e7-e16bc12f8b2e",
   "metadata": {},
   "outputs": [],
   "source": [
    "python -m recidiviz.tools.ingest.operations.upload_raw_state_files_to_ingest_bucket_with_date os.path.join(directory_in_str, 'validation_incarceration_population_person_level.csv') --region us_az --project-id recidiviz-123 --date datetime.date.today() --destination-bucket recidiviz-123-direct-ingest-state-us-az --dry-run False"
   ]
  }
 ],
 "metadata": {
  "kernelspec": {
   "display_name": "Python 3 (ipykernel)",
   "language": "python",
   "name": "python3"
  },
  "language_info": {
   "codemirror_mode": {
    "name": "ipython",
    "version": 3
   },
   "file_extension": ".py",
   "mimetype": "text/x-python",
   "name": "python",
   "nbconvert_exporter": "python",
   "pygments_lexer": "ipython3",
   "version": "3.11.6"
  },
  "vscode": {
   "interpreter": {
    "hash": "c99ec52292dd0685ac061e9a94e43c2963b4ad8a119115aed08b734f08747c1a"
   }
  }
 },
 "nbformat": 4,
 "nbformat_minor": 5
}
